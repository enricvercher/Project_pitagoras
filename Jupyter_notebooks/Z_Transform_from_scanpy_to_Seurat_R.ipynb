{
 "cells": [
  {
   "cell_type": "code",
   "execution_count": 1,
   "metadata": {
    "vscode": {
     "languageId": "r"
    }
   },
   "outputs": [],
   "source": [
    "suppressMessages(suppressWarnings({\n",
    "  library(Seurat)\n",
    "  library(SeuratDisk)\n",
    "  library(scater)\n",
    "  library(cowplot)\n",
    "  library(reticulate)\n",
    "  library(Matrix)\n",
    "  library(schard) \n",
    "  library(patchwork)\n",
    "  library(ggplot2)\n",
    "  library(reshape2)\n",
    "  }))"
   ]
  },
  {
   "cell_type": "code",
   "execution_count": 2,
   "metadata": {
    "vscode": {
     "languageId": "r"
    }
   },
   "outputs": [],
   "source": [
    "# Ruta al archivo .h5ad\n",
    "h5ad_file <- \"/data/scratch/LAB/enric/Proyecto_pitagoras/Analisis_pitagoras/Results/datos_concatenados/adata_concatenados_10_pt.h5ad\""
   ]
  },
  {
   "cell_type": "code",
   "execution_count": 3,
   "metadata": {
    "vscode": {
     "languageId": "r"
    }
   },
   "outputs": [],
   "source": [
    "# Convertir con las capas deseadas\n",
    "seurat_object <- h5ad2seurat(h5ad_file)"
   ]
  },
  {
   "cell_type": "code",
   "execution_count": 4,
   "metadata": {
    "vscode": {
     "languageId": "r"
    }
   },
   "outputs": [
    {
     "data": {
      "text/plain": [
       "An object of class Seurat \n",
       "23209 features across 53542 samples within 1 assay \n",
       "Active assay: RNA (23209 features, 0 variable features)\n",
       " 2 layers present: counts, data"
      ]
     },
     "metadata": {},
     "output_type": "display_data"
    }
   ],
   "source": [
    "seurat_object"
   ]
  },
  {
   "cell_type": "code",
   "execution_count": 4,
   "metadata": {
    "vscode": {
     "languageId": "r"
    }
   },
   "outputs": [],
   "source": [
    "# Archivo con la matriz normalizada\n",
    "normalized_file <- \"normalized_with_names.h5ad\"\n",
    "normalized_object <- h5ad2seurat(normalized_file)"
   ]
  },
  {
   "cell_type": "code",
   "execution_count": 5,
   "metadata": {
    "vscode": {
     "languageId": "r"
    }
   },
   "outputs": [],
   "source": [
    "# Extraer la matriz normalizada\n",
    "normalized_matrix <- normalized_object[[\"RNA\"]]@data\n",
    "\n",
    "# Confirmar coincidencias de nombres\n",
    "if (!all(colnames(normalized_matrix) == colnames(seurat_object[[\"RNA\"]]@counts))) {\n",
    "    stop(\"Los nombres de las células no coinciden entre los objetos\")\n",
    "}\n",
    "if (!all(rownames(normalized_matrix) == rownames(seurat_object[[\"RNA\"]]@counts))) {\n",
    "    stop(\"Los nombres de los genes no coinciden entre los objetos\")\n",
    "}\n",
    "\n",
    "# Asignar la matriz normalizada al objeto principal\n",
    "seurat_object[[\"RNA\"]]@data <- normalized_matrix"
   ]
  },
  {
   "cell_type": "code",
   "execution_count": 6,
   "metadata": {
    "vscode": {
     "languageId": "r"
    }
   },
   "outputs": [],
   "source": [
    "# Leer las matrices\n",
    "connectivities <- readMM(\"connectivities.mtx\")\n",
    "distances <- readMM(\"distances.mtx\")\n",
    "# Asignar a @graphs\n",
    "seurat_object@graphs[[\"connectivities\"]] <- connectivities\n",
    "seurat_object@graphs[[\"distances\"]] <- distances"
   ]
  },
  {
   "cell_type": "code",
   "execution_count": 6,
   "metadata": {
    "vscode": {
     "languageId": "r"
    }
   },
   "outputs": [
    {
     "name": "stdout",
     "output_type": "stream",
     "text": [
      "Formal class 'Seurat' [package \"SeuratObject\"] with 13 slots\n",
      "  ..@ assays      :List of 1\n",
      "  .. ..$ RNA:Formal class 'Assay' [package \"SeuratObject\"] with 8 slots\n",
      "  .. .. .. ..@ counts       :Formal class 'dgCMatrix' [package \"Matrix\"] with 6 slots\n",
      "  .. .. .. .. .. ..@ i       : int [1:115498997] 35 38 60 73 81 85 96 100 103 104 ...\n",
      "  .. .. .. .. .. ..@ p       : int [1:53543] 0 1669 4402 6952 9086 11226 12871 15221 16837 18977 ...\n",
      "  .. .. .. .. .. ..@ Dim     : int [1:2] 23209 53542\n",
      "  .. .. .. .. .. ..@ Dimnames:List of 2\n",
      "  .. .. .. .. .. .. ..$ : chr [1:23209] \"A1BG\" \"A1BG-AS1\" \"A1CF\" \"A2M\" ...\n",
      "  .. .. .. .. .. .. ..$ : chr [1:53542] \"AAACCTGAGAAGAAGC-1_PT14\" \"AAACCTGAGGACAGAA-1_PT14\" \"AAACCTGAGTGGAGTC-1_PT14\" \"AAACCTGAGTGTCTCA-1_PT14\" ...\n",
      "  .. .. .. .. .. ..@ x       : num [1:115498997] 2 1 1 1 1 1 1 1 1 1 ...\n",
      "  .. .. .. .. .. ..@ factors : list()\n",
      "  .. .. .. ..@ data         :Formal class 'dgCMatrix' [package \"Matrix\"] with 6 slots\n",
      "  .. .. .. .. .. ..@ i       : int [1:115498997] 35 38 60 73 81 85 96 100 103 104 ...\n",
      "  .. .. .. .. .. ..@ p       : int [1:53543] 0 1669 4402 6952 9086 11226 12871 15221 16837 18977 ...\n",
      "  .. .. .. .. .. ..@ Dim     : int [1:2] 23209 53542\n",
      "  .. .. .. .. .. ..@ Dimnames:List of 2\n",
      "  .. .. .. .. .. .. ..$ : chr [1:23209] \"A1BG\" \"A1BG-AS1\" \"A1CF\" \"A2M\" ...\n",
      "  .. .. .. .. .. .. ..$ : chr [1:53542] \"AAACCTGAGAAGAAGC-1_PT14\" \"AAACCTGAGGACAGAA-1_PT14\" \"AAACCTGAGTGGAGTC-1_PT14\" \"AAACCTGAGTGTCTCA-1_PT14\" ...\n",
      "  .. .. .. .. .. ..@ x       : num [1:115498997] 2 1 1 1 1 1 1 1 1 1 ...\n",
      "  .. .. .. .. .. ..@ factors : list()\n",
      "  .. .. .. ..@ scale.data   : num[0 , 0 ] \n",
      "  .. .. .. ..@ assay.orig   : NULL\n",
      "  .. .. .. ..@ var.features : logi(0) \n",
      "  .. .. .. ..@ meta.features:'data.frame':\t23209 obs. of  1 variable:\n",
      "  .. .. .. .. ..$ _index: chr [1:23209] \"A1BG\" \"A1BG-AS1\" \"A1CF\" \"A2M\" ...\n",
      "  .. .. .. ..@ misc         : Named list()\n",
      "  .. .. .. ..@ key          : chr \"rna_\"\n",
      "  ..@ meta.data   :'data.frame':\t53542 obs. of  21 variables:\n",
      "  .. ..$ orig.ident                : Factor w/ 1 level \"SeuratProject\": 1 1 1 1 1 1 1 1 1 1 ...\n",
      "  .. ..$ nCount_RNA                : num [1:53542] 3395 5747 5610 5224 4626 ...\n",
      "  .. ..$ nFeature_RNA              : int [1:53542] 1669 2733 2550 2134 2140 1645 2350 1616 2140 2312 ...\n",
      "  .. ..$ Sample                    : chr [1:53542] \"PT_14\" \"PT_14\" \"PT_14\" \"PT_14\" ...\n",
      "  .. ..$ _index                    : chr [1:53542] \"AAACCTGAGAAGAAGC-1_PT14\" \"AAACCTGAGGACAGAA-1_PT14\" \"AAACCTGAGTGGAGTC-1_PT14\" \"AAACCTGAGTGTCTCA-1_PT14\" ...\n",
      "  .. ..$ doublet                   : chr [1:53542] \"singlet\" \"singlet\" \"singlet\" \"singlet\" ...\n",
      "  .. ..$ log1p_n_genes_by_counts   : num [1:53542] 7.42 7.91 7.84 7.67 7.67 ...\n",
      "  .. ..$ log1p_total_counts        : num [1:53542] 8.13 8.66 8.63 8.56 8.44 ...\n",
      "  .. ..$ log1p_total_counts_mt     : num [1:53542] 4.91 5 4.49 4.01 5.56 ...\n",
      "  .. ..$ log1p_total_counts_ribo   : num [1:53542] 6.47 6.77 6.6 7.39 6.71 ...\n",
      "  .. ..$ n_genes                   : int [1:53542] 1669 2733 2550 2134 2140 1645 2350 1616 2140 2312 ...\n",
      "  .. ..$ n_genes_by_counts         : int [1:53542] 1669 2733 2550 2134 2140 1645 2350 1616 2140 2312 ...\n",
      "  .. ..$ pct_counts_in_top_20_genes: num [1:53542] 16.7 13.5 13.8 16.3 18.8 ...\n",
      "  .. ..$ pct_counts_mt             : num [1:53542] 3.98 2.58 1.57 1.03 5.6 ...\n",
      "  .. ..$ pct_counts_ribo           : num [1:53542] 19 15.1 13.1 31.1 17.8 ...\n",
      "  .. ..$ prediction                : chr [1:53542] \"singlet\" \"singlet\" \"singlet\" \"singlet\" ...\n",
      "  .. ..$ total_counts              : num [1:53542] 3395 5747 5610 5224 4626 ...\n",
      "  .. ..$ total_counts_mt           : num [1:53542] 135 148 88 54 259 105 81 174 149 277 ...\n",
      "  .. ..$ total_counts_ribo         : num [1:53542] 645 870 734 1626 822 ...\n",
      "  .. ..$ doublet_filtered/mask     : chr [1:53542] \"FALSE\" \"FALSE\" \"FALSE\" \"FALSE\" ...\n",
      "  .. ..$ doublet_filtered/values   : chr [1:53542] \"FALSE\" \"FALSE\" \"FALSE\" \"FALSE\" ...\n",
      "  ..@ active.assay: chr \"RNA\"\n",
      "  ..@ active.ident: Factor w/ 1 level \"SeuratProject\": 1 1 1 1 1 1 1 1 1 1 ...\n",
      "  .. ..- attr(*, \"names\")= chr [1:53542] \"AAACCTGAGAAGAAGC-1_PT14\" \"AAACCTGAGGACAGAA-1_PT14\" \"AAACCTGAGTGGAGTC-1_PT14\" \"AAACCTGAGTGTCTCA-1_PT14\" ...\n",
      "  ..@ graphs      : list()\n",
      "  ..@ neighbors   : list()\n",
      "  ..@ reductions  : list()\n",
      "  ..@ images      : list()\n",
      "  ..@ project.name: chr \"SeuratProject\"\n",
      "  ..@ misc        : list()\n",
      "  ..@ version     :Classes 'package_version', 'numeric_version'  hidden list of 1\n",
      "  .. ..$ : int [1:3] 5 0 2\n",
      "  ..@ commands    : list()\n",
      "  ..@ tools       : list()\n"
     ]
    }
   ],
   "source": [
    "str(seurat_object)"
   ]
  },
  {
   "cell_type": "code",
   "execution_count": 8,
   "metadata": {
    "vscode": {
     "languageId": "r"
    }
   },
   "outputs": [
    {
     "data": {
      "text/html": [
       "<style>\n",
       ".list-inline {list-style: none; margin:0; padding: 0}\n",
       ".list-inline>li {display: inline-block}\n",
       ".list-inline>li:not(:last-child)::after {content: \"\\00b7\"; padding: 0 .5ex}\n",
       "</style>\n",
       "<ol class=list-inline><li>'connectivities'</li><li>'distances'</li></ol>\n"
      ],
      "text/latex": [
       "\\begin{enumerate*}\n",
       "\\item 'connectivities'\n",
       "\\item 'distances'\n",
       "\\end{enumerate*}\n"
      ],
      "text/markdown": [
       "1. 'connectivities'\n",
       "2. 'distances'\n",
       "\n",
       "\n"
      ],
      "text/plain": [
       "[1] \"connectivities\" \"distances\"     "
      ]
     },
     "metadata": {},
     "output_type": "display_data"
    }
   ],
   "source": [
    "# Verificar si hay gráficos (graphs) en Seurat\n",
    "names(seurat_object@graphs)"
   ]
  },
  {
   "cell_type": "code",
   "execution_count": 5,
   "metadata": {
    "vscode": {
     "languageId": "r"
    }
   },
   "outputs": [],
   "source": [
    "# Guardar el objeto Seurat en un archivo .rds\n",
    "saveRDS(seurat_object, file = \"/data/scratch/LAB/enric/Proyecto_pitagoras/Analisis_pitagoras/Results/datos_concatenados/Seurat_concatenados_10_pt.rds\")"
   ]
  },
  {
   "cell_type": "code",
   "execution_count": 5,
   "metadata": {
    "vscode": {
     "languageId": "r"
    }
   },
   "outputs": [],
   "source": [
    "# Convertir con las capas deseadas\n",
    "# Cargar el objeto Seurat\n",
    "Atlas_TILs <- readRDS(\"/data/scratch/LAB/enric/Proyecto_pitagoras/Analisis_pitagoras/Results/firmas_transcriptomicas/Analisis_Atlas_TIL.rds\")"
   ]
  }
 ],
 "metadata": {
  "kernelspec": {
   "display_name": "R",
   "language": "R",
   "name": "ir"
  },
  "language_info": {
   "codemirror_mode": "r",
   "file_extension": ".r",
   "mimetype": "text/x-r-source",
   "name": "R",
   "pygments_lexer": "r",
   "version": "4.3.3"
  }
 },
 "nbformat": 4,
 "nbformat_minor": 2
}
