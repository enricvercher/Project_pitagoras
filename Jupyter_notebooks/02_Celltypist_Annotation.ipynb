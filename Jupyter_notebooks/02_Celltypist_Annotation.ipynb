{
 "cells": [
  {
   "cell_type": "code",
   "execution_count": 1,
   "metadata": {},
   "outputs": [],
   "source": [
    "import celltypist\n",
    "from celltypist import models\n",
    "import scanpy as sc\n",
    "import numpy as np"
   ]
  },
  {
   "cell_type": "code",
   "execution_count": 2,
   "metadata": {
    "scrolled": true
   },
   "outputs": [
    {
     "data": {
      "text/plain": [
       "AnnData object with n_obs × n_vars = 53542 × 23209\n",
       "    obs: 'n_genes_by_counts', 'log1p_n_genes_by_counts', 'total_counts', 'log1p_total_counts', 'pct_counts_in_top_20_genes', 'total_counts_mt', 'log1p_total_counts_mt', 'pct_counts_mt', 'prediction', 'doublet', 'doublet_filtered', 'Sample', 'n_genes', 'total_counts_ribo', 'log1p_total_counts_ribo', 'pct_counts_ribo'\n",
       "    layers: 'counts_soupx_crude', 'original_counts'"
      ]
     },
     "execution_count": 2,
     "metadata": {},
     "output_type": "execute_result"
    }
   ],
   "source": [
    "# Cargar los datos\n",
    "adata= sc.read_h5ad(\"/data/scratch/LAB/enric/Proyecto_pitagoras/Analisis_pitagoras/Results/04_datos_concatenados/adata_concatenados_10_pt.h5ad\")\n",
    "adata"
   ]
  },
  {
   "cell_type": "code",
   "execution_count": 4,
   "metadata": {},
   "outputs": [
    {
     "name": "stdout",
     "output_type": "stream",
     "text": [
      "¿adata.X es counts_soupx_crude?: True\n",
      "¿adata.X es original_counts?: False\n"
     ]
    }
   ],
   "source": [
    "import numpy as np\n",
    "\n",
    "# Verificar si adata.X es igual a alguna de las capas\n",
    "if 'counts_soupx_crude' in adata.layers:\n",
    "    is_crude_soupx = np.array_equal(adata.X.toarray(), adata.layers['counts_soupx_crude'].toarray())\n",
    "    print(\"¿adata.X es counts_soupx_crude?:\", is_crude_soupx)\n",
    "\n",
    "if 'original_counts' in adata.layers:\n",
    "    is_original_counts = np.array_equal(adata.X.toarray(), adata.layers['original_counts'].toarray())\n",
    "    print(\"¿adata.X es original_counts?:\", is_original_counts)\n"
   ]
  },
  {
   "cell_type": "code",
   "execution_count": 3,
   "metadata": {},
   "outputs": [],
   "source": [
    "# Si no tienes una capa de datos crudos, asegúrate de que los datos en adata.X son crudos\n",
    "sc.pp.normalize_total(adata, target_sum=1e4)\n",
    "\n",
    "# Transformación log1p (logaritmo de 1 + expresión)\n",
    "sc.pp.log1p(adata)"
   ]
  },
  {
   "cell_type": "code",
   "execution_count": 2,
   "metadata": {
    "collapsed": true,
    "jupyter": {
     "outputs_hidden": true
    }
   },
   "outputs": [
    {
     "name": "stderr",
     "output_type": "stream",
     "text": [
      "👉 Detailed model information can be found at `https://www.celltypist.org/models`\n",
      "📜 Retrieving model list from server https://celltypist.cog.sanger.ac.uk/models/models.json\n",
      "📚 Total models in list: 54\n",
      "📂 Storing models in /home/evercher/.celltypist/data/models\n",
      "💾 Total models to download: 1\n",
      "💾 Downloading model [1/1]: Immune_All_Low.pkl\n",
      "📂 Storing models in /home/evercher/.celltypist/data/models\n",
      "💾 Total models to download: 2\n",
      "⏩ Skipping [1/2]: Immune_All_Low.pkl (file exists)\n",
      "💾 Downloading model [2/2]: Immune_All_High.pkl\n",
      "📜 Retrieving model list from server https://celltypist.cog.sanger.ac.uk/models/models.json\n",
      "📚 Total models in list: 54\n",
      "📂 Storing models in /home/evercher/.celltypist/data/models\n",
      "💾 Total models to download: 2\n",
      "💾 Downloading model [1/2]: Immune_All_Low.pkl\n",
      "💾 Downloading model [2/2]: Immune_All_High.pkl\n"
     ]
    },
    {
     "data": {
      "text/plain": [
       "'/home/evercher/.celltypist/data/models'"
      ]
     },
     "execution_count": 2,
     "metadata": {},
     "output_type": "execute_result"
    }
   ],
   "source": [
    "#Show all available models that can be downloaded and used.\n",
    "models.models_description()\n",
    "#Download a specific model, for example, `Immune_All_Low.pkl`.\n",
    "models.download_models(model = 'Immune_All_Low.pkl')\n",
    "#Download a list of models, for example, `Immune_All_Low.pkl` and `Immune_All_High.pkl`.\n",
    "models.download_models(model = ['Immune_All_Low.pkl', 'Immune_All_High.pkl'])\n",
    "#Update the models by re-downloading the latest versions if you think they may be outdated.\n",
    "models.download_models(model = ['Immune_All_Low.pkl', 'Immune_All_High.pkl'], force_update = True)\n",
    "#Show the local directory storing these models.\n",
    "models.models_path"
   ]
  },
  {
   "cell_type": "code",
   "execution_count": 3,
   "metadata": {
    "collapsed": true,
    "jupyter": {
     "outputs_hidden": true
    }
   },
   "outputs": [
    {
     "name": "stderr",
     "output_type": "stream",
     "text": [
      "📂 Storing models in /home/evercher/.celltypist/data/models\n",
      "⏩ Skipping [1/54]: Immune_All_Low.pkl (file exists)\n",
      "⏩ Skipping [2/54]: Immune_All_High.pkl (file exists)\n",
      "💾 Downloading model [3/54]: Adult_COVID19_PBMC.pkl\n",
      "💾 Downloading model [4/54]: Adult_CynomolgusMacaque_Hippocampus.pkl\n",
      "💾 Downloading model [5/54]: Adult_Human_MTG.pkl\n",
      "💾 Downloading model [6/54]: Adult_Human_PancreaticIslet.pkl\n",
      "💾 Downloading model [7/54]: Adult_Human_PrefrontalCortex.pkl\n",
      "💾 Downloading model [8/54]: Adult_Human_Skin.pkl\n",
      "💾 Downloading model [9/54]: Adult_Human_Vascular.pkl\n",
      "💾 Downloading model [10/54]: Adult_Mouse_Gut.pkl\n",
      "💾 Downloading model [11/54]: Adult_Mouse_OlfactoryBulb.pkl\n",
      "💾 Downloading model [12/54]: Adult_Pig_Hippocampus.pkl\n",
      "💾 Downloading model [13/54]: Adult_RhesusMacaque_Hippocampus.pkl\n",
      "💾 Downloading model [14/54]: Autopsy_COVID19_Lung.pkl\n",
      "💾 Downloading model [15/54]: COVID19_HumanChallenge_Blood.pkl\n",
      "💾 Downloading model [16/54]: COVID19_Immune_Landscape.pkl\n",
      "💾 Downloading model [17/54]: Cells_Adult_Breast.pkl\n",
      "💾 Downloading model [18/54]: Cells_Fetal_Lung.pkl\n",
      "💾 Downloading model [19/54]: Cells_Human_Tonsil.pkl\n",
      "💾 Downloading model [20/54]: Cells_Intestinal_Tract.pkl\n",
      "💾 Downloading model [21/54]: Cells_Lung_Airway.pkl\n",
      "💾 Downloading model [22/54]: Developing_Human_Brain.pkl\n",
      "💾 Downloading model [23/54]: Developing_Human_Gonads.pkl\n",
      "💾 Downloading model [24/54]: Developing_Human_Hippocampus.pkl\n",
      "💾 Downloading model [25/54]: Developing_Human_Organs.pkl\n",
      "💾 Downloading model [26/54]: Developing_Human_Thymus.pkl\n",
      "💾 Downloading model [27/54]: Developing_Mouse_Brain.pkl\n",
      "💾 Downloading model [28/54]: Developing_Mouse_Hippocampus.pkl\n",
      "💾 Downloading model [29/54]: Fetal_Human_AdrenalGlands.pkl\n",
      "💾 Downloading model [30/54]: Fetal_Human_Pancreas.pkl\n",
      "💾 Downloading model [31/54]: Fetal_Human_Pituitary.pkl\n",
      "💾 Downloading model [32/54]: Fetal_Human_Retina.pkl\n",
      "💾 Downloading model [33/54]: Fetal_Human_Skin.pkl\n",
      "💾 Downloading model [34/54]: Healthy_Adult_Heart.pkl\n",
      "💾 Downloading model [35/54]: Healthy_COVID19_PBMC.pkl\n",
      "💾 Downloading model [36/54]: Healthy_Human_Liver.pkl\n",
      "💾 Downloading model [37/54]: Healthy_Mouse_Liver.pkl\n",
      "💾 Downloading model [38/54]: Human_AdultAged_Hippocampus.pkl\n",
      "💾 Downloading model [39/54]: Human_Colorectal_Cancer.pkl\n",
      "💾 Downloading model [40/54]: Human_Developmental_Retina.pkl\n",
      "💾 Downloading model [41/54]: Human_Embryonic_YolkSac.pkl\n",
      "💾 Downloading model [42/54]: Human_Endometrium_Atlas.pkl\n",
      "💾 Downloading model [43/54]: Human_IPF_Lung.pkl\n",
      "💾 Downloading model [44/54]: Human_Longitudinal_Hippocampus.pkl\n",
      "💾 Downloading model [45/54]: Human_Lung_Atlas.pkl\n",
      "💾 Downloading model [46/54]: Human_PF_Lung.pkl\n",
      "💾 Downloading model [47/54]: Human_Placenta_Decidua.pkl\n",
      "💾 Downloading model [48/54]: Lethal_COVID19_Lung.pkl\n",
      "💾 Downloading model [49/54]: Mouse_Dentate_Gyrus.pkl\n",
      "💾 Downloading model [50/54]: Mouse_Isocortex_Hippocampus.pkl\n",
      "💾 Downloading model [51/54]: Mouse_Postnatal_DentateGyrus.pkl\n",
      "💾 Downloading model [52/54]: Mouse_Whole_Brain.pkl\n",
      "💾 Downloading model [53/54]: Nuclei_Lung_Airway.pkl\n",
      "💾 Downloading model [54/54]: Pan_Fetal_Human.pkl\n",
      "📜 Retrieving model list from server https://celltypist.cog.sanger.ac.uk/models/models.json\n",
      "📚 Total models in list: 54\n",
      "📂 Storing models in /home/evercher/.celltypist/data/models\n",
      "💾 Downloading model [1/54]: Immune_All_Low.pkl\n",
      "💾 Downloading model [2/54]: Immune_All_High.pkl\n",
      "💾 Downloading model [3/54]: Adult_COVID19_PBMC.pkl\n",
      "💾 Downloading model [4/54]: Adult_CynomolgusMacaque_Hippocampus.pkl\n",
      "💾 Downloading model [5/54]: Adult_Human_MTG.pkl\n",
      "💾 Downloading model [6/54]: Adult_Human_PancreaticIslet.pkl\n",
      "💾 Downloading model [7/54]: Adult_Human_PrefrontalCortex.pkl\n",
      "💾 Downloading model [8/54]: Adult_Human_Skin.pkl\n",
      "💾 Downloading model [9/54]: Adult_Human_Vascular.pkl\n",
      "💾 Downloading model [10/54]: Adult_Mouse_Gut.pkl\n",
      "💾 Downloading model [11/54]: Adult_Mouse_OlfactoryBulb.pkl\n",
      "💾 Downloading model [12/54]: Adult_Pig_Hippocampus.pkl\n",
      "💾 Downloading model [13/54]: Adult_RhesusMacaque_Hippocampus.pkl\n",
      "💾 Downloading model [14/54]: Autopsy_COVID19_Lung.pkl\n",
      "💾 Downloading model [15/54]: COVID19_HumanChallenge_Blood.pkl\n",
      "💾 Downloading model [16/54]: COVID19_Immune_Landscape.pkl\n",
      "💾 Downloading model [17/54]: Cells_Adult_Breast.pkl\n",
      "💾 Downloading model [18/54]: Cells_Fetal_Lung.pkl\n",
      "💾 Downloading model [19/54]: Cells_Human_Tonsil.pkl\n",
      "💾 Downloading model [20/54]: Cells_Intestinal_Tract.pkl\n",
      "💾 Downloading model [21/54]: Cells_Lung_Airway.pkl\n",
      "💾 Downloading model [22/54]: Developing_Human_Brain.pkl\n",
      "💾 Downloading model [23/54]: Developing_Human_Gonads.pkl\n",
      "💾 Downloading model [24/54]: Developing_Human_Hippocampus.pkl\n",
      "💾 Downloading model [25/54]: Developing_Human_Organs.pkl\n",
      "💾 Downloading model [26/54]: Developing_Human_Thymus.pkl\n",
      "💾 Downloading model [27/54]: Developing_Mouse_Brain.pkl\n",
      "💾 Downloading model [28/54]: Developing_Mouse_Hippocampus.pkl\n",
      "💾 Downloading model [29/54]: Fetal_Human_AdrenalGlands.pkl\n",
      "💾 Downloading model [30/54]: Fetal_Human_Pancreas.pkl\n",
      "💾 Downloading model [31/54]: Fetal_Human_Pituitary.pkl\n",
      "💾 Downloading model [32/54]: Fetal_Human_Retina.pkl\n",
      "💾 Downloading model [33/54]: Fetal_Human_Skin.pkl\n",
      "💾 Downloading model [34/54]: Healthy_Adult_Heart.pkl\n",
      "💾 Downloading model [35/54]: Healthy_COVID19_PBMC.pkl\n",
      "💾 Downloading model [36/54]: Healthy_Human_Liver.pkl\n",
      "💾 Downloading model [37/54]: Healthy_Mouse_Liver.pkl\n",
      "💾 Downloading model [38/54]: Human_AdultAged_Hippocampus.pkl\n",
      "💾 Downloading model [39/54]: Human_Colorectal_Cancer.pkl\n",
      "💾 Downloading model [40/54]: Human_Developmental_Retina.pkl\n",
      "💾 Downloading model [41/54]: Human_Embryonic_YolkSac.pkl\n",
      "💾 Downloading model [42/54]: Human_Endometrium_Atlas.pkl\n",
      "💾 Downloading model [43/54]: Human_IPF_Lung.pkl\n",
      "💾 Downloading model [44/54]: Human_Longitudinal_Hippocampus.pkl\n",
      "💾 Downloading model [45/54]: Human_Lung_Atlas.pkl\n",
      "💾 Downloading model [46/54]: Human_PF_Lung.pkl\n",
      "💾 Downloading model [47/54]: Human_Placenta_Decidua.pkl\n",
      "💾 Downloading model [48/54]: Lethal_COVID19_Lung.pkl\n",
      "💾 Downloading model [49/54]: Mouse_Dentate_Gyrus.pkl\n",
      "💾 Downloading model [50/54]: Mouse_Isocortex_Hippocampus.pkl\n",
      "💾 Downloading model [51/54]: Mouse_Postnatal_DentateGyrus.pkl\n",
      "💾 Downloading model [52/54]: Mouse_Whole_Brain.pkl\n",
      "💾 Downloading model [53/54]: Nuclei_Lung_Airway.pkl\n",
      "💾 Downloading model [54/54]: Pan_Fetal_Human.pkl\n"
     ]
    }
   ],
   "source": [
    "#Download all the available models.\n",
    "models.download_models()\n",
    "#Update all models by re-downloading the latest versions if you think they may be outdated.\n",
    "models.download_models(force_update = True)"
   ]
  },
  {
   "cell_type": "code",
   "execution_count": 4,
   "metadata": {},
   "outputs": [],
   "source": [
    "# Cargar los modelos desde las rutas locales\n",
    "model_low = '/data/scratch/LAB/enric/Proyecto_pitagoras/Analisis_pitagoras/Anotaciones_celltypist/.celltypist/data/models/Immune_All_Low.pkl'\n",
    "model_high = '/data/scratch/LAB/enric/Proyecto_pitagoras/Analisis_pitagoras/Anotaciones_celltypist/.celltypist/data/models/Immune_All_High.pkl'"
   ]
  },
  {
   "cell_type": "code",
   "execution_count": 12,
   "metadata": {},
   "outputs": [],
   "source": [
    "model_immune_low = models.Model.load(model = '/data/scratch/LAB/enric/Proyecto_pitagoras/Analisis_pitagoras/Anotaciones_celltypist/.celltypist/data/models/Immune_All_Low.pkl')"
   ]
  },
  {
   "cell_type": "code",
   "execution_count": 13,
   "metadata": {},
   "outputs": [],
   "source": [
    "model_immune_high = models.Model.load(model = '/data/scratch/LAB/enric/Proyecto_pitagoras/Analisis_pitagoras/Anotaciones_celltypist/.celltypist/data/models/Immune_All_High.pkl')"
   ]
  },
  {
   "cell_type": "code",
   "execution_count": 16,
   "metadata": {},
   "outputs": [
    {
     "data": {
      "text/plain": [
       "array(['Age-associated B cells', 'Alveolar macrophages', 'B cells',\n",
       "       'CD16+ NK cells', 'CD16- NK cells', 'CD8a/a', 'CD8a/b(entry)',\n",
       "       'CMP', 'CRTAM+ gamma-delta T cells', 'Classical monocytes',\n",
       "       'Cycling B cells', 'Cycling DCs', 'Cycling NK cells',\n",
       "       'Cycling T cells', 'Cycling gamma-delta T cells',\n",
       "       'Cycling monocytes', 'DC', 'DC precursor', 'DC1', 'DC2', 'DC3',\n",
       "       'Double-negative thymocytes', 'Double-positive thymocytes', 'ELP',\n",
       "       'ETP', 'Early MK', 'Early erythroid', 'Early lymphoid/T lymphoid',\n",
       "       'Endothelial cells', 'Epithelial cells', 'Erythrocytes',\n",
       "       'Erythrophagocytic macrophages', 'Fibroblasts',\n",
       "       'Follicular B cells', 'Follicular helper T cells', 'GMP',\n",
       "       'Germinal center B cells', 'Granulocytes', 'HSC/MPP',\n",
       "       'Hofbauer cells', 'ILC', 'ILC precursor', 'ILC1', 'ILC2', 'ILC3',\n",
       "       'Intermediate macrophages', 'Intestinal macrophages',\n",
       "       'Kidney-resident macrophages', 'Kupffer cells',\n",
       "       'Large pre-B cells', 'Late erythroid', 'MAIT cells', 'MEMP', 'MNP',\n",
       "       'Macrophages', 'Mast cells', 'Megakaryocyte precursor',\n",
       "       'Megakaryocyte-erythroid-mast cell progenitor',\n",
       "       'Megakaryocytes/platelets', 'Memory B cells',\n",
       "       'Memory CD4+ cytotoxic T cells', 'Mid erythroid', 'Migratory DCs',\n",
       "       'Mono-mac', 'Monocyte precursor', 'Monocytes', 'Myelocytes',\n",
       "       'NK cells', 'NKT cells', 'Naive B cells',\n",
       "       'Neutrophil-myeloid progenitor', 'Neutrophils',\n",
       "       'Non-classical monocytes', 'Plasma cells', 'Plasmablasts',\n",
       "       'Pre-pro-B cells', 'Pro-B cells',\n",
       "       'Proliferative germinal center B cells', 'Promyelocytes',\n",
       "       'Regulatory T cells', 'Small pre-B cells', 'T(agonist)',\n",
       "       'Tcm/Naive cytotoxic T cells', 'Tcm/Naive helper T cells',\n",
       "       'Tem/Effector helper T cells', 'Tem/Effector helper T cells PD1+',\n",
       "       'Tem/Temra cytotoxic T cells', 'Tem/Trm cytotoxic T cells',\n",
       "       'Transitional B cells', 'Transitional DC', 'Transitional NK',\n",
       "       'Treg(diff)', 'Trm cytotoxic T cells', 'Type 1 helper T cells',\n",
       "       'Type 17 helper T cells', 'gamma-delta T cells', 'pDC',\n",
       "       'pDC precursor'], dtype=object)"
      ]
     },
     "execution_count": 16,
     "metadata": {},
     "output_type": "execute_result"
    }
   ],
   "source": [
    "model_immune_low.cell_types"
   ]
  },
  {
   "cell_type": "code",
   "execution_count": 17,
   "metadata": {},
   "outputs": [
    {
     "data": {
      "text/plain": [
       "array(['B cells', 'B-cell lineage', 'Cycling cells', 'DC', 'DC precursor',\n",
       "       'Double-negative thymocytes', 'Double-positive thymocytes', 'ETP',\n",
       "       'Early MK', 'Endothelial cells', 'Epithelial cells',\n",
       "       'Erythrocytes', 'Erythroid', 'Fibroblasts', 'Granulocytes',\n",
       "       'HSC/MPP', 'ILC', 'ILC precursor', 'MNP', 'Macrophages',\n",
       "       'Mast cells', 'Megakaryocyte precursor',\n",
       "       'Megakaryocytes/platelets', 'Mono-mac', 'Monocyte precursor',\n",
       "       'Monocytes', 'Myelocytes', 'Plasma cells', 'Promyelocytes',\n",
       "       'T cells', 'pDC', 'pDC precursor'], dtype=object)"
      ]
     },
     "execution_count": 17,
     "metadata": {},
     "output_type": "execute_result"
    }
   ],
   "source": [
    "model_immune_high.cell_types"
   ]
  },
  {
   "cell_type": "code",
   "execution_count": null,
   "metadata": {},
   "outputs": [],
   "source": []
  },
  {
   "cell_type": "code",
   "execution_count": 5,
   "metadata": {},
   "outputs": [
    {
     "name": "stderr",
     "output_type": "stream",
     "text": [
      "🔬 Input data has 53542 cells and 23209 genes\n",
      "🔗 Matching reference genes in the model\n",
      "🧬 5189 features used for prediction\n",
      "⚖️ Scaling input data\n",
      "🖋️ Predicting labels\n",
      "✅ Prediction done!\n",
      "👀 Can not detect a neighborhood graph, will construct one before the over-clustering\n",
      "/home/evercher/miniforge3/envs/celltypist/lib/python3.11/site-packages/tqdm/auto.py:21: TqdmWarning: IProgress not found. Please update jupyter and ipywidgets. See https://ipywidgets.readthedocs.io/en/stable/user_install.html\n",
      "  from .autonotebook import tqdm as notebook_tqdm\n",
      "⛓️ Over-clustering input data with resolution set to 20\n",
      "🗳️ Majority voting the predictions\n",
      "✅ Majority voting done!\n"
     ]
    }
   ],
   "source": [
    "# Anotar las células usando el modelo 'Immune_All_Low.pkl'\n",
    "predictions_low = celltypist.annotate(adata,\n",
    "                                      model='/data/scratch/LAB/enric/Proyecto_pitagoras/Analisis_pitagoras/Anotaciones_celltypist/.celltypist/data/models/Immune_All_Low.pkl',\n",
    "                                      majority_voting = True,\n",
    "                                      mode = 'best match')"
   ]
  },
  {
   "cell_type": "code",
   "execution_count": 6,
   "metadata": {},
   "outputs": [
    {
     "data": {
      "text/html": [
       "<div>\n",
       "<style scoped>\n",
       "    .dataframe tbody tr th:only-of-type {\n",
       "        vertical-align: middle;\n",
       "    }\n",
       "\n",
       "    .dataframe tbody tr th {\n",
       "        vertical-align: top;\n",
       "    }\n",
       "\n",
       "    .dataframe thead th {\n",
       "        text-align: right;\n",
       "    }\n",
       "</style>\n",
       "<table border=\"1\" class=\"dataframe\">\n",
       "  <thead>\n",
       "    <tr style=\"text-align: right;\">\n",
       "      <th></th>\n",
       "      <th>predicted_labels</th>\n",
       "      <th>over_clustering</th>\n",
       "      <th>majority_voting</th>\n",
       "    </tr>\n",
       "  </thead>\n",
       "  <tbody>\n",
       "    <tr>\n",
       "      <th>AAACCTGAGAAGAAGC-1_PT14</th>\n",
       "      <td>Tem/Trm cytotoxic T cells</td>\n",
       "      <td>31</td>\n",
       "      <td>Tem/Trm cytotoxic T cells</td>\n",
       "    </tr>\n",
       "    <tr>\n",
       "      <th>AAACCTGAGGACAGAA-1_PT14</th>\n",
       "      <td>Regulatory T cells</td>\n",
       "      <td>76</td>\n",
       "      <td>Regulatory T cells</td>\n",
       "    </tr>\n",
       "    <tr>\n",
       "      <th>AAACCTGAGTGGAGTC-1_PT14</th>\n",
       "      <td>Regulatory T cells</td>\n",
       "      <td>185</td>\n",
       "      <td>Regulatory T cells</td>\n",
       "    </tr>\n",
       "    <tr>\n",
       "      <th>AAACCTGAGTGTCTCA-1_PT14</th>\n",
       "      <td>Tem/Effector helper T cells</td>\n",
       "      <td>97</td>\n",
       "      <td>Tem/Effector helper T cells</td>\n",
       "    </tr>\n",
       "    <tr>\n",
       "      <th>AAACCTGCAAACTGTC-1_PT14</th>\n",
       "      <td>Type 1 helper T cells</td>\n",
       "      <td>12</td>\n",
       "      <td>Type 1 helper T cells</td>\n",
       "    </tr>\n",
       "    <tr>\n",
       "      <th>...</th>\n",
       "      <td>...</td>\n",
       "      <td>...</td>\n",
       "      <td>...</td>\n",
       "    </tr>\n",
       "    <tr>\n",
       "      <th>TTTGTCAGTGTGGCTC-1_PT50</th>\n",
       "      <td>Regulatory T cells</td>\n",
       "      <td>38</td>\n",
       "      <td>Regulatory T cells</td>\n",
       "    </tr>\n",
       "    <tr>\n",
       "      <th>TTTGTCATCGTGGGAA-1_PT50</th>\n",
       "      <td>Tem/Temra cytotoxic T cells</td>\n",
       "      <td>74</td>\n",
       "      <td>Tem/Temra cytotoxic T cells</td>\n",
       "    </tr>\n",
       "    <tr>\n",
       "      <th>TTTGTCATCTGCTGCT-1_PT50</th>\n",
       "      <td>Regulatory T cells</td>\n",
       "      <td>26</td>\n",
       "      <td>Regulatory T cells</td>\n",
       "    </tr>\n",
       "    <tr>\n",
       "      <th>TTTGTCATCTTGTTTG-1_PT50</th>\n",
       "      <td>Tem/Trm cytotoxic T cells</td>\n",
       "      <td>5</td>\n",
       "      <td>Tem/Trm cytotoxic T cells</td>\n",
       "    </tr>\n",
       "    <tr>\n",
       "      <th>TTTGTCATCTTTAGTC-1_PT50</th>\n",
       "      <td>Type 1 helper T cells</td>\n",
       "      <td>46</td>\n",
       "      <td>Type 17 helper T cells</td>\n",
       "    </tr>\n",
       "  </tbody>\n",
       "</table>\n",
       "<p>53542 rows × 3 columns</p>\n",
       "</div>"
      ],
      "text/plain": [
       "                                    predicted_labels over_clustering  \\\n",
       "AAACCTGAGAAGAAGC-1_PT14    Tem/Trm cytotoxic T cells              31   \n",
       "AAACCTGAGGACAGAA-1_PT14           Regulatory T cells              76   \n",
       "AAACCTGAGTGGAGTC-1_PT14           Regulatory T cells             185   \n",
       "AAACCTGAGTGTCTCA-1_PT14  Tem/Effector helper T cells              97   \n",
       "AAACCTGCAAACTGTC-1_PT14        Type 1 helper T cells              12   \n",
       "...                                              ...             ...   \n",
       "TTTGTCAGTGTGGCTC-1_PT50           Regulatory T cells              38   \n",
       "TTTGTCATCGTGGGAA-1_PT50  Tem/Temra cytotoxic T cells              74   \n",
       "TTTGTCATCTGCTGCT-1_PT50           Regulatory T cells              26   \n",
       "TTTGTCATCTTGTTTG-1_PT50    Tem/Trm cytotoxic T cells               5   \n",
       "TTTGTCATCTTTAGTC-1_PT50        Type 1 helper T cells              46   \n",
       "\n",
       "                                     majority_voting  \n",
       "AAACCTGAGAAGAAGC-1_PT14    Tem/Trm cytotoxic T cells  \n",
       "AAACCTGAGGACAGAA-1_PT14           Regulatory T cells  \n",
       "AAACCTGAGTGGAGTC-1_PT14           Regulatory T cells  \n",
       "AAACCTGAGTGTCTCA-1_PT14  Tem/Effector helper T cells  \n",
       "AAACCTGCAAACTGTC-1_PT14        Type 1 helper T cells  \n",
       "...                                              ...  \n",
       "TTTGTCAGTGTGGCTC-1_PT50           Regulatory T cells  \n",
       "TTTGTCATCGTGGGAA-1_PT50  Tem/Temra cytotoxic T cells  \n",
       "TTTGTCATCTGCTGCT-1_PT50           Regulatory T cells  \n",
       "TTTGTCATCTTGTTTG-1_PT50    Tem/Trm cytotoxic T cells  \n",
       "TTTGTCATCTTTAGTC-1_PT50       Type 17 helper T cells  \n",
       "\n",
       "[53542 rows x 3 columns]"
      ]
     },
     "execution_count": 6,
     "metadata": {},
     "output_type": "execute_result"
    }
   ],
   "source": [
    "predictions_low.predicted_labels"
   ]
  },
  {
   "cell_type": "code",
   "execution_count": 7,
   "metadata": {},
   "outputs": [],
   "source": [
    "# Convertir las predicciones a un DataFrame\n",
    "low_annotations = predictions_low.to_adata().obs[[\n",
    "    \"predicted_labels\", \"over_clustering\", \"majority_voting\", \"conf_score\"\n",
    "]].copy()\n",
    "\n",
    "# Añadir el barcode como una columna (ya está en el índice)\n",
    "low_annotations[\"barcode\"] = low_annotations.index\n",
    "\n",
    "# Reorganizar las columnas para que 'barcode' sea la primera\n",
    "low_annotations = low_annotations[[\n",
    "    \"barcode\", \"predicted_labels\", \"over_clustering\", \"majority_voting\", \"conf_score\"\n",
    "]]"
   ]
  },
  {
   "cell_type": "code",
   "execution_count": 8,
   "metadata": {},
   "outputs": [],
   "source": [
    "# Guardar las predicciones en un archivo TSV\n",
    "output_path = \"/data/scratch/LAB/enric/Proyecto_pitagoras/Analisis_pitagoras/Results/04_anotacion_celulas_celltypist_ProjecTIL/celltypist_immune_low_10_pts.tsv\"\n",
    "low_annotations.to_csv(output_path, sep=\"\\t\", index=False)  # No incluir el índice porque ya está como 'barcode'"
   ]
  },
  {
   "cell_type": "markdown",
   "metadata": {},
   "source": [
    "### Hay que volver a cargar y hacer con otro modelo:"
   ]
  },
  {
   "cell_type": "code",
   "execution_count": 10,
   "metadata": {},
   "outputs": [],
   "source": [
    "adata= sc.read_h5ad(\"/data/scratch/LAB/enric/Proyecto_pitagoras/Analisis_pitagoras/Results/04_datos_concatenados/adata_concatenados_10_pt.h5ad\")\n",
    "# Si no tienes una capa de datos crudos, asegúrate de que los datos en adata.X son crudos\n",
    "sc.pp.normalize_total(adata, target_sum=1e4)\n",
    "\n",
    "# Transformación log1p (logaritmo de 1 + expresión)\n",
    "sc.pp.log1p(adata)"
   ]
  },
  {
   "cell_type": "code",
   "execution_count": 11,
   "metadata": {},
   "outputs": [
    {
     "name": "stderr",
     "output_type": "stream",
     "text": [
      "🔬 Input data has 53542 cells and 23209 genes\n",
      "🔗 Matching reference genes in the model\n",
      "🧬 5189 features used for prediction\n",
      "⚖️ Scaling input data\n",
      "🖋️ Predicting labels\n",
      "✅ Prediction done!\n",
      "👀 Can not detect a neighborhood graph, will construct one before the over-clustering\n",
      "⛓️ Over-clustering input data with resolution set to 20\n",
      "🗳️ Majority voting the predictions\n",
      "✅ Majority voting done!\n"
     ]
    }
   ],
   "source": [
    "# Realiza lo mismo para el modelo 'Immune_All_High.pkl'\n",
    "predictions_high = celltypist.annotate(adata, \n",
    "                                       model='/data/scratch/LAB/enric/Proyecto_pitagoras/Analisis_pitagoras/Anotaciones_celltypist/.celltypist/data/models/Immune_All_High.pkl',\n",
    "                                       majority_voting = True,\n",
    "                                       mode = 'best match')"
   ]
  },
  {
   "cell_type": "code",
   "execution_count": 12,
   "metadata": {},
   "outputs": [
    {
     "data": {
      "text/html": [
       "<div>\n",
       "<style scoped>\n",
       "    .dataframe tbody tr th:only-of-type {\n",
       "        vertical-align: middle;\n",
       "    }\n",
       "\n",
       "    .dataframe tbody tr th {\n",
       "        vertical-align: top;\n",
       "    }\n",
       "\n",
       "    .dataframe thead th {\n",
       "        text-align: right;\n",
       "    }\n",
       "</style>\n",
       "<table border=\"1\" class=\"dataframe\">\n",
       "  <thead>\n",
       "    <tr style=\"text-align: right;\">\n",
       "      <th></th>\n",
       "      <th>predicted_labels</th>\n",
       "      <th>over_clustering</th>\n",
       "      <th>majority_voting</th>\n",
       "    </tr>\n",
       "  </thead>\n",
       "  <tbody>\n",
       "    <tr>\n",
       "      <th>AAACCTGAGAAGAAGC-1_PT14</th>\n",
       "      <td>T cells</td>\n",
       "      <td>31</td>\n",
       "      <td>T cells</td>\n",
       "    </tr>\n",
       "    <tr>\n",
       "      <th>AAACCTGAGGACAGAA-1_PT14</th>\n",
       "      <td>T cells</td>\n",
       "      <td>76</td>\n",
       "      <td>T cells</td>\n",
       "    </tr>\n",
       "    <tr>\n",
       "      <th>AAACCTGAGTGGAGTC-1_PT14</th>\n",
       "      <td>T cells</td>\n",
       "      <td>185</td>\n",
       "      <td>T cells</td>\n",
       "    </tr>\n",
       "    <tr>\n",
       "      <th>AAACCTGAGTGTCTCA-1_PT14</th>\n",
       "      <td>T cells</td>\n",
       "      <td>97</td>\n",
       "      <td>T cells</td>\n",
       "    </tr>\n",
       "    <tr>\n",
       "      <th>AAACCTGCAAACTGTC-1_PT14</th>\n",
       "      <td>T cells</td>\n",
       "      <td>12</td>\n",
       "      <td>T cells</td>\n",
       "    </tr>\n",
       "    <tr>\n",
       "      <th>...</th>\n",
       "      <td>...</td>\n",
       "      <td>...</td>\n",
       "      <td>...</td>\n",
       "    </tr>\n",
       "    <tr>\n",
       "      <th>TTTGTCAGTGTGGCTC-1_PT50</th>\n",
       "      <td>T cells</td>\n",
       "      <td>38</td>\n",
       "      <td>T cells</td>\n",
       "    </tr>\n",
       "    <tr>\n",
       "      <th>TTTGTCATCGTGGGAA-1_PT50</th>\n",
       "      <td>T cells</td>\n",
       "      <td>74</td>\n",
       "      <td>T cells</td>\n",
       "    </tr>\n",
       "    <tr>\n",
       "      <th>TTTGTCATCTGCTGCT-1_PT50</th>\n",
       "      <td>T cells</td>\n",
       "      <td>26</td>\n",
       "      <td>T cells</td>\n",
       "    </tr>\n",
       "    <tr>\n",
       "      <th>TTTGTCATCTTGTTTG-1_PT50</th>\n",
       "      <td>T cells</td>\n",
       "      <td>5</td>\n",
       "      <td>T cells</td>\n",
       "    </tr>\n",
       "    <tr>\n",
       "      <th>TTTGTCATCTTTAGTC-1_PT50</th>\n",
       "      <td>T cells</td>\n",
       "      <td>46</td>\n",
       "      <td>T cells</td>\n",
       "    </tr>\n",
       "  </tbody>\n",
       "</table>\n",
       "<p>53542 rows × 3 columns</p>\n",
       "</div>"
      ],
      "text/plain": [
       "                        predicted_labels over_clustering majority_voting\n",
       "AAACCTGAGAAGAAGC-1_PT14          T cells              31         T cells\n",
       "AAACCTGAGGACAGAA-1_PT14          T cells              76         T cells\n",
       "AAACCTGAGTGGAGTC-1_PT14          T cells             185         T cells\n",
       "AAACCTGAGTGTCTCA-1_PT14          T cells              97         T cells\n",
       "AAACCTGCAAACTGTC-1_PT14          T cells              12         T cells\n",
       "...                                  ...             ...             ...\n",
       "TTTGTCAGTGTGGCTC-1_PT50          T cells              38         T cells\n",
       "TTTGTCATCGTGGGAA-1_PT50          T cells              74         T cells\n",
       "TTTGTCATCTGCTGCT-1_PT50          T cells              26         T cells\n",
       "TTTGTCATCTTGTTTG-1_PT50          T cells               5         T cells\n",
       "TTTGTCATCTTTAGTC-1_PT50          T cells              46         T cells\n",
       "\n",
       "[53542 rows x 3 columns]"
      ]
     },
     "execution_count": 12,
     "metadata": {},
     "output_type": "execute_result"
    }
   ],
   "source": [
    "predictions_high.predicted_labels"
   ]
  },
  {
   "cell_type": "code",
   "execution_count": 13,
   "metadata": {},
   "outputs": [],
   "source": [
    "# Convertir las predicciones a un DataFrame\n",
    "high_annotations = predictions_high.to_adata().obs[[\n",
    "    \"predicted_labels\", \"over_clustering\", \"majority_voting\", \"conf_score\"\n",
    "]].copy()"
   ]
  },
  {
   "cell_type": "code",
   "execution_count": 14,
   "metadata": {},
   "outputs": [],
   "source": [
    "# Añadir el barcode como una columna (ya está en el índice)\n",
    "high_annotations[\"barcode\"] = high_annotations.index"
   ]
  },
  {
   "cell_type": "code",
   "execution_count": 15,
   "metadata": {},
   "outputs": [],
   "source": [
    "# Reorganizar las columnas para que 'barcode' sea la primera\n",
    "high_annotations = high_annotations[[\n",
    "    \"barcode\", \"predicted_labels\", \"over_clustering\", \"majority_voting\", \"conf_score\"\n",
    "]]\n"
   ]
  },
  {
   "cell_type": "code",
   "execution_count": 16,
   "metadata": {},
   "outputs": [],
   "source": [
    "# Guardar las predicciones en un archivo TSV\n",
    "output_path_high = \"/data/scratch/LAB/enric/Proyecto_pitagoras/Analisis_pitagoras/Results/04_anotacion_celulas_celltypist_ProjecTIL/celltypist_immune_high_10_pts.tsv\"\n",
    "high_annotations.to_csv(output_path_high, sep=\"\\t\", index=False)  # No incluir el índice porque ya está como 'barcode'"
   ]
  },
  {
   "cell_type": "code",
   "execution_count": null,
   "metadata": {},
   "outputs": [],
   "source": []
  },
  {
   "cell_type": "markdown",
   "metadata": {},
   "source": [
    "Vamos a observar el archivo:"
   ]
  },
  {
   "cell_type": "markdown",
   "metadata": {},
   "source": [
    "Guardamos el metadata que nos interesa:"
   ]
  },
  {
   "cell_type": "code",
   "execution_count": 19,
   "metadata": {},
   "outputs": [],
   "source": [
    "sc.tl.umap(adata)"
   ]
  },
  {
   "cell_type": "code",
   "execution_count": 20,
   "metadata": {},
   "outputs": [
    {
     "data": {
      "text/plain": [
       "<Figure size 1500x1000 with 0 Axes>"
      ]
     },
     "metadata": {},
     "output_type": "display_data"
    },
    {
     "data": {
      "image/png": "[encoded data removed]",
      "text/plain": [
       "<Figure size 640x480 with 1 Axes>"
      ]
     },
     "metadata": {},
     "output_type": "display_data"
    }
   ],
   "source": [
    "import matplotlib.pyplot as plt\n",
    "\n",
    "# Ajustar el tamaño de la figura para asegurarnos de que la leyenda no interfiera\n",
    "plt.figure(figsize=(15, 10))  # Aumentamos el tamaño de la figura\n",
    "\n",
    "# Graficar el UMAP con la columna 'majority_voting' para colorear\n",
    "sc.pl.umap(adata, \n",
    "           color='majority_voting', \n",
    "           legend_loc='center left', \n",
    "           frameon=False, \n",
    "           title='Majority Voting', \n",
    "           size=20,  # Ajustamos el tamaño de los puntos\n",
    "           legend_fontsize=12,  # Tamaño de la leyenda\n",
    "           show=False)  # No mostramos aquí para poder ajustar después\n",
    "\n",
    "# Ajustar la posición de la leyenda para que esté a la derecha\n",
    "plt.legend(loc='center left', bbox_to_anchor=(1, 0.5), frameon=False, fontsize=12, title='Cell types', title_fontsize=14)\n",
    "\n",
    "# Ajustar el layout para asegurar que no haya superposiciones\n",
    "plt.tight_layout()\n",
    "\n",
    "# Mostrar la gráfica\n",
    "plt.show()\n"
   ]
  },
  {
   "cell_type": "code",
   "execution_count": null,
   "metadata": {},
   "outputs": [],
   "source": [
    "import scanpy as sc\n",
    "import matplotlib.pyplot as plt\n",
    "import seaborn as sns\n",
    "\n",
    "# Usar una paleta de colores accesibles para daltónicos\n",
    "sns.set_palette(\"Set2\")  # Usamos una paleta accesible para daltonicos\n",
    "\n",
    "# Configurar la figura para asegurar que no haya superposición\n",
    "plt.figure(figsize=(15, 10))  # Tamaño ajustado\n",
    "\n",
    "# Graficar el UMAP con la columna 'majority_voting' para colorear\n",
    "sc.pl.umap(adata_celltypist_TIL, \n",
    "           color='majority_voting', \n",
    "           legend_loc='center left', \n",
    "           frameon=False, \n",
    "           title='Majority Voting', \n",
    "           size=20,  # Tamaño ajustado de los puntos\n",
    "           legend_fontsize=12,  # Tamaño de la leyenda\n",
    "           show=False,  # No mostramos aquí para poder ajustar después\n",
    "           palette=\"Set2\")  # Usamos la paleta para que sea accesible\n",
    "\n",
    "# Obtener las coordenadas de UMAP\n",
    "umap_coords = adata_celltypist_TIL.obsm['X_umap']\n",
    "\n",
    "# Colocar los nombres de los clusters encima de cada uno, con letra pequeña\n",
    "for cell_type in adata_celltypist_TIL.obs['majority_voting'].cat.categories:\n",
    "    # Obtener las coordenadas de cada tipo celular\n",
    "    cell_type_coords = umap_coords[adata_celltypist_TIL.obs['majority_voting'] == cell_type]\n",
    "    # Promediar las coordenadas para ubicar el nombre de forma centrada en el cluster\n",
    "    mean_x = cell_type_coords[:, 0].mean()\n",
    "    mean_y = cell_type_coords[:, 1].mean()\n",
    "    \n",
    "    # Colocar el nombre del tipo celular sobre el gráfico\n",
    "    plt.text(mean_x, mean_y, cell_type, fontsize=8, ha='center', va='center', color='black')\n",
    "\n",
    "# Ajustar la posición de la leyenda a la derecha\n",
    "plt.legend(loc='center left', bbox_to_anchor=(1, 0.5), frameon=False, fontsize=12, title='Cell types', title_fontsize=14)\n",
    "\n",
    "# Ajustar el layout para evitar superposiciones\n",
    "plt.tight_layout()\n",
    "\n",
    "# Mostrar el gráfico final\n",
    "plt.show()"
   ]
  },
  {
   "cell_type": "code",
   "execution_count": 23,
   "metadata": {},
   "outputs": [
    {
     "name": "stdout",
     "output_type": "stream",
     "text": [
      "Low Table Statistics:\n",
      "                             count      mean       min       max  percentage\n",
      "majority_voting                                                             \n",
      "Tem/Trm cytotoxic T cells    19423  0.635872  0.000561  1.000000   36.276194\n",
      "Tem/Effector helper T cells  10507  0.585593  0.004856  0.999967   19.623847\n",
      "Type 1 helper T cells         7107  0.529849  0.001064  0.999943   13.273692\n",
      "Regulatory T cells            6095  0.882905  0.010407  1.000000   11.383587\n",
      "Tem/Temra cytotoxic T cells   5501  0.608095  0.001723  1.000000   10.274177\n",
      "Tcm/Naive helper T cells      1380  0.619047  0.000539  0.999995    2.577416\n",
      "Type 17 helper T cells        1333  0.507247  0.000824  0.999981    2.489634\n",
      "gamma-delta T cells            809  0.676678  0.006526  0.999996    1.510963\n",
      "MAIT cells                     647  0.718904  0.006193  1.000000    1.208397\n",
      "CD16- NK cells                 332  0.651089  0.010919  1.000000    0.620074\n",
      "CD16+ NK cells                 295  0.708510  0.020865  0.999998    0.550969\n",
      "ILC3                            48  0.908879  0.136188  0.999995    0.089649\n",
      "CRTAM+ gamma-delta T cells      44  0.504881  0.016779  0.999227    0.082178\n",
      "Memory B cells                  21  0.831560  0.057701  0.999987    0.039222\n",
      "\n",
      "High Table Statistics:\n",
      "                 count      mean       min       max  percentage\n",
      "majority_voting                                                 \n",
      "T cells          52846  0.997915  0.015456  1.000000   98.700086\n",
      "ILC                675  0.922201  0.181156  1.000000    1.260693\n",
      "B cells             21  0.980275  0.871638  0.999999    0.039222\n"
     ]
    }
   ],
   "source": [
    "import pandas as pd\n",
    "\n",
    "# Cargar los datos desde los archivos TSV\n",
    "low_file_path = \"/data/scratch/LAB/enric/Proyecto_pitagoras/Analisis_pitagoras/Results/04_anotacion_celulas_celltypist_ProjecTIL/celltypist_immune_low_10_pts.tsv\"\n",
    "high_file_path = \"/data/scratch/LAB/enric/Proyecto_pitagoras/Analisis_pitagoras/Results/04_anotacion_celulas_celltypist_ProjecTIL/celltypist_immune_high_10_pts.tsv\"\n",
    "\n",
    "# Leer los archivos TSV\n",
    "low_data = pd.read_csv(low_file_path, sep=\"\\t\")\n",
    "high_data = pd.read_csv(high_file_path, sep=\"\\t\")\n",
    "\n",
    "# Agrupar por 'majority_voting' y calcular estadísticas de 'conf_score' para los datos Low\n",
    "low_table = low_data.groupby('majority_voting')['conf_score'].agg(['count', 'mean', 'min', 'max'])\n",
    "\n",
    "# Calcular el porcentaje de células por tipo\n",
    "low_table['percentage'] = (low_table['count'] / low_data.shape[0]) * 100\n",
    "\n",
    "# Ordenar la tabla por el porcentaje de células de mayor a menor\n",
    "low_table_sorted = low_table.sort_values('percentage', ascending=False)\n",
    "\n",
    "# Mostrar la tabla ordenada\n",
    "print(\"Low Table Statistics:\")\n",
    "print(low_table_sorted)\n",
    "\n",
    "# Agrupar por 'majority_voting' y calcular estadísticas de 'conf_score' para los datos High\n",
    "high_table = high_data.groupby('majority_voting')['conf_score'].agg(['count', 'mean', 'min', 'max'])\n",
    "\n",
    "# Calcular el porcentaje de células por tipo\n",
    "high_table['percentage'] = (high_table['count'] / high_data.shape[0]) * 100\n",
    "\n",
    "# Ordenar la tabla por el porcentaje de células de mayor a menor\n",
    "high_table_sorted = high_table.sort_values('percentage', ascending=False)\n",
    "\n",
    "# Mostrar la tabla ordenada\n",
    "print(\"\\nHigh Table Statistics:\")\n",
    "print(high_table_sorted)\n",
    "\n"
   ]
  },
  {
   "cell_type": "code",
   "execution_count": 24,
   "metadata": {},
   "outputs": [],
   "source": [
    "import pandas as pd\n",
    "\n",
    "# Rutas proporcionadas\n",
    "low_file_path = \"/data/scratch/LAB/enric/Proyecto_pitagoras/Analisis_pitagoras/Results/04_anotacion_celulas_celltypist_ProjecTIL/celltypist_immune_low_10_pts.tsv\"\n",
    "high_file_path = \"/data/scratch/LAB/enric/Proyecto_pitagoras/Analisis_pitagoras/Results/04_anotacion_celulas_celltypist_ProjecTIL/celltypist_immune_high_10_pts.tsv\"\n",
    "\n",
    "# Leer los archivos TSV\n",
    "low_data = pd.read_csv(low_file_path, sep=\"\\t\")\n",
    "high_data = pd.read_csv(high_file_path, sep=\"\\t\")\n",
    "\n",
    "# Añadir sufijos a las columnas de cada archivo\n",
    "low_data = low_data.add_suffix(\"_low\")\n",
    "high_data = high_data.add_suffix(\"_high\")\n",
    "\n",
    "# Restaurar la columna de barcodes sin sufijos\n",
    "low_data.rename(columns={\"barcode_low\": \"barcode\"}, inplace=True)\n",
    "high_data.rename(columns={\"barcode_high\": \"barcode\"}, inplace=True)\n",
    "\n",
    "# Unir ambos archivos por la columna 'barcode'\n",
    "merged_data = pd.merge(low_data, high_data, on=\"barcode\", how=\"outer\")\n",
    "\n",
    "# Guardar el archivo combinado\n",
    "output_path = \"/data/scratch/LAB/enric/Proyecto_pitagoras/Analisis_pitagoras/Results/04_anotacion_celulas_celltypist_ProjecTIL/celltypist_immune_low_high_10pts.tsv\"\n",
    "merged_data.to_csv(output_path, sep=\"\\t\", index=False)\n"
   ]
  },
  {
   "cell_type": "markdown",
   "metadata": {},
   "source": [
    "Unimos los datos al concatenado del que hemos sacado todo:"
   ]
  },
  {
   "cell_type": "code",
   "execution_count": 3,
   "metadata": {},
   "outputs": [],
   "source": [
    "import scanpy as sc\n",
    "import pandas as pd\n",
    "\n",
    "adata = sc.read_h5ad(\"/data/scratch/LAB/enric/Proyecto_pitagoras/Analisis_pitagoras/Results/04_datos_concatenados/adata_concatenados_10_pt.h5ad\")\n",
    "\n",
    "# Cargar el archivo combinado con las anotaciones\n",
    "annotations = pd.read_csv(\"/data/scratch/LAB/enric/Proyecto_pitagoras/Analisis_pitagoras/Results/04_anotacion_celulas_celltypist_ProjecTIL/celltypist_projecTIL_10_pts.tsv\", sep=\"\\t\")"
   ]
  },
  {
   "cell_type": "code",
   "execution_count": 4,
   "metadata": {},
   "outputs": [],
   "source": [
    "# Asegurarse de que las columnas de barcode coinciden y añadir las nuevas columnas al metadata\n",
    "annotations.set_index('barcode', inplace=True)\n",
    "adata.obs = adata.obs.join(annotations, how=\"left\")"
   ]
  },
  {
   "cell_type": "code",
   "execution_count": 6,
   "metadata": {},
   "outputs": [],
   "source": [
    "# Guardar el objeto actualizado\n",
    "output_path = \"/data/scratch/LAB/enric/Proyecto_pitagoras/Analisis_pitagoras/Results/04_datos_concatenados/adata_concatenados_ANNOTD_10_pt.h5ad\"\n",
    "adata.write(output_path)"
   ]
  },
  {
   "cell_type": "code",
   "execution_count": 1,
   "metadata": {},
   "outputs": [],
   "source": [
    "import scanpy as sc\n",
    "import pandas as pd"
   ]
  },
  {
   "cell_type": "code",
   "execution_count": 8,
   "metadata": {},
   "outputs": [],
   "source": [
    "# Ruta del archivo\n",
    "file_path = \"/data/scratch/LAB/enric/Proyecto_pitagoras/Analisis_pitagoras/Results/04_datos_concatenados/adata_concatenados_ANNOTD_10_pt.h5ad\"\n",
    "\n",
    "# Cargar el archivo con scanpy\n",
    "adata = sc.read_h5ad(file_path)"
   ]
  },
  {
   "cell_type": "markdown",
   "metadata": {},
   "source": [
    "Comprobamos la anotacion:"
   ]
  },
  {
   "cell_type": "code",
   "execution_count": 9,
   "metadata": {},
   "outputs": [],
   "source": [
    "import scanpy.external as sce"
   ]
  },
  {
   "cell_type": "code",
   "execution_count": 11,
   "metadata": {},
   "outputs": [],
   "source": [
    "# Normalizar los datos\n",
    "sc.pp.normalize_total(adata, target_sum=1e4)\n",
    "sc.pp.log1p(adata)"
   ]
  },
  {
   "cell_type": "code",
   "execution_count": 12,
   "metadata": {},
   "outputs": [
    {
     "name": "stderr",
     "output_type": "stream",
     "text": [
      "/home/evercher/miniforge3/envs/scvi-env/lib/python3.9/site-packages/scanpy/preprocessing/_highly_variable_genes.py:226: FutureWarning: The default of observed=False is deprecated and will be changed to True in a future version of pandas. Pass observed=False to retain current behavior or observed=True to adopt the future default and silence this warning.\n",
      "  disp_grouped = df.groupby(\"mean_bin\")[\"dispersions\"]\n",
      "/home/evercher/miniforge3/envs/scvi-env/lib/python3.9/site-packages/scanpy/preprocessing/_highly_variable_genes.py:226: FutureWarning: The default of observed=False is deprecated and will be changed to True in a future version of pandas. Pass observed=False to retain current behavior or observed=True to adopt the future default and silence this warning.\n",
      "  disp_grouped = df.groupby(\"mean_bin\")[\"dispersions\"]\n",
      "/home/evercher/miniforge3/envs/scvi-env/lib/python3.9/site-packages/scanpy/preprocessing/_highly_variable_genes.py:226: FutureWarning: The default of observed=False is deprecated and will be changed to True in a future version of pandas. Pass observed=False to retain current behavior or observed=True to adopt the future default and silence this warning.\n",
      "  disp_grouped = df.groupby(\"mean_bin\")[\"dispersions\"]\n",
      "/home/evercher/miniforge3/envs/scvi-env/lib/python3.9/site-packages/scanpy/preprocessing/_highly_variable_genes.py:226: FutureWarning: The default of observed=False is deprecated and will be changed to True in a future version of pandas. Pass observed=False to retain current behavior or observed=True to adopt the future default and silence this warning.\n",
      "  disp_grouped = df.groupby(\"mean_bin\")[\"dispersions\"]\n",
      "/home/evercher/miniforge3/envs/scvi-env/lib/python3.9/site-packages/scanpy/preprocessing/_highly_variable_genes.py:226: FutureWarning: The default of observed=False is deprecated and will be changed to True in a future version of pandas. Pass observed=False to retain current behavior or observed=True to adopt the future default and silence this warning.\n",
      "  disp_grouped = df.groupby(\"mean_bin\")[\"dispersions\"]\n",
      "/home/evercher/miniforge3/envs/scvi-env/lib/python3.9/site-packages/scanpy/preprocessing/_highly_variable_genes.py:226: FutureWarning: The default of observed=False is deprecated and will be changed to True in a future version of pandas. Pass observed=False to retain current behavior or observed=True to adopt the future default and silence this warning.\n",
      "  disp_grouped = df.groupby(\"mean_bin\")[\"dispersions\"]\n",
      "/home/evercher/miniforge3/envs/scvi-env/lib/python3.9/site-packages/scanpy/preprocessing/_highly_variable_genes.py:226: FutureWarning: The default of observed=False is deprecated and will be changed to True in a future version of pandas. Pass observed=False to retain current behavior or observed=True to adopt the future default and silence this warning.\n",
      "  disp_grouped = df.groupby(\"mean_bin\")[\"dispersions\"]\n",
      "/home/evercher/miniforge3/envs/scvi-env/lib/python3.9/site-packages/scanpy/preprocessing/_highly_variable_genes.py:226: FutureWarning: The default of observed=False is deprecated and will be changed to True in a future version of pandas. Pass observed=False to retain current behavior or observed=True to adopt the future default and silence this warning.\n",
      "  disp_grouped = df.groupby(\"mean_bin\")[\"dispersions\"]\n",
      "/home/evercher/miniforge3/envs/scvi-env/lib/python3.9/site-packages/scanpy/preprocessing/_highly_variable_genes.py:226: FutureWarning: The default of observed=False is deprecated and will be changed to True in a future version of pandas. Pass observed=False to retain current behavior or observed=True to adopt the future default and silence this warning.\n",
      "  disp_grouped = df.groupby(\"mean_bin\")[\"dispersions\"]\n",
      "/home/evercher/miniforge3/envs/scvi-env/lib/python3.9/site-packages/scanpy/preprocessing/_highly_variable_genes.py:226: FutureWarning: The default of observed=False is deprecated and will be changed to True in a future version of pandas. Pass observed=False to retain current behavior or observed=True to adopt the future default and silence this warning.\n",
      "  disp_grouped = df.groupby(\"mean_bin\")[\"dispersions\"]\n",
      "/home/evercher/miniforge3/envs/scvi-env/lib/python3.9/site-packages/scanpy/preprocessing/_highly_variable_genes.py:508: FutureWarning: The provided callable <function nanmean at 0x7fedc8259670> is currently using SeriesGroupBy.mean. In a future version of pandas, the provided callable will be used directly. To keep current behavior pass the string \"mean\" instead.\n",
      "  df = df.groupby(\"gene\").agg(\n",
      "/home/evercher/miniforge3/envs/scvi-env/lib/python3.9/site-packages/scanpy/preprocessing/_highly_variable_genes.py:508: FutureWarning: The provided callable <function nanmean at 0x7fedc8259670> is currently using SeriesGroupBy.mean. In a future version of pandas, the provided callable will be used directly. To keep current behavior pass the string \"mean\" instead.\n",
      "  df = df.groupby(\"gene\").agg(\n",
      "/home/evercher/miniforge3/envs/scvi-env/lib/python3.9/site-packages/scanpy/preprocessing/_highly_variable_genes.py:508: FutureWarning: The provided callable <function nansum at 0x7fedc8251f70> is currently using SeriesGroupBy.sum. In a future version of pandas, the provided callable will be used directly. To keep current behavior pass the string \"sum\" instead.\n",
      "  df = df.groupby(\"gene\").agg(\n"
     ]
    }
   ],
   "source": [
    "# Detectar los 3000 genes más variables, manteniendo todos los genes en el objeto\n",
    "sc.pp.highly_variable_genes(adata, n_top_genes=3000, batch_key='Sample', subset=False)"
   ]
  },
  {
   "cell_type": "code",
   "execution_count": 13,
   "metadata": {},
   "outputs": [],
   "source": [
    "hvg_data_harmony = adata[:, adata.var['highly_variable']].copy()"
   ]
  },
  {
   "cell_type": "code",
   "execution_count": null,
   "metadata": {},
   "outputs": [],
   "source": [
    "# Regresión para eliminar efectos no deseados\n",
    "sc.pp.regress_out(hvg_data_harmony, keys=['pct_counts_mt', 'pct_counts_ribo'])"
   ]
  },
  {
   "cell_type": "code",
   "execution_count": null,
   "metadata": {},
   "outputs": [],
   "source": [
    "# Escalar los datos de los HVG\n",
    "sc.pp.scale(hvg_data_harmony, max_value=10)"
   ]
  },
  {
   "cell_type": "code",
   "execution_count": null,
   "metadata": {},
   "outputs": [],
   "source": [
    "# Calcular PCA con los HVG ajustados\n",
    "sc.tl.pca(hvg_data_harmony, n_comps=50)"
   ]
  },
  {
   "cell_type": "code",
   "execution_count": null,
   "metadata": {},
   "outputs": [],
   "source": [
    "sce.pp.harmony_integrate(hvg_data_harmony, key='Sample')"
   ]
  },
  {
   "cell_type": "code",
   "execution_count": null,
   "metadata": {},
   "outputs": [],
   "source": [
    "# Calcular vecinos y UMAP con las PCs ajustadas por Harmony\n",
    "sc.pp.neighbors(hvg_data_harmony, use_rep='X_pca_harmony')\n",
    "sc.tl.umap(hvg_data_harmony)"
   ]
  },
  {
   "cell_type": "code",
   "execution_count": null,
   "metadata": {},
   "outputs": [],
   "source": [
    "sc.pl.umap(\n",
    "    hvg_data_harmony,\n",
    "    color=[\"majority_voting_low\", \"conf_score_low\"],\n",
    "    frameon=False,\n",
    "    sort_order=False,\n",
    "    wspace=1,\n",
    ")"
   ]
  },
  {
   "cell_type": "code",
   "execution_count": null,
   "metadata": {},
   "outputs": [],
   "source": [
    "# Generar dendrograma agrupando por 'majority_voting_low'\n",
    "sc.tl.dendrogram(hvg_data_harmony, groupby=\"majority_voting_low\")\n",
    "sc.pl.dendrogram(hvg_data_harmony, groupby=\"majority_voting_low\")"
   ]
  }
 ],
 "metadata": {
  "kernelspec": {
   "display_name": "Python 3 (ipykernel)",
   "language": "python",
   "name": "python3"
  },
  "language_info": {
   "codemirror_mode": {
    "name": "ipython",
    "version": 3
   },
   "file_extension": ".py",
   "mimetype": "text/x-python",
   "name": "python",
   "nbconvert_exporter": "python",
   "pygments_lexer": "ipython3",
   "version": "3.11.11"
  }
 },
 "nbformat": 4,
 "nbformat_minor": 4
}
