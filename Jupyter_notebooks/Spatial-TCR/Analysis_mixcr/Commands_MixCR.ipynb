{
 "cells": [
  {
   "cell_type": "code",
   "execution_count": null,
   "metadata": {},
   "outputs": [],
   "source": [
    "%%bash\n",
    "#con conda activate mixcr_3.0.13 del paper de Hudson\n",
    "mixcr analyze shotgun \\\n",
    "    -s hsa \\\n",
    "    --starting-material rna \\\n",
    "    --align \"-OsaveOriginalReads=true\" \\\n",
    "    --assemble \"--write-alignments\" \\\n",
    "    /data/scratch/LAB/enric/zz_Spatial_Seq_Hudosn/Patient_16/Spatial_TCR/Raw_data/SRR15052441_2.fastq.gz \\\n",
    "    /data/scratch/LAB/enric/zz_Spatial_Seq_Hudosn/Patient_16/Spatial_TCR/Processed_data/mixcr_3_output_hudson/clones\n"
   ]
  },
  {
   "cell_type": "code",
   "execution_count": null,
   "metadata": {},
   "outputs": [],
   "source": [
    "# mixcr analyze generic-ht-single-cell-amplicon-with-umi \\\n",
    "#     --species hsa \\\n",
    "#     --rna \\\n",
    "#     --tag-pattern \"^(CELL:N{16})(UMI:N{12})\\^(R2:*)\" \\\n",
    "#     /data/scratch/LAB/enric/zz_Spatial_Seq_Hudosn/Patient_16/Spatial_TCR/Raw_data/SRR15052441_1.fastq.gz \\\n",
    "#     /data/scratch/LAB/enric/zz_Spatial_Seq_Hudosn/Patient_16/Spatial_TCR/Raw_data/SRR15052441_2.fastq.gz \\\n",
    "#     data/scratch/LAB/enric/zz_Spatial_Seq_Hudosn/Patient_16/Spatial_TCR/Processed_data/mixcr_4_2"
   ]
  },
  {
   "cell_type": "code",
   "execution_count": null,
   "metadata": {},
   "outputs": [],
   "source": [
    "# An alternative with mixcr4, not the same result\n",
    "%%bash\n",
    "mixcr analyze generic-ht-single-cell-amplicon-with-umi \\\n",
    "    --rna \\\n",
    "    --species hsa \\\n",
    "    --tag-pattern \"^(CELL:N{16})(UMI:N{12})(R1:*)\\^(R2:*)\" \\\n",
    "    --floating-left-alignment-boundary \\\n",
    "    --floating-right-alignment-boundary C \\\n",
    "    --assemble-clonotypes-by CDR3 \\\n",
    "    /data/scratch/LAB/enric/zz_Spatial_Seq_Hudosn/Patient_16/Spatial_TCR/Raw_data/SRR15052441_1.fastq.gz \\\n",
    "    /data/scratch/LAB/enric/zz_Spatial_Seq_Hudosn/Patient_16/Spatial_TCR/Raw_data/SRR15052441_2.fastq.gz \\\n",
    "    /data/scratch/LAB/enric/zz_Spatial_Seq_Hudosn/Patient_16/Spatial_TCR/Processed_data/mixcr_4\n"
   ]
  },
  {
   "cell_type": "markdown",
   "metadata": {},
   "source": [
    "El uso de consensos en el ensamblaje de clonotipos es crucial para manejar errores de secuenciación y reducir la complejidad de los datos. En la secuenciación espacial, donde puedes tener múltiples clones por célula, permitir que el ensamblador genere varios consensos o limitar este número con maxConsensuses ayuda a equilibrar la precisión y la simplicidad del análisis. Sin consenso, puedes terminar con más clonotipos de los que realmente existen, debido a los errores de secuenciación."
   ]
  },
  {
   "cell_type": "code",
   "execution_count": null,
   "metadata": {},
   "outputs": [],
   "source": [
    "%%bash\n",
    "#mkdir -p /data/scratch/LAB/enric/zz_Spatial_Seq_Hudosn/Patient_16/Spatial_TCR/Processed_data/mixcr_3_output_hudson/reads\n",
    "mixcr exportReadsForClones \\\n",
    "    -s /data/scratch/LAB/enric/zz_Spatial_Seq_Hudosn/Patient_16/Spatial_TCR/Processed_data/mixcr_4/mixcr_4_Result.clna \\\n",
    "    /data/scratch/LAB/enric/zz_Spatial_Seq_Hudosn/Patient_16/Spatial_TCR/Processed_data/mixcr_4/reads/reads.fastq.gz"
   ]
  },
  {
   "cell_type": "markdown",
   "metadata": {},
   "source": [
    "### Linkage of TCR clones to spatial locations"
   ]
  },
  {
   "cell_type": "code",
   "execution_count": null,
   "metadata": {},
   "outputs": [],
   "source": [
    "%%bash\n",
    "python3 /data/scratch/LAB/enric/zz_Spatial_Seq_Hudosn/Analisis_mixcr/code_samples/combine_counts.py"
   ]
  },
  {
   "cell_type": "markdown",
   "metadata": {},
   "source": [
    "### Lo unimos con adata (mirar ya el Jupyter Notebook)"
   ]
  }
 ],
 "metadata": {
  "kernelspec": {
   "display_name": "Python 3 (ipykernel)",
   "language": "python",
   "name": "python3"
  },
  "language_info": {
   "codemirror_mode": {
    "name": "ipython",
    "version": 3
   },
   "file_extension": ".py",
   "mimetype": "text/x-python",
   "name": "python",
   "nbconvert_exporter": "python",
   "pygments_lexer": "ipython3",
   "version": "3.11.11"
  }
 },
 "nbformat": 4,
 "nbformat_minor": 4
}
