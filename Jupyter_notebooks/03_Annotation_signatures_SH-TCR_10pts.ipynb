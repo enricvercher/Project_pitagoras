{
 "cells": [
  {
   "cell_type": "code",
   "execution_count": 1,
   "metadata": {
    "editable": true,
    "slideshow": {
     "slide_type": ""
    },
    "tags": []
   },
   "outputs": [],
   "source": [
    "import warnings\n",
    "\n",
    "# Ignorar FutureWarning específicos de anndata\n",
    "warnings.simplefilter(action='ignore', category=FutureWarning)\n",
    "import scanpy as sc\n",
    "import seaborn as sns\n",
    "import matplotlib.pyplot as plt\n",
    "import pandas as pd\n",
    "import gzip\n",
    "from matplotlib.pyplot import rc_context\n",
    "import anndata as ad  # Importa anndata\n",
    "import numpy as np\n",
    "\n",
    "sc.set_figure_params(dpi=100)"
   ]
  },
  {
   "cell_type": "code",
   "execution_count": 2,
   "metadata": {},
   "outputs": [
    {
     "name": "stdout",
     "output_type": "stream",
     "text": [
      "{'FirmaCima_UP': ['ARL6IP1', 'CCL3', 'CTSB', 'CXCR6', 'LAG3'], 'FirmaCima_DOWN': ['ARL4C', 'CD69', 'DAPL1', 'EMB', 'FOS'], 'FirmaCimaPlus_UP': ['CD39', 'CXCL13', 'ARL6IP1', 'CCL3', 'CTSB'], 'FirmaCimaPlus_DOWN': ['ARL4C', 'CD69', 'DAPL1', 'EMB', 'FOS'], 'Firma_Oliveira_UP': ['CXCL13', 'ZBED2', 'LAG3', 'CTLA4', 'TOX']}\n"
     ]
    }
   ],
   "source": [
    "# Ruta al archivo Excel\n",
    "file_path = '/data/scratch/LAB/enric/Proyecto_pitagoras/Analisis_pitagoras/FIRMAS_SH-TCR/01-ALL_Signatures_TCR_Spec_Byst_Update241220.xlsx'\n",
    "\n",
    "# Cargar el archivo Excel\n",
    "excel_data = pd.ExcelFile(file_path)\n",
    "\n",
    "# Leer la primera hoja del archivo\n",
    "first_sheet = excel_data.parse(excel_data.sheet_names[0])\n",
    "\n",
    "# Lista de firmas a INCLUIR\n",
    "firmas_incluir = [\n",
    "    \"Firma_Oliveira_UP\", \"Firma_Oliveira_DOWN\", \"Lowery_Patente_UP (CD8)\",\n",
    "    \"Lowery_Patente_DOWN (CD8)\", \"Lowery_Patente-2_UP (CD8)\",\n",
    "    \"Lowery_Patente-2_DOWN (CD8)\", \"Lowery_ALL\", \"FirmaCima_UP\",\n",
    "    \"FirmaCima_DOWN\", \"FirmaCimaPlus_UP\", \"FirmaCimaPlus_DOWN\",\n",
    "    \"Petremand_UP\", \"Petremand_DOWN\"\n",
    "]\n",
    "\n",
    "# Filtrar las firmas transcriptómicas seleccionadas\n",
    "firmas_selected = {col: first_sheet[col].dropna().tolist() for col in first_sheet.columns if col in firmas_incluir}\n",
    "\n",
    "# Mostrar las primeras claves y valores para verificar\n",
    "print({key: firmas_selected[key][:5] for key in list(firmas_selected.keys())[:5]})"
   ]
  },
  {
   "cell_type": "code",
   "execution_count": 60,
   "metadata": {},
   "outputs": [
    {
     "data": {
      "text/plain": [
       "AnnData object with n_obs × n_vars = 53542 × 23209\n",
       "    obs: 'n_genes_by_counts', 'log1p_n_genes_by_counts', 'total_counts', 'log1p_total_counts', 'pct_counts_in_top_20_genes', 'total_counts_mt', 'log1p_total_counts_mt', 'pct_counts_mt', 'prediction', 'doublet', 'doublet_filtered', 'Sample', 'n_genes', 'total_counts_ribo', 'log1p_total_counts_ribo', 'pct_counts_ribo'\n",
       "    layers: 'counts_soupx_crude', 'original_counts'"
      ]
     },
     "execution_count": 60,
     "metadata": {},
     "output_type": "execute_result"
    }
   ],
   "source": [
    "adata = ad.read_h5ad(\"/data/scratch/LAB/enric/Proyecto_pitagoras/Analisis_pitagoras/Results/04_datos_concatenados/adata_concatenados_10_pt.h5ad\")\n",
    "adata"
   ]
  },
  {
   "cell_type": "code",
   "execution_count": 14,
   "metadata": {},
   "outputs": [],
   "source": [
    "# Convertir las firmas seleccionadas en una lista de genes únicos\n",
    "firmas_genes = [gene for genes in firmas_selected.values() for gene in genes]\n",
    "\n",
    "# Verificar si los genes están en adata.var.index\n",
    "missing_genes = [gene for gene in firmas_genes if gene not in adata.var.index]\n",
    "\n",
    "# Crear un DataFrame para los genes faltantes\n",
    "missing_genes_df = pd.DataFrame(missing_genes, columns=[\"Missing_Genes\"])\n",
    "\n",
    "# Guardar el DataFrame en un archivo CSV para su revisión\n",
    "missing_genes_df.to_csv(\"missing_genes.csv\", index=False)\n"
   ]
  },
  {
   "cell_type": "code",
   "execution_count": 15,
   "metadata": {},
   "outputs": [
    {
     "name": "stdout",
     "output_type": "stream",
     "text": [
      "genes = ['GM2682', 'GRAMD3', 'CD39', 'GM2682', 'GRAMD3', 'AC243829.4', 'KIAA1324', 'RARRES3', 'AFAP1IL2', 'HMOX1+', ' PDLIM4', 'RARRES3', 'AC004687.1', 'AC022706.1', 'AC243960.1', 'CARS', 'PLA2G16', 'FAM49A', 'AC243829.4', 'AC243960.1', 'AC016747.1', 'WARS', 'UpP1', 'AC004585.1', 'AC034238.1', 'AC013264.1']\n"
     ]
    }
   ],
   "source": [
    "# Convertir los genes faltantes a una lista formateada\n",
    "genes = missing_genes_df[\"Missing_Genes\"].tolist()\n",
    "\n",
    "# Mostrar la lista en formato Python\n",
    "print(f\"genes = {genes}\")"
   ]
  },
  {
   "cell_type": "code",
   "execution_count": 7,
   "metadata": {},
   "outputs": [],
   "source": [
    "from mygene import MyGeneInfo"
   ]
  },
  {
   "cell_type": "code",
   "execution_count": 51,
   "metadata": {},
   "outputs": [
    {
     "data": {
      "text/plain": [
       "True"
      ]
     },
     "execution_count": 51,
     "metadata": {},
     "output_type": "execute_result"
    }
   ],
   "source": [
    "#\"GENE\" in adata.var_names"
   ]
  },
  {
   "cell_type": "code",
   "execution_count": 48,
   "metadata": {},
   "outputs": [],
   "source": [
    "# Diccionario de mapeo según tus observaciones\n",
    "gene_mapping = {\n",
    "    \"GM2682\": \"GM2682\",  # no existe, se queda igual\n",
    "    \"GRAMD3\": \"GRAMD2B\",\n",
    "    \"CD39\": \"ENTPD1\",\n",
    "    \"AC243829.4\": \"AC243829.4\",  # ambiguo, se queda igual\n",
    "    \"KIAA1324\": \"ELAPOR1\",\n",
    "    \"RARRES3\": \"PLAAAT4\",\n",
    "    \"AFAP1IL2\": \"AFAP1L2\",\n",
    "    \"HMOX1+\": \"HMOX1\",\n",
    "    \"PDLIM4\": \"PDLIM4\",  # se queda igual\n",
    "    \"AC004687.1\": \"AC004687.1\",  # ambiguo, se queda igual\n",
    "    \"AC022706.1\": \"AC022706.1\",  # no existe, se queda igual\n",
    "    \"AC243960.1\": \"AC243960.1\",  # ambiguo, se queda igual\n",
    "    \"CARS\": \"CARS\",  # no está, se queda igual\n",
    "    \"PLA2G16\": \"PLA2G16\",  # no está, se queda igual\n",
    "    \"FAM49A\": \"FAM49A\",  # no está, se queda igual\n",
    "    \"AC016747.1\": \"AC016747.1\",  # no está, se queda igual\n",
    "    \"WARS\": \"WARS1\",\n",
    "    \"UpP1\": \"UPP1\",\n",
    "    \"AC004585.1\": \"AC004585.1\",  # no está, se queda igual\n",
    "    \"AC034238.1\": \"AC034238.1\",  # no está, se queda igual\n",
    "    \"AC013264.1\": \"AC013264.1\",  # no está, se queda igual\n",
    "}"
   ]
  },
  {
   "cell_type": "code",
   "execution_count": 49,
   "metadata": {},
   "outputs": [],
   "source": [
    "# Modificar firmas_selected usando el mapeo\n",
    "firmas_selected = {\n",
    "    key: [gene_mapping.get(gene, gene) for gene in genes]\n",
    "    for key, genes in firmas_selected.items()\n",
    "}\n"
   ]
  },
  {
   "cell_type": "markdown",
   "metadata": {},
   "source": [
    "## Aplicamos las firmas transcriptómicas"
   ]
  },
  {
   "cell_type": "code",
   "execution_count": 52,
   "metadata": {},
   "outputs": [],
   "source": [
    "import pandas as pd\n",
    "import decoupler as dc\n",
    "import scanpy as sc\n",
    "# Actualiza las importaciones para futuras versiones\n",
    "from anndata.io import read_csv, read_excel, read_hdf, read_loom, read_mtx, read_text, read_umi_tools"
   ]
  },
  {
   "cell_type": "markdown",
   "metadata": {},
   "source": [
    "## Corremos las firmas transcriptomicas"
   ]
  },
  {
   "cell_type": "code",
   "execution_count": 61,
   "metadata": {},
   "outputs": [],
   "source": [
    "# Normalizar los datos en la capa \"counts_soupx_crude\"\n",
    "sc.pp.normalize_total(adata, target_sum=1e4)\n",
    "# Log-transformación de la capa normalizada\n",
    "sc.pp.log1p(adata)"
   ]
  },
  {
   "cell_type": "code",
   "execution_count": 54,
   "metadata": {},
   "outputs": [],
   "source": [
    "# Convertir firmas transcriptómicas en un formato similar a reactome\n",
    "firmas_transcriptomicas = pd.DataFrame(\n",
    "    [(firma, gene) for firma, genes in firmas_selected.items() for gene in genes],\n",
    "    columns=[\"geneset\", \"genesymbol\"]\n",
    ")"
   ]
  },
  {
   "cell_type": "code",
   "execution_count": 62,
   "metadata": {},
   "outputs": [
    {
     "name": "stdout",
     "output_type": "stream",
     "text": [
      "1 features of mat are empty, they will be removed.\n",
      "Running aucell on mat with 53542 samples and 23208 targets for 13 sources.\n"
     ]
    },
    {
     "data": {
      "application/vnd.jupyter.widget-view+json": {
       "model_id": "4610d1aa655548b1961bbdae7041ece1",
       "version_major": 2,
       "version_minor": 0
      },
      "text/plain": [
       "  0%|          | 0/53542 [00:00<?, ?it/s]"
      ]
     },
     "metadata": {},
     "output_type": "display_data"
    }
   ],
   "source": [
    "aucell_scores = dc.run_aucell(\n",
    "    adata,  # Pasa directamente el objeto AnnData\n",
    "    firmas_transcriptomicas,  # El DataFrame convertido\n",
    "    source=\"geneset\",  # Columna con los nombres de las firmas\n",
    "    target=\"genesymbol\",  # Columna con los genes\n",
    "    use_raw=False,  # Usar la capa activa en AnnData\n",
    "    n_up=None,  # Usa por defecto el top 5% de genes\n",
    "    min_n=5,  # Mínimo de genes requeridos en el conjunto\n",
    "    seed=42,  # Para reproducibilidad\n",
    "    verbose=True\n",
    ")"
   ]
  },
  {
   "cell_type": "code",
   "execution_count": 63,
   "metadata": {},
   "outputs": [
    {
     "data": {
      "text/html": [
       "<div>\n",
       "<style scoped>\n",
       "    .dataframe tbody tr th:only-of-type {\n",
       "        vertical-align: middle;\n",
       "    }\n",
       "\n",
       "    .dataframe tbody tr th {\n",
       "        vertical-align: top;\n",
       "    }\n",
       "\n",
       "    .dataframe thead th {\n",
       "        text-align: right;\n",
       "    }\n",
       "</style>\n",
       "<table border=\"1\" class=\"dataframe\">\n",
       "  <thead>\n",
       "    <tr style=\"text-align: right;\">\n",
       "      <th>source</th>\n",
       "      <th>FirmaCimaPlus_DOWN</th>\n",
       "      <th>FirmaCimaPlus_UP</th>\n",
       "      <th>FirmaCima_DOWN</th>\n",
       "      <th>FirmaCima_UP</th>\n",
       "      <th>Firma_Oliveira_DOWN</th>\n",
       "      <th>Firma_Oliveira_UP</th>\n",
       "      <th>Lowery_ALL</th>\n",
       "      <th>Lowery_Patente-2_DOWN (CD8)</th>\n",
       "      <th>Lowery_Patente-2_UP (CD8)</th>\n",
       "      <th>Lowery_Patente_DOWN (CD8)</th>\n",
       "      <th>Lowery_Patente_UP (CD8)</th>\n",
       "      <th>Petremand_DOWN</th>\n",
       "      <th>Petremand_UP</th>\n",
       "    </tr>\n",
       "  </thead>\n",
       "  <tbody>\n",
       "    <tr>\n",
       "      <th>AAACCTGAGAAGAAGC-1_PT14</th>\n",
       "      <td>0.248672</td>\n",
       "      <td>0.060685</td>\n",
       "      <td>0.248672</td>\n",
       "      <td>0.070738</td>\n",
       "      <td>0.161193</td>\n",
       "      <td>0.078694</td>\n",
       "      <td>0.155210</td>\n",
       "      <td>0.692601</td>\n",
       "      <td>0.222707</td>\n",
       "      <td>0.692601</td>\n",
       "      <td>0.246246</td>\n",
       "      <td>0.164356</td>\n",
       "      <td>0.061599</td>\n",
       "    </tr>\n",
       "    <tr>\n",
       "      <th>AAACCTGAGGACAGAA-1_PT14</th>\n",
       "      <td>0.136949</td>\n",
       "      <td>0.138832</td>\n",
       "      <td>0.136949</td>\n",
       "      <td>0.078389</td>\n",
       "      <td>0.156834</td>\n",
       "      <td>0.101168</td>\n",
       "      <td>0.120862</td>\n",
       "      <td>0.406231</td>\n",
       "      <td>0.239189</td>\n",
       "      <td>0.406231</td>\n",
       "      <td>0.258520</td>\n",
       "      <td>0.090081</td>\n",
       "      <td>0.081588</td>\n",
       "    </tr>\n",
       "    <tr>\n",
       "      <th>AAACCTGAGTGGAGTC-1_PT14</th>\n",
       "      <td>0.000000</td>\n",
       "      <td>0.194811</td>\n",
       "      <td>0.000000</td>\n",
       "      <td>0.227082</td>\n",
       "      <td>0.034970</td>\n",
       "      <td>0.143750</td>\n",
       "      <td>0.169152</td>\n",
       "      <td>0.180355</td>\n",
       "      <td>0.281758</td>\n",
       "      <td>0.180355</td>\n",
       "      <td>0.281260</td>\n",
       "      <td>0.040914</td>\n",
       "      <td>0.089662</td>\n",
       "    </tr>\n",
       "    <tr>\n",
       "      <th>AAACCTGAGTGTCTCA-1_PT14</th>\n",
       "      <td>0.025071</td>\n",
       "      <td>0.067682</td>\n",
       "      <td>0.025071</td>\n",
       "      <td>0.078894</td>\n",
       "      <td>0.089961</td>\n",
       "      <td>0.015393</td>\n",
       "      <td>0.061002</td>\n",
       "      <td>0.519256</td>\n",
       "      <td>0.073278</td>\n",
       "      <td>0.519256</td>\n",
       "      <td>0.081023</td>\n",
       "      <td>0.078299</td>\n",
       "      <td>0.041996</td>\n",
       "    </tr>\n",
       "    <tr>\n",
       "      <th>AAACCTGCAAACTGTC-1_PT14</th>\n",
       "      <td>0.222988</td>\n",
       "      <td>0.051892</td>\n",
       "      <td>0.222988</td>\n",
       "      <td>0.060488</td>\n",
       "      <td>0.120701</td>\n",
       "      <td>0.040170</td>\n",
       "      <td>0.086224</td>\n",
       "      <td>0.574989</td>\n",
       "      <td>0.080124</td>\n",
       "      <td>0.574989</td>\n",
       "      <td>0.088593</td>\n",
       "      <td>0.140071</td>\n",
       "      <td>0.055720</td>\n",
       "    </tr>\n",
       "  </tbody>\n",
       "</table>\n",
       "</div>"
      ],
      "text/plain": [
       "source                   FirmaCimaPlus_DOWN  FirmaCimaPlus_UP  FirmaCima_DOWN  \\\n",
       "AAACCTGAGAAGAAGC-1_PT14            0.248672          0.060685        0.248672   \n",
       "AAACCTGAGGACAGAA-1_PT14            0.136949          0.138832        0.136949   \n",
       "AAACCTGAGTGGAGTC-1_PT14            0.000000          0.194811        0.000000   \n",
       "AAACCTGAGTGTCTCA-1_PT14            0.025071          0.067682        0.025071   \n",
       "AAACCTGCAAACTGTC-1_PT14            0.222988          0.051892        0.222988   \n",
       "\n",
       "source                   FirmaCima_UP  Firma_Oliveira_DOWN  Firma_Oliveira_UP  \\\n",
       "AAACCTGAGAAGAAGC-1_PT14      0.070738             0.161193           0.078694   \n",
       "AAACCTGAGGACAGAA-1_PT14      0.078389             0.156834           0.101168   \n",
       "AAACCTGAGTGGAGTC-1_PT14      0.227082             0.034970           0.143750   \n",
       "AAACCTGAGTGTCTCA-1_PT14      0.078894             0.089961           0.015393   \n",
       "AAACCTGCAAACTGTC-1_PT14      0.060488             0.120701           0.040170   \n",
       "\n",
       "source                   Lowery_ALL  Lowery_Patente-2_DOWN (CD8)  \\\n",
       "AAACCTGAGAAGAAGC-1_PT14    0.155210                     0.692601   \n",
       "AAACCTGAGGACAGAA-1_PT14    0.120862                     0.406231   \n",
       "AAACCTGAGTGGAGTC-1_PT14    0.169152                     0.180355   \n",
       "AAACCTGAGTGTCTCA-1_PT14    0.061002                     0.519256   \n",
       "AAACCTGCAAACTGTC-1_PT14    0.086224                     0.574989   \n",
       "\n",
       "source                   Lowery_Patente-2_UP (CD8)  Lowery_Patente_DOWN (CD8)  \\\n",
       "AAACCTGAGAAGAAGC-1_PT14                   0.222707                   0.692601   \n",
       "AAACCTGAGGACAGAA-1_PT14                   0.239189                   0.406231   \n",
       "AAACCTGAGTGGAGTC-1_PT14                   0.281758                   0.180355   \n",
       "AAACCTGAGTGTCTCA-1_PT14                   0.073278                   0.519256   \n",
       "AAACCTGCAAACTGTC-1_PT14                   0.080124                   0.574989   \n",
       "\n",
       "source                   Lowery_Patente_UP (CD8)  Petremand_DOWN  Petremand_UP  \n",
       "AAACCTGAGAAGAAGC-1_PT14                 0.246246        0.164356      0.061599  \n",
       "AAACCTGAGGACAGAA-1_PT14                 0.258520        0.090081      0.081588  \n",
       "AAACCTGAGTGGAGTC-1_PT14                 0.281260        0.040914      0.089662  \n",
       "AAACCTGAGTGTCTCA-1_PT14                 0.081023        0.078299      0.041996  \n",
       "AAACCTGCAAACTGTC-1_PT14                 0.088593        0.140071      0.055720  "
      ]
     },
     "execution_count": 63,
     "metadata": {},
     "output_type": "execute_result"
    }
   ],
   "source": [
    "adata.obsm['aucell_estimate'].head()"
   ]
  },
  {
   "cell_type": "code",
   "execution_count": 57,
   "metadata": {},
   "outputs": [
    {
     "data": {
      "text/html": [
       "<div>\n",
       "<style scoped>\n",
       "    .dataframe tbody tr th:only-of-type {\n",
       "        vertical-align: middle;\n",
       "    }\n",
       "\n",
       "    .dataframe tbody tr th {\n",
       "        vertical-align: top;\n",
       "    }\n",
       "\n",
       "    .dataframe thead th {\n",
       "        text-align: right;\n",
       "    }\n",
       "</style>\n",
       "<table border=\"1\" class=\"dataframe\">\n",
       "  <thead>\n",
       "    <tr style=\"text-align: right;\">\n",
       "      <th>source</th>\n",
       "      <th>FirmaCimaPlus_DOWN</th>\n",
       "      <th>FirmaCimaPlus_UP</th>\n",
       "      <th>FirmaCima_DOWN</th>\n",
       "      <th>FirmaCima_UP</th>\n",
       "      <th>Firma_Oliveira_DOWN</th>\n",
       "      <th>Firma_Oliveira_UP</th>\n",
       "      <th>Lowery_ALL</th>\n",
       "      <th>Lowery_Patente-2_DOWN (CD8)</th>\n",
       "      <th>Lowery_Patente-2_UP (CD8)</th>\n",
       "      <th>Lowery_Patente_DOWN (CD8)</th>\n",
       "      <th>Lowery_Patente_UP (CD8)</th>\n",
       "      <th>Petremand_DOWN</th>\n",
       "      <th>Petremand_UP</th>\n",
       "    </tr>\n",
       "  </thead>\n",
       "  <tbody>\n",
       "    <tr>\n",
       "      <th>count</th>\n",
       "      <td>53542.000000</td>\n",
       "      <td>53542.000000</td>\n",
       "      <td>53542.000000</td>\n",
       "      <td>53542.000000</td>\n",
       "      <td>53542.000000</td>\n",
       "      <td>53542.000000</td>\n",
       "      <td>53542.000000</td>\n",
       "      <td>53542.000000</td>\n",
       "      <td>53542.000000</td>\n",
       "      <td>53542.000000</td>\n",
       "      <td>53542.000000</td>\n",
       "      <td>53542.000000</td>\n",
       "      <td>53542.000000</td>\n",
       "    </tr>\n",
       "    <tr>\n",
       "      <th>mean</th>\n",
       "      <td>0.199079</td>\n",
       "      <td>0.114751</td>\n",
       "      <td>0.199079</td>\n",
       "      <td>0.124414</td>\n",
       "      <td>0.113797</td>\n",
       "      <td>0.059599</td>\n",
       "      <td>0.117233</td>\n",
       "      <td>0.476243</td>\n",
       "      <td>0.158860</td>\n",
       "      <td>0.476243</td>\n",
       "      <td>0.173223</td>\n",
       "      <td>0.103615</td>\n",
       "      <td>0.073870</td>\n",
       "    </tr>\n",
       "    <tr>\n",
       "      <th>std</th>\n",
       "      <td>0.089287</td>\n",
       "      <td>0.084446</td>\n",
       "      <td>0.089287</td>\n",
       "      <td>0.084860</td>\n",
       "      <td>0.064228</td>\n",
       "      <td>0.046332</td>\n",
       "      <td>0.045816</td>\n",
       "      <td>0.159915</td>\n",
       "      <td>0.112460</td>\n",
       "      <td>0.159915</td>\n",
       "      <td>0.121232</td>\n",
       "      <td>0.035929</td>\n",
       "      <td>0.036578</td>\n",
       "    </tr>\n",
       "    <tr>\n",
       "      <th>min</th>\n",
       "      <td>0.000000</td>\n",
       "      <td>0.000000</td>\n",
       "      <td>0.000000</td>\n",
       "      <td>0.000000</td>\n",
       "      <td>0.000000</td>\n",
       "      <td>0.000000</td>\n",
       "      <td>0.015395</td>\n",
       "      <td>0.000000</td>\n",
       "      <td>0.000000</td>\n",
       "      <td>0.000000</td>\n",
       "      <td>0.000000</td>\n",
       "      <td>0.001595</td>\n",
       "      <td>0.000000</td>\n",
       "    </tr>\n",
       "    <tr>\n",
       "      <th>25%</th>\n",
       "      <td>0.135110</td>\n",
       "      <td>0.055499</td>\n",
       "      <td>0.135110</td>\n",
       "      <td>0.063592</td>\n",
       "      <td>0.067616</td>\n",
       "      <td>0.028397</td>\n",
       "      <td>0.084660</td>\n",
       "      <td>0.364171</td>\n",
       "      <td>0.077617</td>\n",
       "      <td>0.364171</td>\n",
       "      <td>0.085166</td>\n",
       "      <td>0.077952</td>\n",
       "      <td>0.048052</td>\n",
       "    </tr>\n",
       "    <tr>\n",
       "      <th>50%</th>\n",
       "      <td>0.193959</td>\n",
       "      <td>0.099573</td>\n",
       "      <td>0.193959</td>\n",
       "      <td>0.113325</td>\n",
       "      <td>0.111757</td>\n",
       "      <td>0.045898</td>\n",
       "      <td>0.107533</td>\n",
       "      <td>0.486975</td>\n",
       "      <td>0.128441</td>\n",
       "      <td>0.486975</td>\n",
       "      <td>0.140645</td>\n",
       "      <td>0.102697</td>\n",
       "      <td>0.066032</td>\n",
       "    </tr>\n",
       "    <tr>\n",
       "      <th>75%</th>\n",
       "      <td>0.257966</td>\n",
       "      <td>0.156542</td>\n",
       "      <td>0.257966</td>\n",
       "      <td>0.173524</td>\n",
       "      <td>0.156414</td>\n",
       "      <td>0.075568</td>\n",
       "      <td>0.138983</td>\n",
       "      <td>0.595932</td>\n",
       "      <td>0.208001</td>\n",
       "      <td>0.595932</td>\n",
       "      <td>0.227556</td>\n",
       "      <td>0.127589</td>\n",
       "      <td>0.091775</td>\n",
       "    </tr>\n",
       "    <tr>\n",
       "      <th>max</th>\n",
       "      <td>0.584559</td>\n",
       "      <td>0.569014</td>\n",
       "      <td>0.584559</td>\n",
       "      <td>0.597661</td>\n",
       "      <td>0.417708</td>\n",
       "      <td>0.338480</td>\n",
       "      <td>0.340604</td>\n",
       "      <td>0.907486</td>\n",
       "      <td>0.655106</td>\n",
       "      <td>0.907486</td>\n",
       "      <td>0.723444</td>\n",
       "      <td>0.249817</td>\n",
       "      <td>0.304417</td>\n",
       "    </tr>\n",
       "  </tbody>\n",
       "</table>\n",
       "</div>"
      ],
      "text/plain": [
       "source  FirmaCimaPlus_DOWN  FirmaCimaPlus_UP  FirmaCima_DOWN  FirmaCima_UP  \\\n",
       "count         53542.000000      53542.000000    53542.000000  53542.000000   \n",
       "mean              0.199079          0.114751        0.199079      0.124414   \n",
       "std               0.089287          0.084446        0.089287      0.084860   \n",
       "min               0.000000          0.000000        0.000000      0.000000   \n",
       "25%               0.135110          0.055499        0.135110      0.063592   \n",
       "50%               0.193959          0.099573        0.193959      0.113325   \n",
       "75%               0.257966          0.156542        0.257966      0.173524   \n",
       "max               0.584559          0.569014        0.584559      0.597661   \n",
       "\n",
       "source  Firma_Oliveira_DOWN  Firma_Oliveira_UP    Lowery_ALL  \\\n",
       "count          53542.000000       53542.000000  53542.000000   \n",
       "mean               0.113797           0.059599      0.117233   \n",
       "std                0.064228           0.046332      0.045816   \n",
       "min                0.000000           0.000000      0.015395   \n",
       "25%                0.067616           0.028397      0.084660   \n",
       "50%                0.111757           0.045898      0.107533   \n",
       "75%                0.156414           0.075568      0.138983   \n",
       "max                0.417708           0.338480      0.340604   \n",
       "\n",
       "source  Lowery_Patente-2_DOWN (CD8)  Lowery_Patente-2_UP (CD8)  \\\n",
       "count                  53542.000000               53542.000000   \n",
       "mean                       0.476243                   0.158860   \n",
       "std                        0.159915                   0.112460   \n",
       "min                        0.000000                   0.000000   \n",
       "25%                        0.364171                   0.077617   \n",
       "50%                        0.486975                   0.128441   \n",
       "75%                        0.595932                   0.208001   \n",
       "max                        0.907486                   0.655106   \n",
       "\n",
       "source  Lowery_Patente_DOWN (CD8)  Lowery_Patente_UP (CD8)  Petremand_DOWN  \\\n",
       "count                53542.000000             53542.000000    53542.000000   \n",
       "mean                     0.476243                 0.173223        0.103615   \n",
       "std                      0.159915                 0.121232        0.035929   \n",
       "min                      0.000000                 0.000000        0.001595   \n",
       "25%                      0.364171                 0.085166        0.077952   \n",
       "50%                      0.486975                 0.140645        0.102697   \n",
       "75%                      0.595932                 0.227556        0.127589   \n",
       "max                      0.907486                 0.723444        0.249817   \n",
       "\n",
       "source  Petremand_UP  \n",
       "count   53542.000000  \n",
       "mean        0.073870  \n",
       "std         0.036578  \n",
       "min         0.000000  \n",
       "25%         0.048052  \n",
       "50%         0.066032  \n",
       "75%         0.091775  \n",
       "max         0.304417  "
      ]
     },
     "execution_count": 57,
     "metadata": {},
     "output_type": "execute_result"
    }
   ],
   "source": [
    "adata.obsm['aucell_estimate'].describe()"
   ]
  },
  {
   "cell_type": "code",
   "execution_count": 67,
   "metadata": {
    "scrolled": true
   },
   "outputs": [
    {
     "name": "stdout",
     "output_type": "stream",
     "text": [
      "source                   FirmaCimaPlus_FINAL  FirmaCima_FINAL  \\\n",
      "AAACCTGAGAAGAAGC-1_PT14            -0.187988        -0.177935   \n",
      "AAACCTGAGGACAGAA-1_PT14             0.001884        -0.058560   \n",
      "AAACCTGAGTGGAGTC-1_PT14             0.194811         0.227082   \n",
      "AAACCTGAGTGTCTCA-1_PT14             0.042611         0.053823   \n",
      "AAACCTGCAAACTGTC-1_PT14            -0.171096        -0.162500   \n",
      "\n",
      "source                   Firma_Oliveira_FINAL  Lowery_Patente-2_FINAL(CD8)  \\\n",
      "AAACCTGAGAAGAAGC-1_PT14             -0.082499                    -0.469893   \n",
      "AAACCTGAGGACAGAA-1_PT14             -0.055667                    -0.167042   \n",
      "AAACCTGAGTGGAGTC-1_PT14              0.108780                     0.101403   \n",
      "AAACCTGAGTGTCTCA-1_PT14             -0.074568                    -0.445978   \n",
      "AAACCTGCAAACTGTC-1_PT14             -0.080532                    -0.494865   \n",
      "\n",
      "source                   Lowery_Patente_FINAL(CD8)  Petremand_FINAL  \\\n",
      "AAACCTGAGAAGAAGC-1_PT14                  -0.446354        -0.102757   \n",
      "AAACCTGAGGACAGAA-1_PT14                  -0.147711        -0.008493   \n",
      "AAACCTGAGTGGAGTC-1_PT14                   0.100905         0.048748   \n",
      "AAACCTGAGTGTCTCA-1_PT14                  -0.438233        -0.036303   \n",
      "AAACCTGCAAACTGTC-1_PT14                  -0.486397        -0.084351   \n",
      "\n",
      "source                   Lowery_ALL_FINAL  \n",
      "AAACCTGAGAAGAAGC-1_PT14          0.155210  \n",
      "AAACCTGAGGACAGAA-1_PT14          0.120862  \n",
      "AAACCTGAGTGGAGTC-1_PT14          0.169152  \n",
      "AAACCTGAGTGTCTCA-1_PT14          0.061002  \n",
      "AAACCTGCAAACTGTC-1_PT14          0.086224  \n"
     ]
    }
   ],
   "source": [
    "# Crear una copia del objeto adata\n",
    "adata_copy = adata.copy()\n",
    "\n",
    "# Trabaja con adata_copy en lugar del original\n",
    "aucell_estimate = adata_copy.obsm['aucell_estimate']\n",
    "\n",
    "# Crear las columnas \"FINAL\" con nombres correctos y definidos manualmente\n",
    "aucell_estimate[\"FirmaCimaPlus_FINAL\"] = aucell_estimate[\"FirmaCimaPlus_UP\"] - aucell_estimate[\"FirmaCimaPlus_DOWN\"]\n",
    "aucell_estimate[\"FirmaCima_FINAL\"] = aucell_estimate[\"FirmaCima_UP\"] - aucell_estimate[\"FirmaCima_DOWN\"]\n",
    "aucell_estimate[\"Firma_Oliveira_FINAL\"] = aucell_estimate[\"Firma_Oliveira_UP\"] - aucell_estimate[\"Firma_Oliveira_DOWN\"]\n",
    "aucell_estimate[\"Lowery_Patente-2_FINAL(CD8)\"] = aucell_estimate[\"Lowery_Patente-2_UP (CD8)\"] - aucell_estimate[\"Lowery_Patente-2_DOWN (CD8)\"]\n",
    "aucell_estimate[\"Lowery_Patente_FINAL(CD8)\"] = aucell_estimate[\"Lowery_Patente_UP (CD8)\"] - aucell_estimate[\"Lowery_Patente_DOWN (CD8)\"]\n",
    "aucell_estimate[\"Petremand_FINAL\"] = aucell_estimate[\"Petremand_UP\"] - aucell_estimate[\"Petremand_DOWN\"]\n",
    "aucell_estimate[\"Lowery_ALL_FINAL\"] = aucell_estimate[\"Lowery_ALL\"]  # Copiado directamente\n",
    "\n",
    "# Eliminar las columnas originales UP y DOWN\n",
    "columns_to_remove = [\n",
    "    \"FirmaCimaPlus_UP\", \"FirmaCimaPlus_DOWN\",\n",
    "    \"FirmaCima_UP\", \"FirmaCima_DOWN\",\n",
    "    \"Firma_Oliveira_UP\", \"Firma_Oliveira_DOWN\",\n",
    "    \"Lowery_Patente-2_UP (CD8)\", \"Lowery_Patente-2_DOWN (CD8)\",\n",
    "    \"Lowery_Patente_UP (CD8)\", \"Lowery_Patente_DOWN (CD8)\",\n",
    "    \"Petremand_UP\", \"Petremand_DOWN\",\n",
    "    \"Lowery_ALL\"\n",
    "]\n",
    "aucell_estimate = aucell_estimate.drop(columns=columns_to_remove)\n",
    "\n",
    "# Actualizar la copia del objeto adata\n",
    "adata_copy.obsm['aucell_estimate'] = aucell_estimate\n",
    "\n",
    "# Mostrar las primeras filas para verificar el resultado\n",
    "print(adata_copy.obsm['aucell_estimate'].head())"
   ]
  },
  {
   "cell_type": "code",
   "execution_count": 68,
   "metadata": {},
   "outputs": [
    {
     "name": "stdout",
     "output_type": "stream",
     "text": [
      "source                   FirmaCimaPlus_FINAL  FirmaCima_FINAL  \\\n",
      "AAACCTGAGAAGAAGC-1_PT14            -0.752329        -0.758073   \n",
      "AAACCTGAGGACAGAA-1_PT14             0.625701         0.118228   \n",
      "AAACCTGAGTGGAGTC-1_PT14             2.025910         2.215051   \n",
      "AAACCTGAGTGTCTCA-1_PT14             0.921286         0.943197   \n",
      "AAACCTGCAAACTGTC-1_PT14            -0.629738        -0.644773   \n",
      "\n",
      "source                   Firma_Oliveira_FINAL  Lowery_Patente-2_FINAL(CD8)  \\\n",
      "AAACCTGAGAAGAAGC-1_PT14             -0.287170                    -0.688035   \n",
      "AAACCTGAGGACAGAA-1_PT14             -0.014908                     0.678248   \n",
      "AAACCTGAGTGGAGTC-1_PT14              1.653671                     1.889315   \n",
      "AAACCTGAGTGTCTCA-1_PT14             -0.206695                    -0.580143   \n",
      "AAACCTGCAAACTGTC-1_PT14             -0.267204                    -0.800694   \n",
      "\n",
      "source                   Lowery_Patente_FINAL(CD8)  Petremand_FINAL  \\\n",
      "AAACCTGAGAAGAAGC-1_PT14                  -0.630233        -1.188962   \n",
      "AAACCTGAGGACAGAA-1_PT14                   0.682879         0.346079   \n",
      "AAACCTGAGTGGAGTC-1_PT14                   1.776027         1.278230   \n",
      "AAACCTGAGTGTCTCA-1_PT14                  -0.594523        -0.106789   \n",
      "AAACCTGCAAACTGTC-1_PT14                  -0.806296        -0.889228   \n",
      "\n",
      "source                   Lowery_ALL_FINAL  \n",
      "AAACCTGAGAAGAAGC-1_PT14          0.828910  \n",
      "AAACCTGAGGACAGAA-1_PT14          0.079219  \n",
      "AAACCTGAGTGGAGTC-1_PT14          1.133224  \n",
      "AAACCTGAGTGTCTCA-1_PT14         -1.227325  \n",
      "AAACCTGCAAACTGTC-1_PT14         -0.676812  \n"
     ]
    }
   ],
   "source": [
    "from scipy.stats import zscore\n",
    "\n",
    "# Aplicar z-score a cada columna en adata_copy.obsm['aucell_estimate']\n",
    "adata_copy.obsm['aucell_estimate_zscore'] = adata_copy.obsm['aucell_estimate'].apply(zscore, axis=0)\n",
    "\n",
    "# Mostrar las primeras filas para verificar los resultados\n",
    "print(adata_copy.obsm['aucell_estimate_zscore'].head())"
   ]
  },
  {
   "cell_type": "code",
   "execution_count": 71,
   "metadata": {},
   "outputs": [],
   "source": [
    "# Guardar el metadata de AUCell en un archivo TSV\n",
    "output_path = \"/data/scratch/LAB/enric/Proyecto_pitagoras/Analisis_pitagoras/Results/04_anotacion_celltypist_ProjecTIL_firmas/Analisis_firmas_TCR_AUC_10_pts.tsv\"\n",
    "\n",
    "# Extraer la matriz de AUCell scores desde adata.obsm\n",
    "aucell_scores = adata_copy.obsm['aucell_estimate_zscore']\n",
    "\n",
    "# Guardar los scores en un archivo TSV\n",
    "aucell_scores.to_csv(output_path, sep=\"\\t\")"
   ]
  },
  {
   "cell_type": "markdown",
   "metadata": {},
   "source": [
    "Cargamos por ejemplo el archivo con integración de Harmony:"
   ]
  },
  {
   "cell_type": "code",
   "execution_count": null,
   "metadata": {
    "scrolled": true
   },
   "outputs": [],
   "source": [
    "import muon as mu"
   ]
  },
  {
   "cell_type": "code",
   "execution_count": 2,
   "metadata": {},
   "outputs": [
    {
     "name": "stderr",
     "output_type": "stream",
     "text": [
      "/home/evercher/miniforge3/envs/dandelion/lib/python3.11/site-packages/anndata/utils.py:349: ExperimentalFeatureWarning: Support for Awkward Arrays is currently experimental. Behavior may change in the future. Please report any issues you may encounter!\n",
      "  warnings.warn(msg, category, stacklevel=stacklevel)\n",
      "/home/evercher/miniforge3/envs/dandelion/lib/python3.11/site-packages/mudata/_core/mudata.py:1531: FutureWarning: From 0.4 .update() will not pull obs/var columns from individual modalities by default anymore. Set mudata.set_options(pull_on_update=False) to adopt the new behaviour, which will become the default. Use new pull_obs/pull_var and push_obs/push_var methods for more flexibility.\n",
      "  self._update_attr(\"var\", axis=0, join_common=join_common)\n",
      "/home/evercher/miniforge3/envs/dandelion/lib/python3.11/site-packages/mudata/_core/mudata.py:1429: FutureWarning: From 0.4 .update() will not pull obs/var columns from individual modalities by default anymore. Set mudata.set_options(pull_on_update=False) to adopt the new behaviour, which will become the default. Use new pull_obs/pull_var and push_obs/push_var methods for more flexibility.\n",
      "  self._update_attr(\"obs\", axis=1, join_common=join_common)\n"
     ]
    }
   ],
   "source": [
    "# 1️⃣ Cargar el archivo .h5mu\n",
    "mdata = mu.read(\"/data/scratch/LAB/enric/Proyecto_pitagoras/Analisis_pitagoras/Results/05_datos_integrados/mudata_harmony_conTCR.h5mu\")"
   ]
  },
  {
   "cell_type": "code",
   "execution_count": 74,
   "metadata": {},
   "outputs": [],
   "source": [
    "aucell_scores = adata_copy.obsm['aucell_estimate_zscore']\n",
    "\n",
    "# Añadir 'aucell_estimate' al objeto Harmony\n",
    "adata_harmony.obsm['aucell_estimate'] = aucell_scores"
   ]
  },
  {
   "cell_type": "code",
   "execution_count": null,
   "metadata": {
    "scrolled": true
   },
   "outputs": [],
   "source": [
    "# Seleccionar las firmas disponibles en adata_harmony.obsm['aucell_estimate']\n",
    "selected_firmas = adata_harmony.obsm['aucell_estimate'].columns.tolist()  # Usar todas las firmas disponibles\n",
    "\n",
    "# Transferir los scores relevantes desde obsm a obs\n",
    "adata_harmony.obs[selected_firmas] = adata_harmony.obsm['aucell_estimate'][selected_firmas]\n",
    "\n",
    "# Representar los scores en el UMAP\n",
    "sc.pl.umap(\n",
    "    adata_harmony,\n",
    "    color=selected_firmas,  # Añadir todas las firmas disponibles\n",
    "    frameon=False,\n",
    "    ncols=4,  # Distribuir los gráficos en 4 columnas\n",
    "    wspace=0.4  # Ajustar el espaciado entre los subplots\n",
    ")"
   ]
  }
 ],
 "metadata": {
  "kernelspec": {
   "display_name": "Python (dandelion)",
   "language": "python",
   "name": "dandelion"
  },
  "language_info": {
   "codemirror_mode": {
    "name": "ipython",
    "version": 3
   },
   "file_extension": ".py",
   "mimetype": "text/x-python",
   "name": "python",
   "nbconvert_exporter": "python",
   "pygments_lexer": "ipython3",
   "version": "3.11.11"
  }
 },
 "nbformat": 4,
 "nbformat_minor": 4
}
