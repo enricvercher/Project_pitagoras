{
 "cells": [
  {
   "cell_type": "code",
   "execution_count": null,
   "metadata": {},
   "outputs": [],
   "source": [
    "import dandelion as ddl\n",
    "import pandas as pd\n",
    "import scanpy as sc\n",
    "import anndata as ad\n",
    "import muon as mu\n",
    "import mudata as md\n",
    "from mudata import MuData\n",
    "import numpy as np\n",
    "import warnings\n",
    "import os\n",
    "\n",
    "import scirpy as ir\n",
    "from cycler import cycler\n",
    "\n",
    "from matplotlib import cm as mpl_cm\n",
    "from matplotlib import pyplot as plt\n",
    "\n",
    "from palmotif import compute_motif, svg_logo\n",
    "import seaborn as sb\n",
    "warnings.simplefilter(action=\"ignore\", category=pd.errors.DtypeWarning)\n",
    "warnings.filterwarnings(\"ignore\")\n",
    "ddl.logging.print_header()\n",
    "\n",
    "# Desactivar todos los warnings\n",
    "warnings.filterwarnings(\"ignore\")\n",
    "\n",
    "# Opcional: Desactivar warnings específicos (ejemplo: FutureWarnings de anndata)\n",
    "warnings.simplefilter(action=\"ignore\", category=FutureWarning)\n",
    "warnings.simplefilter(action=\"ignore\", category=pd.errors.DtypeWarning)\n",
    "\n",
    "# Si usas tqdm y deseas evitar sus warnings\n",
    "from tqdm import TqdmWarning\n",
    "warnings.simplefilter(action=\"ignore\", category=TqdmWarning)"
   ]
  },
  {
   "cell_type": "markdown",
   "metadata": {},
   "source": [
    "#### CARGAMOS Y PREPARAMOS LOS DATOS:"
   ]
  },
  {
   "cell_type": "code",
   "execution_count": null,
   "metadata": {},
   "outputs": [],
   "source": [
    "# Definir las rutas de los archivos TCR para todas las muestras\n",
    "samples = {\n",
    "    \"PT_14\": \"/data/scratch/LAB/enric/Proyecto_pitagoras/Analisis_pitagoras/Analisis_repertorio/Results_repertoire/vdj_annotation/06-annotate-metadata/PT_14/PT_14_meta-pass.tsv\",\n",
    "    \"PT_17\": \"/data/scratch/LAB/enric/Proyecto_pitagoras/Analisis_pitagoras/Analisis_repertorio/Results_repertoire/vdj_annotation/06-annotate-metadata/PT_17/PT_17_meta-pass.tsv\",\n",
    "    \"PT_20\": \"/data/scratch/LAB/enric/Proyecto_pitagoras/Analisis_pitagoras/Analisis_repertorio/Results_repertoire/vdj_annotation/06-annotate-metadata/PT_20/PT_20_meta-pass.tsv\",\n",
    "    \"PT_22\": \"/data/scratch/LAB/enric/Proyecto_pitagoras/Analisis_pitagoras/Analisis_repertorio/Results_repertoire/vdj_annotation/06-annotate-metadata/PT_22/PT_22_meta-pass.tsv\",\n",
    "    \"PT_28\": \"/data/scratch/LAB/enric/Proyecto_pitagoras/Analisis_pitagoras/Analisis_repertorio/Results_repertoire/vdj_annotation/06-annotate-metadata/PT_28/PT_28_meta-pass.tsv\",\n",
    "    #\"PT_14_pan_B\": \"/data/scratch/LAB/enric/Proyecto_pitagoras/Analisis_pitagoras/Analisis_repertorio/Results_repertoire_18_41_49_50/vdj_annotation/06-annotate-metadata/PT_14_PAN_B/PT_14_PAN_B_meta-pass.tsv\",\n",
    "    \"PT_14_pan\": \"/data/scratch/LAB/enric/Proyecto_pitagoras/Analisis_pitagoras/Analisis_repertorio/Results_repertoire_18_41_49_50/vdj_annotation/06-annotate-metadata/PT_14_PAN_T/PT_14_PAN_T_meta-pass.tsv\",\n",
    "    \"PT_18\": \"/data/scratch/LAB/enric/Proyecto_pitagoras/Analisis_pitagoras/Analisis_repertorio/Results_repertoire_18_41_49_50/vdj_annotation/06-annotate-metadata/PT_18/PT_18_meta-pass.tsv\",\n",
    "    \"PT_41\": \"/data/scratch/LAB/enric/Proyecto_pitagoras/Analisis_pitagoras/Analisis_repertorio/Results_repertoire_18_41_49_50/vdj_annotation/06-annotate-metadata/PT_41/PT_41_meta-pass.tsv\",\n",
    "    \"PT_49\": \"/data/scratch/LAB/enric/Proyecto_pitagoras/Analisis_pitagoras/Analisis_repertorio/Results_repertoire_18_41_49_50/vdj_annotation/06-annotate-metadata/PT_49/PT_49_meta-pass.tsv\",\n",
    "    \"PT_50\": \"/data/scratch/LAB/enric/Proyecto_pitagoras/Analisis_pitagoras/Analisis_repertorio/Results_repertoire_18_41_49_50/vdj_annotation/06-annotate-metadata/PT_50/PT_50_meta-pass.tsv\"\n",
    "}\n",
    "\n",
    "# Lista para almacenar los objetos AnnData de TCR\n",
    "adata_list = []\n",
    "\n",
    "# Procesar cada archivo de TCR\n",
    "for sample, path in samples.items():\n",
    "    print(f\"Procesando muestra: {sample}\")\n",
    "    \n",
    "    # Cargar el archivo TCR como DataFrame\n",
    "    df_tcr = pd.read_csv(path, sep=\"\\t\", encoding=\"utf-8\")\n",
    "\n",
    "    # Corregir la columna 'productive' si es necesario\n",
    "    df_tcr[\"productive\"] = df_tcr[\"productive\"].astype(str)\n",
    "\n",
    "    # Ajustar los 'cell_id' para incluir el identificador de muestra\n",
    "    df_tcr[\"cell_id\"] = df_tcr[\"cell_id\"].str.replace(r\"(\\-1)\", r\"-1_PT\" + sample[3:], regex=True)\n",
    "\n",
    "    # Cargar el archivo TCR en un objeto AnnData con Scirpy\n",
    "    adata_tcr = ir.io.read_airr(df_tcr)\n",
    "\n",
    "    # Añadir el metadato 'sample' para identificar la muestra\n",
    "    adata_tcr.obs[\"sample\"] = sample\n",
    "\n",
    "    # Añadir el objeto adata_tcr a la lista\n",
    "    adata_list.append(adata_tcr)\n",
    "\n",
    "# Concatenar todos los objetos AnnData de TCR en un único objeto\n",
    "adata_combined = ad.concat(adata_list, axis=0, join=\"outer\", keys=samples.keys())\n",
    "\n",
    "# Mostrar la información del objeto combinado\n",
    "print(adata_combined)"
   ]
  },
  {
   "cell_type": "code",
   "execution_count": null,
   "metadata": {},
   "outputs": [],
   "source": [
    "for sample, adata_tcr in zip(samples.keys(), adata_list):\n",
    "    print(f\"Muestra: {sample}, Número de células: {adata_tcr.n_obs}\")\n"
   ]
  },
  {
   "cell_type": "markdown",
   "metadata": {},
   "source": [
    "Vamos a probar el PT_14 estudiar un poco su estructura:"
   ]
  },
  {
   "cell_type": "code",
   "execution_count": null,
   "metadata": {},
   "outputs": [],
   "source": [
    "# Ruta del archivo de TCR del paciente PT_14\n",
    "path_tcr = \"/data/scratch/LAB/enric/Proyecto_pitagoras/Analisis_pitagoras/Analisis_repertorio/Results_repertoire/vdj_annotation/06-annotate-metadata/PT_14/PT_14_meta-pass.tsv\"\n",
    "\n",
    "# Cargar el archivo de TCR como DataFrame\n",
    "df_tcr = pd.read_csv(path_tcr, sep=\"\\t\", encoding=\"utf-8\")\n",
    "\n",
    "# Filtrar las columnas necesarias\n",
    "required_columns = [\n",
    "    \"sequence_id\", \"sequence\", \"rev_comp\", \"productive\", \"vj_in_frame\", \"stop_codon\", \n",
    "    \"locus\", \"v_call\", \"d_call\", \"j_call\", \"c_call\", \"sequence_alignment\", \n",
    "    \"germline_alignment\", \"junction\", \"junction_aa\", \"cdr1\", \"cdr2\", \"cdr3\", \n",
    "    \"fwr1\", \"fwr2\", \"fwr3\", \"fwr4\", \"v_score\", \"v_identity\", \"v_support\", \n",
    "    \"v_cigar\", \"d_score\", \"d_identity\", \"d_support\", \"d_cigar\", \"j_score\", \n",
    "    \"j_identity\", \"j_support\", \"j_cigar\", \"v_sequence_start\", \"v_sequence_end\", \n",
    "    \"v_germline_start\", \"v_germline_end\", \"d_sequence_start\", \"d_sequence_end\", \n",
    "    \"d_germline_start\", \"d_germline_end\", \"j_sequence_start\", \"j_sequence_end\", \n",
    "    \"j_germline_start\", \"j_germline_end\", \"junction_length\", \"np1_length\", \n",
    "    \"np2_length\", \"consensus_count\", \"duplicate_count\", \"cell_id\"\n",
    "]\n",
    "df_tcr = df_tcr[required_columns]\n",
    "\n",
    "# Corregir la columna 'productive' si es necesario\n",
    "df_tcr[\"productive\"] = df_tcr[\"productive\"].astype(str)\n",
    "\n",
    "# Modificar el formato de los 'cell_id' para que coincidan con el GEX\n",
    "df_tcr[\"cell_id\"] = df_tcr[\"cell_id\"].str.replace(r\"(\\-1)\", r\"-1_PT14\", regex=True)\n",
    "\n",
    "# Crear un objeto AnnData con Scirpy\n",
    "adata_pt14 = ir.io.read_airr(df_tcr)\n",
    "\n",
    "# Añadir el metadato 'sample'\n",
    "adata_pt14.obs[\"sample\"] = \"PT_14\""
   ]
  },
  {
   "cell_type": "code",
   "execution_count": null,
   "metadata": {},
   "outputs": [],
   "source": [
    "import awkward as ak\n",
    "# Convertir obsm[\"airr\"] en un DataFrame de pandas\n",
    "airr_data = ak.to_dataframe(adata_pt14.obsm[\"airr\"])\n",
    "airr_data"
   ]
  },
  {
   "cell_type": "code",
   "execution_count": null,
   "metadata": {},
   "outputs": [],
   "source": [
    "adata_gex = ad.read_h5ad(\"/data/scratch/LAB/enric/Proyecto_pitagoras/Analisis_pitagoras/Results/04_datos_concatenados/adata_concatenados_10_pt.h5ad\")"
   ]
  },
  {
   "cell_type": "code",
   "execution_count": null,
   "metadata": {},
   "outputs": [],
   "source": [
    "# Ahora combinamos los datos en un MuData\n",
    "mdata2 = MuData({\"gex\": adata_gex, \"airr\": adata_combined})"
   ]
  },
  {
   "cell_type": "code",
   "execution_count": null,
   "metadata": {},
   "outputs": [],
   "source": [
    "gex_barcodes = adata_gex.obs_names\n",
    "airr_barcodes = adata_combined.obs_names\n",
    "\n",
    "# Intersección de barcodes\n",
    "intersecting_barcodes = set(gex_barcodes).intersection(set(airr_barcodes))\n",
    "print(f\"Total de barcodes en GEX: {len(gex_barcodes)}\")\n",
    "print(f\"Total de barcodes en AIRR: {len(airr_barcodes)}\")\n",
    "print(f\"Barcodes compartidos: {len(intersecting_barcodes)}\")"
   ]
  },
  {
   "cell_type": "code",
   "execution_count": null,
   "metadata": {},
   "outputs": [],
   "source": [
    "# Porcentaje de células en GEX con datos de TCR\n",
    "percentage_gex_with_tcr = (len(intersecting_barcodes) / len(gex_barcodes)) * 100\n",
    "print(f\"Porcentaje de células en GEX con datos de TCR: {percentage_gex_with_tcr:.2f}%\")"
   ]
  },
  {
   "cell_type": "code",
   "execution_count": null,
   "metadata": {},
   "outputs": [],
   "source": [
    "# Guardar el MuData concatenado\n",
    "output_path = \"/data/scratch/LAB/enric/Proyecto_pitagoras/Analisis_pitagoras/Results/04_datos_concatenados/mudata_10pts_TCR.h5mu\"\n",
    "mdata2.write(output_path)"
   ]
  },
  {
   "cell_type": "code",
   "execution_count": null,
   "metadata": {},
   "outputs": [],
   "source": []
  },
  {
   "cell_type": "markdown",
   "metadata": {},
   "source": [
    "### ANALISIS REPERTORIO"
   ]
  },
  {
   "cell_type": "code",
   "execution_count": 120,
   "metadata": {},
   "outputs": [],
   "source": [
    "mdata = mu.read_h5mu(\"/data/scratch/LAB/enric/Proyecto_pitagoras/Analisis_pitagoras/Results/04_datos_concatenados/mudata_10pts_TCR.h5mu\")"
   ]
  },
  {
   "cell_type": "code",
   "execution_count": 121,
   "metadata": {},
   "outputs": [
    {
     "name": "stdout",
     "output_type": "stream",
     "text": [
      "Porcentaje de células sin TCR en gex: 7.14%\n",
      "Número de células con TCR en gex: 49718\n",
      "Número de células sin TCR en gex: 3824\n"
     ]
    }
   ],
   "source": [
    "# Identificar las células comunes entre 'gex' y 'airr'\n",
    "common_cells = mdata[\"gex\"].obs_names.intersection(mdata[\"airr\"].obs_names)\n",
    "\n",
    "# Contar las células en 'gex' que NO están en 'airr'\n",
    "cells_without_tcr = np.setdiff1d(mdata[\"gex\"].obs_names, common_cells)\n",
    "\n",
    "# Calcular el porcentaje de células sin TCR en 'gex'\n",
    "percent_without_tcr_gex = 100 * len(cells_without_tcr) / len(mdata[\"gex\"].obs_names)\n",
    "\n",
    "# Calcular el número de células con TCR en 'gex' (las que están en ambas modalidades)\n",
    "num_cells_with_tcr = len(common_cells)\n",
    "\n",
    "# Imprimir los resultados\n",
    "print(f\"Porcentaje de células sin TCR en gex: {percent_without_tcr_gex:.2f}%\")\n",
    "print(f\"Número de células con TCR en gex: {num_cells_with_tcr}\")\n",
    "print(f\"Número de células sin TCR en gex: {len(cells_without_tcr)}\")\n"
   ]
  },
  {
   "cell_type": "code",
   "execution_count": 122,
   "metadata": {},
   "outputs": [
    {
     "data": {
      "text/html": [
       "<pre>MuData object with n_obs × n_vars = 60456 × 23209\n",
       "  2 modalities\n",
       "    gex:\t53542 x 23209\n",
       "      obs:\t&#x27;n_genes_by_counts&#x27;, &#x27;log1p_n_genes_by_counts&#x27;, &#x27;total_counts&#x27;, &#x27;log1p_total_counts&#x27;, &#x27;pct_counts_in_top_20_genes&#x27;, &#x27;total_counts_mt&#x27;, &#x27;log1p_total_counts_mt&#x27;, &#x27;pct_counts_mt&#x27;, &#x27;prediction&#x27;, &#x27;doublet&#x27;, &#x27;doublet_filtered&#x27;, &#x27;Sample&#x27;, &#x27;n_genes&#x27;, &#x27;total_counts_ribo&#x27;, &#x27;log1p_total_counts_ribo&#x27;, &#x27;pct_counts_ribo&#x27;\n",
       "      layers:\t&#x27;counts_soupx_crude&#x27;, &#x27;original_counts&#x27;\n",
       "    airr:\t56632 x 0\n",
       "      obs:\t&#x27;sample&#x27;\n",
       "      obsm:\t&#x27;airr&#x27;</pre>"
      ],
      "text/plain": [
       "MuData object with n_obs × n_vars = 60456 × 23209\n",
       "  2 modalities\n",
       "    gex:\t53542 x 23209\n",
       "      obs:\t'n_genes_by_counts', 'log1p_n_genes_by_counts', 'total_counts', 'log1p_total_counts', 'pct_counts_in_top_20_genes', 'total_counts_mt', 'log1p_total_counts_mt', 'pct_counts_mt', 'prediction', 'doublet', 'doublet_filtered', 'Sample', 'n_genes', 'total_counts_ribo', 'log1p_total_counts_ribo', 'pct_counts_ribo'\n",
       "      layers:\t'counts_soupx_crude', 'original_counts'\n",
       "    airr:\t56632 x 0\n",
       "      obs:\t'sample'\n",
       "      obsm:\t'airr'"
      ]
     },
     "execution_count": 122,
     "metadata": {},
     "output_type": "execute_result"
    }
   ],
   "source": [
    "mdata"
   ]
  },
  {
   "cell_type": "markdown",
   "metadata": {},
   "source": [
    "ELIMINAMOS CÉLULAS SIN TCR:"
   ]
  },
  {
   "cell_type": "code",
   "execution_count": 123,
   "metadata": {},
   "outputs": [
    {
     "name": "stdout",
     "output_type": "stream",
     "text": [
      "Objeto MuData filtrado con n_obs × n_vars = 49718 × 23209\n",
      "  gex: 49718 x 23209\n",
      "  airr: 49718 x 0\n"
     ]
    }
   ],
   "source": [
    "# Filtrar el objeto MuData para conservar solo las células con TCR\n",
    "mdata_filtrado = mdata[common_cells, :]\n",
    "\n",
    "# Verificar las dimensiones del objeto filtrado\n",
    "print(f\"Objeto MuData filtrado con n_obs × n_vars = {mdata_filtrado.n_obs} × {mdata_filtrado.n_vars}\")\n",
    "for modality in mdata_filtrado.mod.keys():\n",
    "    print(f\"  {modality}: {mdata_filtrado[modality].n_obs} x {mdata_filtrado[modality].n_vars}\")"
   ]
  },
  {
   "cell_type": "code",
   "execution_count": 124,
   "metadata": {},
   "outputs": [],
   "source": [
    "mdata_filtrado.write_h5mu(\"/data/scratch/LAB/enric/Proyecto_pitagoras/Analisis_pitagoras/Results/07_analisis_repertorio/mudata_TCR_GEX_filtered.h5mu\")"
   ]
  },
  {
   "cell_type": "markdown",
   "metadata": {},
   "source": [
    "# Analisis Clonotipos"
   ]
  },
  {
   "cell_type": "code",
   "execution_count": 73,
   "metadata": {},
   "outputs": [],
   "source": [
    "mdata_filtrado=mu.read_h5mu(\"/data/scratch/LAB/enric/Proyecto_pitagoras/Analisis_pitagoras/Results/07_analisis_repertorio/mudata_TCR_GEX_filtered.h5mu\")"
   ]
  },
  {
   "cell_type": "code",
   "execution_count": 74,
   "metadata": {},
   "outputs": [],
   "source": [
    "mdata = mdata_filtrado.copy()"
   ]
  },
  {
   "cell_type": "code",
   "execution_count": 75,
   "metadata": {},
   "outputs": [
    {
     "data": {
      "text/html": [
       "<pre>MuData object with n_obs × n_vars = 49718 × 23209\n",
       "  2 modalities\n",
       "    gex:\t49718 x 23209\n",
       "      obs:\t&#x27;n_genes_by_counts&#x27;, &#x27;log1p_n_genes_by_counts&#x27;, &#x27;total_counts&#x27;, &#x27;log1p_total_counts&#x27;, &#x27;pct_counts_in_top_20_genes&#x27;, &#x27;total_counts_mt&#x27;, &#x27;log1p_total_counts_mt&#x27;, &#x27;pct_counts_mt&#x27;, &#x27;prediction&#x27;, &#x27;doublet&#x27;, &#x27;doublet_filtered&#x27;, &#x27;Sample&#x27;, &#x27;n_genes&#x27;, &#x27;total_counts_ribo&#x27;, &#x27;log1p_total_counts_ribo&#x27;, &#x27;pct_counts_ribo&#x27;\n",
       "      layers:\t&#x27;counts_soupx_crude&#x27;, &#x27;original_counts&#x27;\n",
       "    airr:\t49718 x 0\n",
       "      obs:\t&#x27;sample&#x27;\n",
       "      obsm:\t&#x27;airr&#x27;</pre>"
      ],
      "text/plain": [
       "MuData object with n_obs × n_vars = 49718 × 23209\n",
       "  2 modalities\n",
       "    gex:\t49718 x 23209\n",
       "      obs:\t'n_genes_by_counts', 'log1p_n_genes_by_counts', 'total_counts', 'log1p_total_counts', 'pct_counts_in_top_20_genes', 'total_counts_mt', 'log1p_total_counts_mt', 'pct_counts_mt', 'prediction', 'doublet', 'doublet_filtered', 'Sample', 'n_genes', 'total_counts_ribo', 'log1p_total_counts_ribo', 'pct_counts_ribo'\n",
       "      layers:\t'counts_soupx_crude', 'original_counts'\n",
       "    airr:\t49718 x 0\n",
       "      obs:\t'sample'\n",
       "      obsm:\t'airr'"
      ]
     },
     "execution_count": 75,
     "metadata": {},
     "output_type": "execute_result"
    }
   ],
   "source": [
    "mdata"
   ]
  },
  {
   "cell_type": "code",
   "execution_count": 76,
   "metadata": {},
   "outputs": [],
   "source": [
    "ir.pp.index_chains(mdata)"
   ]
  },
  {
   "cell_type": "code",
   "execution_count": 77,
   "metadata": {},
   "outputs": [],
   "source": [
    "ir.tl.chain_qc(mdata)"
   ]
  },
  {
   "cell_type": "markdown",
   "metadata": {},
   "source": [
    "Se usan ambas cadenas (α & β) para asignar el clonotipo?\n",
    "Sí. Cuando definimos clonotipos a partir de un TCR completo (α y β), Scirpy por defecto requiere que coincidan todas las cadenas que tenga cada célula. Por ejemplo:\n",
    "\n",
    "Célula A: tiene TCRα = A1 y TCRβ = B1\n",
    "Célula B: tiene TCRα = A1 y TCRβ = B1\n",
    "Estas dos células serán el mismo clonotipo si coincide la CDR3 de α y β (y en caso de que compares por nt, también las secuencias nucleotídicas).\n",
    "\n",
    "¿Y qué pasa con células que tienen una sola cadena?\n",
    "Célula C: tiene solo TCRβ = B1\n",
    "Célula D: tiene solo TCRα = A1\n",
    "Por defecto, Scirpy agrupa células juntas solo si coinciden todas las cadenas disponibles. Si una célula no tiene la cadena α, y el clonotipo completo en principio estaba definido por α+β, Scirpy necesita que actives la opción de “partial chains matching” (parámetro partial=False/True) para que Scirpy decida si una célula con solo la cadena β (B1) puede asignarse al clonotipo que está definido por (A1, B1).\n",
    "\n",
    "Con la configuración estándar (partial=False), Scirpy solo agrupará células que tengan exactamente las mismas cadenas presentes.\n",
    "Si le pones partial=True, entonces Scirpy puede “relajar” la asignación y considerar que una célula con B1 “encaja” en el clonotipo que está definido por (A1, B1). Esto, desde luego, puede ser discutible en términos biológicos, pero Scirpy te da la posibilidad."
   ]
  },
  {
   "cell_type": "code",
   "execution_count": 10,
   "metadata": {},
   "outputs": [],
   "source": [
    "ir.pp.ir_dist(mdata,\n",
    "              sequence=\"nt\", # Comparar CDR3 a nivel de nucleótidos\n",
    "              metric='identity' # Coincidencia exacta\n",
    "             )"
   ]
  },
  {
   "cell_type": "markdown",
   "metadata": {},
   "source": [
    "Para permitir que una célula con solo TCRβ se agrupe con un clonotipo que tiene α+β (coincidiendo al menos la β), hay que habilitar la coincidencia parcial\n",
    "\n",
    "Esto indica que, si la célula con solo TCRβ coincide con el TCRβ de un clon α+β, se considerará parte del mismo clonotipo."
   ]
  },
  {
   "cell_type": "code",
   "execution_count": 23,
   "metadata": {},
   "outputs": [],
   "source": [
    "ir.tl.define_clonotypes(\n",
    "    mdata,\n",
    "    receptor_arms=\"any\",  # Permite clonotipos con una sola cadena\n",
    "    dual_ir=\"any\",        # No restringir a una sola cadena principal\n",
    "    same_v_gene=False,    # No exigir el mismo V-gene\n",
    "    key_added=\"clone_id\",\n",
    "    inplace=True\n",
    ")"
   ]
  },
  {
   "cell_type": "markdown",
   "metadata": {},
   "source": [
    "Vamos a inspeccionar el Repertorio:"
   ]
  },
  {
   "cell_type": "code",
   "execution_count": null,
   "metadata": {},
   "outputs": [],
   "source": [
    "airr_df = ir.get.airr(mdata, airr_variable=[\"sequence_id\", \"locus\", \"cdr3\", \"consensus_count\", \"duplicate_count\"])\n",
    "airr_df"
   ]
  },
  {
   "cell_type": "code",
   "execution_count": 25,
   "metadata": {},
   "outputs": [
    {
     "data": {
      "text/html": [
       "<div>\n",
       "<style scoped>\n",
       "    .dataframe tbody tr th:only-of-type {\n",
       "        vertical-align: middle;\n",
       "    }\n",
       "\n",
       "    .dataframe tbody tr th {\n",
       "        vertical-align: top;\n",
       "    }\n",
       "\n",
       "    .dataframe thead th {\n",
       "        text-align: right;\n",
       "    }\n",
       "</style>\n",
       "<table border=\"1\" class=\"dataframe\">\n",
       "  <thead>\n",
       "    <tr style=\"text-align: right;\">\n",
       "      <th></th>\n",
       "      <th>clone_id</th>\n",
       "      <th>clone_id_size</th>\n",
       "      <th>sample</th>\n",
       "      <th>receptor_type</th>\n",
       "      <th>receptor_subtype</th>\n",
       "      <th>chain_pairing</th>\n",
       "    </tr>\n",
       "    <tr>\n",
       "      <th>cell_id</th>\n",
       "      <th></th>\n",
       "      <th></th>\n",
       "      <th></th>\n",
       "      <th></th>\n",
       "      <th></th>\n",
       "      <th></th>\n",
       "    </tr>\n",
       "  </thead>\n",
       "  <tbody>\n",
       "    <tr>\n",
       "      <th>AAACCTGAGAAGAAGC-1_PT14</th>\n",
       "      <td>0</td>\n",
       "      <td>39</td>\n",
       "      <td>PT_14</td>\n",
       "      <td>TCR</td>\n",
       "      <td>TRA+TRB</td>\n",
       "      <td>single pair</td>\n",
       "    </tr>\n",
       "    <tr>\n",
       "      <th>AAACCTGAGGACAGAA-1_PT14</th>\n",
       "      <td>1</td>\n",
       "      <td>7</td>\n",
       "      <td>PT_14</td>\n",
       "      <td>TCR</td>\n",
       "      <td>TRA+TRB</td>\n",
       "      <td>single pair</td>\n",
       "    </tr>\n",
       "    <tr>\n",
       "      <th>AAACCTGAGTGGAGTC-1_PT14</th>\n",
       "      <td>2</td>\n",
       "      <td>1</td>\n",
       "      <td>PT_14</td>\n",
       "      <td>TCR</td>\n",
       "      <td>TRA+TRB</td>\n",
       "      <td>single pair</td>\n",
       "    </tr>\n",
       "    <tr>\n",
       "      <th>AAACCTGAGTGTCTCA-1_PT14</th>\n",
       "      <td>3</td>\n",
       "      <td>1</td>\n",
       "      <td>PT_14</td>\n",
       "      <td>TCR</td>\n",
       "      <td>TRA+TRB</td>\n",
       "      <td>single pair</td>\n",
       "    </tr>\n",
       "    <tr>\n",
       "      <th>AAACCTGCAAACTGTC-1_PT14</th>\n",
       "      <td>4</td>\n",
       "      <td>1</td>\n",
       "      <td>PT_14</td>\n",
       "      <td>TCR</td>\n",
       "      <td>TRA+TRB</td>\n",
       "      <td>extra VJ</td>\n",
       "    </tr>\n",
       "    <tr>\n",
       "      <th>...</th>\n",
       "      <td>...</td>\n",
       "      <td>...</td>\n",
       "      <td>...</td>\n",
       "      <td>...</td>\n",
       "      <td>...</td>\n",
       "      <td>...</td>\n",
       "    </tr>\n",
       "    <tr>\n",
       "      <th>TTTGTCAGTGTGGCTC-1_PT50</th>\n",
       "      <td>17116</td>\n",
       "      <td>80</td>\n",
       "      <td>PT_50</td>\n",
       "      <td>TCR</td>\n",
       "      <td>TRA+TRB</td>\n",
       "      <td>single pair</td>\n",
       "    </tr>\n",
       "    <tr>\n",
       "      <th>TTTGTCATCGTGGGAA-1_PT50</th>\n",
       "      <td>17112</td>\n",
       "      <td>246</td>\n",
       "      <td>PT_50</td>\n",
       "      <td>TCR</td>\n",
       "      <td>TRA+TRB</td>\n",
       "      <td>single pair</td>\n",
       "    </tr>\n",
       "    <tr>\n",
       "      <th>TTTGTCATCTGCTGCT-1_PT50</th>\n",
       "      <td>17385</td>\n",
       "      <td>17</td>\n",
       "      <td>PT_50</td>\n",
       "      <td>TCR</td>\n",
       "      <td>TRA+TRB</td>\n",
       "      <td>single pair</td>\n",
       "    </tr>\n",
       "    <tr>\n",
       "      <th>TTTGTCATCTTGTTTG-1_PT50</th>\n",
       "      <td>11023</td>\n",
       "      <td>440</td>\n",
       "      <td>PT_50</td>\n",
       "      <td>TCR</td>\n",
       "      <td>TRA+TRB</td>\n",
       "      <td>single pair</td>\n",
       "    </tr>\n",
       "    <tr>\n",
       "      <th>TTTGTCATCTTTAGTC-1_PT50</th>\n",
       "      <td>18160</td>\n",
       "      <td>3</td>\n",
       "      <td>PT_50</td>\n",
       "      <td>TCR</td>\n",
       "      <td>TRA+TRB</td>\n",
       "      <td>single pair</td>\n",
       "    </tr>\n",
       "  </tbody>\n",
       "</table>\n",
       "<p>49718 rows × 6 columns</p>\n",
       "</div>"
      ],
      "text/plain": [
       "                        clone_id  clone_id_size sample receptor_type  \\\n",
       "cell_id                                                                \n",
       "AAACCTGAGAAGAAGC-1_PT14        0             39  PT_14           TCR   \n",
       "AAACCTGAGGACAGAA-1_PT14        1              7  PT_14           TCR   \n",
       "AAACCTGAGTGGAGTC-1_PT14        2              1  PT_14           TCR   \n",
       "AAACCTGAGTGTCTCA-1_PT14        3              1  PT_14           TCR   \n",
       "AAACCTGCAAACTGTC-1_PT14        4              1  PT_14           TCR   \n",
       "...                          ...            ...    ...           ...   \n",
       "TTTGTCAGTGTGGCTC-1_PT50    17116             80  PT_50           TCR   \n",
       "TTTGTCATCGTGGGAA-1_PT50    17112            246  PT_50           TCR   \n",
       "TTTGTCATCTGCTGCT-1_PT50    17385             17  PT_50           TCR   \n",
       "TTTGTCATCTTGTTTG-1_PT50    11023            440  PT_50           TCR   \n",
       "TTTGTCATCTTTAGTC-1_PT50    18160              3  PT_50           TCR   \n",
       "\n",
       "                        receptor_subtype chain_pairing  \n",
       "cell_id                                                 \n",
       "AAACCTGAGAAGAAGC-1_PT14          TRA+TRB   single pair  \n",
       "AAACCTGAGGACAGAA-1_PT14          TRA+TRB   single pair  \n",
       "AAACCTGAGTGGAGTC-1_PT14          TRA+TRB   single pair  \n",
       "AAACCTGAGTGTCTCA-1_PT14          TRA+TRB   single pair  \n",
       "AAACCTGCAAACTGTC-1_PT14          TRA+TRB      extra VJ  \n",
       "...                                  ...           ...  \n",
       "TTTGTCAGTGTGGCTC-1_PT50          TRA+TRB   single pair  \n",
       "TTTGTCATCGTGGGAA-1_PT50          TRA+TRB   single pair  \n",
       "TTTGTCATCTGCTGCT-1_PT50          TRA+TRB   single pair  \n",
       "TTTGTCATCTTGTTTG-1_PT50          TRA+TRB   single pair  \n",
       "TTTGTCATCTTTAGTC-1_PT50          TRA+TRB   single pair  \n",
       "\n",
       "[49718 rows x 6 columns]"
      ]
     },
     "execution_count": 25,
     "metadata": {},
     "output_type": "execute_result"
    }
   ],
   "source": [
    "# Acceder a los clonotipos y sus tamaños\n",
    "clone_info = mdata[\"airr\"].obs[[\"clone_id\", \"clone_id_size\", \"sample\", \"receptor_type\", \"receptor_subtype\", \"chain_pairing\"]]\n",
    "\n",
    "# Mostrar las primeras filas del DataFrame con la información de clonotipos\n",
    "clone_info"
   ]
  },
  {
   "cell_type": "markdown",
   "metadata": {},
   "source": [
    "## Queremos saber si comparten orphan VDJ o VJ con algun single pair:"
   ]
  },
  {
   "cell_type": "code",
   "execution_count": 26,
   "metadata": {},
   "outputs": [
    {
     "data": {
      "text/html": [
       "<div>\n",
       "<style scoped>\n",
       "    .dataframe tbody tr th:only-of-type {\n",
       "        vertical-align: middle;\n",
       "    }\n",
       "\n",
       "    .dataframe tbody tr th {\n",
       "        vertical-align: top;\n",
       "    }\n",
       "\n",
       "    .dataframe thead th {\n",
       "        text-align: right;\n",
       "    }\n",
       "</style>\n",
       "<table border=\"1\" class=\"dataframe\">\n",
       "  <thead>\n",
       "    <tr style=\"text-align: right;\">\n",
       "      <th></th>\n",
       "      <th>clone_id</th>\n",
       "      <th>chain_pairing</th>\n",
       "      <th>count</th>\n",
       "    </tr>\n",
       "  </thead>\n",
       "  <tbody>\n",
       "    <tr>\n",
       "      <th>0</th>\n",
       "      <td>0</td>\n",
       "      <td>extra VDJ</td>\n",
       "      <td>1</td>\n",
       "    </tr>\n",
       "    <tr>\n",
       "      <th>1</th>\n",
       "      <td>0</td>\n",
       "      <td>extra VJ</td>\n",
       "      <td>2</td>\n",
       "    </tr>\n",
       "    <tr>\n",
       "      <th>2</th>\n",
       "      <td>0</td>\n",
       "      <td>orphan VDJ</td>\n",
       "      <td>9</td>\n",
       "    </tr>\n",
       "    <tr>\n",
       "      <th>3</th>\n",
       "      <td>0</td>\n",
       "      <td>orphan VJ</td>\n",
       "      <td>1</td>\n",
       "    </tr>\n",
       "    <tr>\n",
       "      <th>4</th>\n",
       "      <td>0</td>\n",
       "      <td>single pair</td>\n",
       "      <td>26</td>\n",
       "    </tr>\n",
       "  </tbody>\n",
       "</table>\n",
       "</div>"
      ],
      "text/plain": [
       "  clone_id chain_pairing  count\n",
       "0        0     extra VDJ      1\n",
       "1        0      extra VJ      2\n",
       "2        0    orphan VDJ      9\n",
       "3        0     orphan VJ      1\n",
       "4        0   single pair     26"
      ]
     },
     "execution_count": 26,
     "metadata": {},
     "output_type": "execute_result"
    }
   ],
   "source": [
    "clone_info = mdata[\"airr\"].obs[\n",
    "    [\"clone_id\", \"clone_id_size\", \"chain_pairing\"]\n",
    "].copy()\n",
    "\n",
    "group_df = (\n",
    "    clone_info\n",
    "    .groupby([\"clone_id\", \"chain_pairing\"])\n",
    "    .size()\n",
    "    .rename(\"count\")\n",
    "    .reset_index()\n",
    ")\n",
    "group_df.head()"
   ]
  },
  {
   "cell_type": "code",
   "execution_count": 27,
   "metadata": {},
   "outputs": [
    {
     "data": {
      "text/html": [
       "<div>\n",
       "<style scoped>\n",
       "    .dataframe tbody tr th:only-of-type {\n",
       "        vertical-align: middle;\n",
       "    }\n",
       "\n",
       "    .dataframe tbody tr th {\n",
       "        vertical-align: top;\n",
       "    }\n",
       "\n",
       "    .dataframe thead th {\n",
       "        text-align: right;\n",
       "    }\n",
       "</style>\n",
       "<table border=\"1\" class=\"dataframe\">\n",
       "  <thead>\n",
       "    <tr style=\"text-align: right;\">\n",
       "      <th>chain_pairing</th>\n",
       "      <th>extra VDJ</th>\n",
       "      <th>extra VJ</th>\n",
       "      <th>orphan VDJ</th>\n",
       "      <th>orphan VJ</th>\n",
       "      <th>single pair</th>\n",
       "      <th>two full chains</th>\n",
       "    </tr>\n",
       "    <tr>\n",
       "      <th>clone_id</th>\n",
       "      <th></th>\n",
       "      <th></th>\n",
       "      <th></th>\n",
       "      <th></th>\n",
       "      <th></th>\n",
       "      <th></th>\n",
       "    </tr>\n",
       "  </thead>\n",
       "  <tbody>\n",
       "    <tr>\n",
       "      <th>0</th>\n",
       "      <td>1.0</td>\n",
       "      <td>2.0</td>\n",
       "      <td>9.0</td>\n",
       "      <td>1.0</td>\n",
       "      <td>26.0</td>\n",
       "      <td>0.0</td>\n",
       "    </tr>\n",
       "    <tr>\n",
       "      <th>1</th>\n",
       "      <td>0.0</td>\n",
       "      <td>3.0</td>\n",
       "      <td>3.0</td>\n",
       "      <td>0.0</td>\n",
       "      <td>1.0</td>\n",
       "      <td>0.0</td>\n",
       "    </tr>\n",
       "    <tr>\n",
       "      <th>10</th>\n",
       "      <td>0.0</td>\n",
       "      <td>0.0</td>\n",
       "      <td>0.0</td>\n",
       "      <td>0.0</td>\n",
       "      <td>3.0</td>\n",
       "      <td>0.0</td>\n",
       "    </tr>\n",
       "    <tr>\n",
       "      <th>100</th>\n",
       "      <td>0.0</td>\n",
       "      <td>0.0</td>\n",
       "      <td>2.0</td>\n",
       "      <td>0.0</td>\n",
       "      <td>0.0</td>\n",
       "      <td>0.0</td>\n",
       "    </tr>\n",
       "    <tr>\n",
       "      <th>1000</th>\n",
       "      <td>0.0</td>\n",
       "      <td>0.0</td>\n",
       "      <td>0.0</td>\n",
       "      <td>0.0</td>\n",
       "      <td>1.0</td>\n",
       "      <td>0.0</td>\n",
       "    </tr>\n",
       "  </tbody>\n",
       "</table>\n",
       "</div>"
      ],
      "text/plain": [
       "chain_pairing  extra VDJ  extra VJ  orphan VDJ  orphan VJ  single pair  \\\n",
       "clone_id                                                                 \n",
       "0                    1.0       2.0         9.0        1.0         26.0   \n",
       "1                    0.0       3.0         3.0        0.0          1.0   \n",
       "10                   0.0       0.0         0.0        0.0          3.0   \n",
       "100                  0.0       0.0         2.0        0.0          0.0   \n",
       "1000                 0.0       0.0         0.0        0.0          1.0   \n",
       "\n",
       "chain_pairing  two full chains  \n",
       "clone_id                        \n",
       "0                          0.0  \n",
       "1                          0.0  \n",
       "10                         0.0  \n",
       "100                        0.0  \n",
       "1000                       0.0  "
      ]
     },
     "execution_count": 27,
     "metadata": {},
     "output_type": "execute_result"
    }
   ],
   "source": [
    "pivot_df = group_df.pivot(\n",
    "    index=\"clone_id\",\n",
    "    columns=\"chain_pairing\",\n",
    "    values=\"count\"\n",
    ").fillna(0)\n",
    "pivot_df.head()"
   ]
  },
  {
   "cell_type": "code",
   "execution_count": 32,
   "metadata": {},
   "outputs": [
    {
     "data": {
      "text/html": [
       "<div>\n",
       "<style scoped>\n",
       "    .dataframe tbody tr th:only-of-type {\n",
       "        vertical-align: middle;\n",
       "    }\n",
       "\n",
       "    .dataframe tbody tr th {\n",
       "        vertical-align: top;\n",
       "    }\n",
       "\n",
       "    .dataframe thead th {\n",
       "        text-align: right;\n",
       "    }\n",
       "</style>\n",
       "<table border=\"1\" class=\"dataframe\">\n",
       "  <thead>\n",
       "    <tr style=\"text-align: right;\">\n",
       "      <th>chain_pairing</th>\n",
       "      <th>extra VDJ</th>\n",
       "      <th>extra VJ</th>\n",
       "      <th>orphan VDJ</th>\n",
       "      <th>orphan VJ</th>\n",
       "      <th>single pair</th>\n",
       "      <th>two full chains</th>\n",
       "    </tr>\n",
       "    <tr>\n",
       "      <th>clone_id</th>\n",
       "      <th></th>\n",
       "      <th></th>\n",
       "      <th></th>\n",
       "      <th></th>\n",
       "      <th></th>\n",
       "      <th></th>\n",
       "    </tr>\n",
       "  </thead>\n",
       "  <tbody>\n",
       "    <tr>\n",
       "      <th>0</th>\n",
       "      <td>1.0</td>\n",
       "      <td>2.0</td>\n",
       "      <td>9.0</td>\n",
       "      <td>1.0</td>\n",
       "      <td>26.0</td>\n",
       "      <td>0.0</td>\n",
       "    </tr>\n",
       "    <tr>\n",
       "      <th>1</th>\n",
       "      <td>0.0</td>\n",
       "      <td>3.0</td>\n",
       "      <td>3.0</td>\n",
       "      <td>0.0</td>\n",
       "      <td>1.0</td>\n",
       "      <td>0.0</td>\n",
       "    </tr>\n",
       "    <tr>\n",
       "      <th>10007</th>\n",
       "      <td>0.0</td>\n",
       "      <td>0.0</td>\n",
       "      <td>1.0</td>\n",
       "      <td>0.0</td>\n",
       "      <td>1.0</td>\n",
       "      <td>0.0</td>\n",
       "    </tr>\n",
       "    <tr>\n",
       "      <th>1005</th>\n",
       "      <td>0.0</td>\n",
       "      <td>0.0</td>\n",
       "      <td>2.0</td>\n",
       "      <td>0.0</td>\n",
       "      <td>1.0</td>\n",
       "      <td>0.0</td>\n",
       "    </tr>\n",
       "    <tr>\n",
       "      <th>1007</th>\n",
       "      <td>0.0</td>\n",
       "      <td>0.0</td>\n",
       "      <td>1.0</td>\n",
       "      <td>0.0</td>\n",
       "      <td>4.0</td>\n",
       "      <td>0.0</td>\n",
       "    </tr>\n",
       "    <tr>\n",
       "      <th>...</th>\n",
       "      <td>...</td>\n",
       "      <td>...</td>\n",
       "      <td>...</td>\n",
       "      <td>...</td>\n",
       "      <td>...</td>\n",
       "      <td>...</td>\n",
       "    </tr>\n",
       "    <tr>\n",
       "      <th>9841</th>\n",
       "      <td>0.0</td>\n",
       "      <td>0.0</td>\n",
       "      <td>1.0</td>\n",
       "      <td>0.0</td>\n",
       "      <td>1.0</td>\n",
       "      <td>0.0</td>\n",
       "    </tr>\n",
       "    <tr>\n",
       "      <th>9892</th>\n",
       "      <td>0.0</td>\n",
       "      <td>0.0</td>\n",
       "      <td>1.0</td>\n",
       "      <td>0.0</td>\n",
       "      <td>1.0</td>\n",
       "      <td>0.0</td>\n",
       "    </tr>\n",
       "    <tr>\n",
       "      <th>9920</th>\n",
       "      <td>0.0</td>\n",
       "      <td>0.0</td>\n",
       "      <td>1.0</td>\n",
       "      <td>0.0</td>\n",
       "      <td>1.0</td>\n",
       "      <td>0.0</td>\n",
       "    </tr>\n",
       "    <tr>\n",
       "      <th>9987</th>\n",
       "      <td>0.0</td>\n",
       "      <td>0.0</td>\n",
       "      <td>1.0</td>\n",
       "      <td>0.0</td>\n",
       "      <td>1.0</td>\n",
       "      <td>0.0</td>\n",
       "    </tr>\n",
       "    <tr>\n",
       "      <th>9990</th>\n",
       "      <td>0.0</td>\n",
       "      <td>0.0</td>\n",
       "      <td>1.0</td>\n",
       "      <td>0.0</td>\n",
       "      <td>1.0</td>\n",
       "      <td>0.0</td>\n",
       "    </tr>\n",
       "  </tbody>\n",
       "</table>\n",
       "<p>1711 rows × 6 columns</p>\n",
       "</div>"
      ],
      "text/plain": [
       "chain_pairing  extra VDJ  extra VJ  orphan VDJ  orphan VJ  single pair  \\\n",
       "clone_id                                                                 \n",
       "0                    1.0       2.0         9.0        1.0         26.0   \n",
       "1                    0.0       3.0         3.0        0.0          1.0   \n",
       "10007                0.0       0.0         1.0        0.0          1.0   \n",
       "1005                 0.0       0.0         2.0        0.0          1.0   \n",
       "1007                 0.0       0.0         1.0        0.0          4.0   \n",
       "...                  ...       ...         ...        ...          ...   \n",
       "9841                 0.0       0.0         1.0        0.0          1.0   \n",
       "9892                 0.0       0.0         1.0        0.0          1.0   \n",
       "9920                 0.0       0.0         1.0        0.0          1.0   \n",
       "9987                 0.0       0.0         1.0        0.0          1.0   \n",
       "9990                 0.0       0.0         1.0        0.0          1.0   \n",
       "\n",
       "chain_pairing  two full chains  \n",
       "clone_id                        \n",
       "0                          0.0  \n",
       "1                          0.0  \n",
       "10007                      0.0  \n",
       "1005                       0.0  \n",
       "1007                       0.0  \n",
       "...                        ...  \n",
       "9841                       0.0  \n",
       "9892                       0.0  \n",
       "9920                       0.0  \n",
       "9987                       0.0  \n",
       "9990                       0.0  \n",
       "\n",
       "[1711 rows x 6 columns]"
      ]
     },
     "execution_count": 32,
     "metadata": {},
     "output_type": "execute_result"
    }
   ],
   "source": [
    "# Ejemplo: ¿clone_id con \"orphan VDJ\" y \"single pair\" > 0?\n",
    "if \"orphan VDJ\" in pivot_df.columns and \"single pair\" in pivot_df.columns:\n",
    "    has_both_df = pivot_df[\n",
    "        (pivot_df[\"orphan VDJ\"] > 0) & (pivot_df[\"single pair\"] > 0)\n",
    "    ]\n",
    "    \n",
    "else:\n",
    "    print(\"No hay columnas 'orphan VDJ' o 'single pair' en la tabla.\")\n",
    "\n",
    "has_both_df"
   ]
  },
  {
   "cell_type": "code",
   "execution_count": 31,
   "metadata": {},
   "outputs": [
    {
     "data": {
      "text/html": [
       "<div>\n",
       "<style scoped>\n",
       "    .dataframe tbody tr th:only-of-type {\n",
       "        vertical-align: middle;\n",
       "    }\n",
       "\n",
       "    .dataframe tbody tr th {\n",
       "        vertical-align: top;\n",
       "    }\n",
       "\n",
       "    .dataframe thead th {\n",
       "        text-align: right;\n",
       "    }\n",
       "</style>\n",
       "<table border=\"1\" class=\"dataframe\">\n",
       "  <thead>\n",
       "    <tr style=\"text-align: right;\">\n",
       "      <th>chain_pairing</th>\n",
       "      <th>extra VDJ</th>\n",
       "      <th>extra VJ</th>\n",
       "      <th>orphan VDJ</th>\n",
       "      <th>orphan VJ</th>\n",
       "      <th>single pair</th>\n",
       "      <th>two full chains</th>\n",
       "    </tr>\n",
       "    <tr>\n",
       "      <th>clone_id</th>\n",
       "      <th></th>\n",
       "      <th></th>\n",
       "      <th></th>\n",
       "      <th></th>\n",
       "      <th></th>\n",
       "      <th></th>\n",
       "    </tr>\n",
       "  </thead>\n",
       "  <tbody>\n",
       "    <tr>\n",
       "      <th>0</th>\n",
       "      <td>1.0</td>\n",
       "      <td>2.0</td>\n",
       "      <td>9.0</td>\n",
       "      <td>1.0</td>\n",
       "      <td>26.0</td>\n",
       "      <td>0.0</td>\n",
       "    </tr>\n",
       "    <tr>\n",
       "      <th>1019</th>\n",
       "      <td>0.0</td>\n",
       "      <td>0.0</td>\n",
       "      <td>1.0</td>\n",
       "      <td>1.0</td>\n",
       "      <td>1.0</td>\n",
       "      <td>0.0</td>\n",
       "    </tr>\n",
       "    <tr>\n",
       "      <th>10216</th>\n",
       "      <td>0.0</td>\n",
       "      <td>0.0</td>\n",
       "      <td>0.0</td>\n",
       "      <td>1.0</td>\n",
       "      <td>1.0</td>\n",
       "      <td>0.0</td>\n",
       "    </tr>\n",
       "    <tr>\n",
       "      <th>10328</th>\n",
       "      <td>33.0</td>\n",
       "      <td>1.0</td>\n",
       "      <td>313.0</td>\n",
       "      <td>1.0</td>\n",
       "      <td>438.0</td>\n",
       "      <td>1.0</td>\n",
       "    </tr>\n",
       "    <tr>\n",
       "      <th>10337</th>\n",
       "      <td>1.0</td>\n",
       "      <td>1.0</td>\n",
       "      <td>13.0</td>\n",
       "      <td>2.0</td>\n",
       "      <td>97.0</td>\n",
       "      <td>0.0</td>\n",
       "    </tr>\n",
       "    <tr>\n",
       "      <th>...</th>\n",
       "      <td>...</td>\n",
       "      <td>...</td>\n",
       "      <td>...</td>\n",
       "      <td>...</td>\n",
       "      <td>...</td>\n",
       "      <td>...</td>\n",
       "    </tr>\n",
       "    <tr>\n",
       "      <th>9284</th>\n",
       "      <td>0.0</td>\n",
       "      <td>0.0</td>\n",
       "      <td>0.0</td>\n",
       "      <td>1.0</td>\n",
       "      <td>1.0</td>\n",
       "      <td>0.0</td>\n",
       "    </tr>\n",
       "    <tr>\n",
       "      <th>9342</th>\n",
       "      <td>0.0</td>\n",
       "      <td>0.0</td>\n",
       "      <td>0.0</td>\n",
       "      <td>1.0</td>\n",
       "      <td>1.0</td>\n",
       "      <td>0.0</td>\n",
       "    </tr>\n",
       "    <tr>\n",
       "      <th>9444</th>\n",
       "      <td>0.0</td>\n",
       "      <td>0.0</td>\n",
       "      <td>0.0</td>\n",
       "      <td>1.0</td>\n",
       "      <td>2.0</td>\n",
       "      <td>0.0</td>\n",
       "    </tr>\n",
       "    <tr>\n",
       "      <th>950</th>\n",
       "      <td>0.0</td>\n",
       "      <td>0.0</td>\n",
       "      <td>0.0</td>\n",
       "      <td>1.0</td>\n",
       "      <td>5.0</td>\n",
       "      <td>0.0</td>\n",
       "    </tr>\n",
       "    <tr>\n",
       "      <th>9942</th>\n",
       "      <td>0.0</td>\n",
       "      <td>0.0</td>\n",
       "      <td>0.0</td>\n",
       "      <td>1.0</td>\n",
       "      <td>1.0</td>\n",
       "      <td>0.0</td>\n",
       "    </tr>\n",
       "  </tbody>\n",
       "</table>\n",
       "<p>251 rows × 6 columns</p>\n",
       "</div>"
      ],
      "text/plain": [
       "chain_pairing  extra VDJ  extra VJ  orphan VDJ  orphan VJ  single pair  \\\n",
       "clone_id                                                                 \n",
       "0                    1.0       2.0         9.0        1.0         26.0   \n",
       "1019                 0.0       0.0         1.0        1.0          1.0   \n",
       "10216                0.0       0.0         0.0        1.0          1.0   \n",
       "10328               33.0       1.0       313.0        1.0        438.0   \n",
       "10337                1.0       1.0        13.0        2.0         97.0   \n",
       "...                  ...       ...         ...        ...          ...   \n",
       "9284                 0.0       0.0         0.0        1.0          1.0   \n",
       "9342                 0.0       0.0         0.0        1.0          1.0   \n",
       "9444                 0.0       0.0         0.0        1.0          2.0   \n",
       "950                  0.0       0.0         0.0        1.0          5.0   \n",
       "9942                 0.0       0.0         0.0        1.0          1.0   \n",
       "\n",
       "chain_pairing  two full chains  \n",
       "clone_id                        \n",
       "0                          0.0  \n",
       "1019                       0.0  \n",
       "10216                      0.0  \n",
       "10328                      1.0  \n",
       "10337                      0.0  \n",
       "...                        ...  \n",
       "9284                       0.0  \n",
       "9342                       0.0  \n",
       "9444                       0.0  \n",
       "950                        0.0  \n",
       "9942                       0.0  \n",
       "\n",
       "[251 rows x 6 columns]"
      ]
     },
     "execution_count": 31,
     "metadata": {},
     "output_type": "execute_result"
    }
   ],
   "source": [
    "if \"orphan VJ\" in pivot_df.columns and \"single pair\" in pivot_df.columns:\n",
    "    has_both_df_vj = pivot_df[\n",
    "        (pivot_df[\"orphan VJ\"] > 0) & (pivot_df[\"single pair\"] > 0)\n",
    "    ]\n",
    "    has_both_df_vj\n",
    "else:\n",
    "    print(\"No hay columnas 'orphan VJ' o 'single pair' en la tabla.\")\n",
    "\n",
    "has_both_df_vj"
   ]
  },
  {
   "cell_type": "markdown",
   "metadata": {},
   "source": [
    "### Diagrama de Venn que comparte todo con todo:"
   ]
  },
  {
   "cell_type": "code",
   "execution_count": null,
   "metadata": {},
   "outputs": [],
   "source": [
    "import matplotlib.pyplot as plt\n",
    "from venn import venn\n",
    "\n",
    "# Definir los grupos de interés\n",
    "groups = {\n",
    "    \"Single Pair\": set(mdata[\"airr\"].obs.loc[mdata[\"airr\"].obs[\"chain_pairing\"] == \"single pair\", \"clone_id\"].dropna()),\n",
    "    \"Extra VJ/VDJ\": set(mdata[\"airr\"].obs.loc[mdata[\"airr\"].obs[\"chain_pairing\"].isin([\"extra VJ\", \"extra VDJ\"]), \"clone_id\"].dropna()),\n",
    "    \"Two Full Chains\": set(mdata[\"airr\"].obs.loc[mdata[\"airr\"].obs[\"chain_pairing\"] == \"two full chains\", \"clone_id\"].dropna()),\n",
    "    \"Orphan VJ/VDJ\": set(mdata[\"airr\"].obs.loc[mdata[\"airr\"].obs[\"chain_pairing\"].isin([\"orphan VJ\", \"orphan VDJ\"]), \"clone_id\"].dropna()),\n",
    "}\n",
    "\n",
    "# Graficar diagrama de Venn de 4 conjuntos\n",
    "plt.figure(figsize=(8, 8))\n",
    "venn(groups)\n",
    "plt.title(\"Diagrama de Venn de clone_id entre grupos de chain_pairing\")\n",
    "plt.show()"
   ]
  },
  {
   "cell_type": "code",
   "execution_count": null,
   "metadata": {},
   "outputs": [],
   "source": [
    "import matplotlib.pyplot as plt\n",
    "from venn import venn\n",
    "\n",
    "# Definir los grupos de interés con separación de orphan VJ y orphan VDJ\n",
    "groups = {\n",
    "    \"Single Pair\": set(mdata[\"airr\"].obs.loc[mdata[\"airr\"].obs[\"chain_pairing\"] == \"single pair\", \"clone_id\"].dropna()),\n",
    "    \"Extra VJ/VDJ\": set(mdata[\"airr\"].obs.loc[mdata[\"airr\"].obs[\"chain_pairing\"].isin([\"extra VJ\", \"extra VDJ\"]), \"clone_id\"].dropna()),\n",
    "    \"Two Full Chains\": set(mdata[\"airr\"].obs.loc[mdata[\"airr\"].obs[\"chain_pairing\"] == \"two full chains\", \"clone_id\"].dropna()),\n",
    "    \"Orphan VJ\": set(mdata[\"airr\"].obs.loc[mdata[\"airr\"].obs[\"chain_pairing\"] == \"orphan VJ\", \"clone_id\"].dropna()),\n",
    "    \"Orphan VDJ\": set(mdata[\"airr\"].obs.loc[mdata[\"airr\"].obs[\"chain_pairing\"] == \"orphan VDJ\", \"clone_id\"].dropna()),\n",
    "}\n",
    "\n",
    "# Graficar diagrama de Venn de 5 conjuntos\n",
    "plt.figure(figsize=(8, 8))\n",
    "venn(groups)\n",
    "plt.title(\"Diagrama de Venn de clone_id entre grupos de chain_pairing (Orphan VJ y Orphan VDJ separados)\")\n",
    "plt.show()\n"
   ]
  },
  {
   "cell_type": "code",
   "execution_count": 38,
   "metadata": {},
   "outputs": [
    {
     "data": {
      "text/plain": [
       "{'Orphan VJ ∩ Single Pair': 251,\n",
       " 'Orphan VJ ∩ Extra VJ/VDJ': 80,\n",
       " 'Orphan VJ ∩ Two Full Chains': 13,\n",
       " 'Orphan VJ ∩ Orphan VDJ': 120}"
      ]
     },
     "execution_count": 38,
     "metadata": {},
     "output_type": "execute_result"
    }
   ],
   "source": [
    "# Definir los grupos de interés basados en la tabla pivot_df\n",
    "single_pair = set(pivot_df.loc[pivot_df[\"single pair\"] > 0].index)\n",
    "extra_vj_vdj = set(pivot_df.loc[(pivot_df[\"extra VJ\"] > 0) | (pivot_df[\"extra VDJ\"] > 0)].index)\n",
    "two_full_chains = set(pivot_df.loc[pivot_df[\"two full chains\"] > 0].index)\n",
    "orphan_vj = set(pivot_df.loc[pivot_df[\"orphan VJ\"] > 0].index)\n",
    "orphan_vdj = set(pivot_df.loc[pivot_df[\"orphan VDJ\"] > 0].index)\n",
    "\n",
    "# Calcular intersecciones de Orphan VJ con los demás grupos\n",
    "vj_single_pair = orphan_vj & single_pair\n",
    "vj_extra_vj_vdj = orphan_vj & extra_vj_vdj\n",
    "vj_two_full_chains = orphan_vj & two_full_chains\n",
    "vj_orphan_vdj = orphan_vj & orphan_vdj\n",
    "\n",
    "# Mostrar los números de intersección\n",
    "vj_intersections = {\n",
    "    \"Orphan VJ ∩ Single Pair\": len(vj_single_pair),\n",
    "    \"Orphan VJ ∩ Extra VJ/VDJ\": len(vj_extra_vj_vdj),\n",
    "    \"Orphan VJ ∩ Two Full Chains\": len(vj_two_full_chains),\n",
    "    \"Orphan VJ ∩ Orphan VDJ\": len(vj_orphan_vdj)\n",
    "}\n",
    "vj_intersections"
   ]
  },
  {
   "cell_type": "markdown",
   "metadata": {},
   "source": [
    "## Hacemos lo mismo pero quitamos primero el orphan VJ:"
   ]
  },
  {
   "cell_type": "code",
   "execution_count": 32,
   "metadata": {},
   "outputs": [],
   "source": [
    "mdata_filtrado=mu.read_h5mu(\"/data/scratch/LAB/enric/Proyecto_pitagoras/Analisis_pitagoras/Results/07_analisis_repertorio/mudata_TCR_GEX_filtered.h5mu\")"
   ]
  },
  {
   "cell_type": "code",
   "execution_count": 33,
   "metadata": {},
   "outputs": [],
   "source": [
    "mdata = mdata_filtrado.copy()"
   ]
  },
  {
   "cell_type": "code",
   "execution_count": 34,
   "metadata": {},
   "outputs": [],
   "source": [
    "ir.pp.index_chains(mdata)\n",
    "ir.tl.chain_qc(mdata)"
   ]
  },
  {
   "cell_type": "code",
   "execution_count": 35,
   "metadata": {},
   "outputs": [
    {
     "name": "stdout",
     "output_type": "stream",
     "text": [
      "View of MuData object with n_obs × n_vars = 49043 × 23209\n",
      "  2 modalities\n",
      "    gex:\t49043 x 23209\n",
      "      obs:\t'n_genes_by_counts', 'log1p_n_genes_by_counts', 'total_counts', 'log1p_total_counts', 'pct_counts_in_top_20_genes', 'total_counts_mt', 'log1p_total_counts_mt', 'pct_counts_mt', 'prediction', 'doublet', 'doublet_filtered', 'Sample', 'n_genes', 'total_counts_ribo', 'log1p_total_counts_ribo', 'pct_counts_ribo'\n",
      "      layers:\t'counts_soupx_crude', 'original_counts'\n",
      "    airr:\t49043 x 0\n",
      "      obs:\t'sample', 'receptor_type', 'receptor_subtype', 'chain_pairing'\n",
      "      uns:\t'chain_indices'\n",
      "      obsm:\t'airr', 'chain_indices'\n"
     ]
    }
   ],
   "source": [
    "# 🔹 Obtener índices de células que NO son orphan VJ en AIRR\n",
    "cells_to_keep = mdata[\"airr\"].obs.index[mdata[\"airr\"].obs[\"chain_pairing\"] != \"orphan VJ\"]\n",
    "\n",
    "# 🔹 Filtrar solo la modalidad AIRR, dejando GEX intacto\n",
    "mdata.mod[\"airr\"] = mdata[\"airr\"][cells_to_keep]\n",
    "\n",
    "# 🔹 Asegurar que GEX solo contiene las células que aún están en AIRR\n",
    "mdata.mod[\"gex\"] = mdata[\"gex\"][cells_to_keep]\n",
    "\n",
    "# 🔹 Obtener las células presentes en ambas modalidades después del filtrado\n",
    "common_cells = mdata[\"airr\"].obs.index.intersection(mdata[\"gex\"].obs.index)\n",
    "\n",
    "# 🔹 Aplicar el filtrado final al objeto MuData completo\n",
    "mdata = mdata[common_cells, :]\n",
    "\n",
    "# 🔹 Verificar la estructura final\n",
    "print(mdata)"
   ]
  },
  {
   "cell_type": "code",
   "execution_count": 36,
   "metadata": {},
   "outputs": [],
   "source": [
    "ir.pp.ir_dist(\n",
    "    mdata,\n",
    "    sequence=\"nt\",  # Comparación a nivel de nucleótidos\n",
    "    metric=\"identity\",  # Solo secuencias 100% idénticas se consideran iguales\n",
    "    cutoff=0,  # Asegura coincidencia exacta\n",
    "    inplace=True\n",
    ")"
   ]
  },
  {
   "cell_type": "code",
   "execution_count": 37,
   "metadata": {},
   "outputs": [],
   "source": [
    "ir.tl.define_clonotypes(\n",
    "    mdata,  # Solo células bien estructuradas\n",
    "    receptor_arms=\"all\",  # Tanto VJ como VDJ deben coincidir\n",
    "    dual_ir=\"primary_only\",  #only consider most abundant pair of VJ/VDJ chains\n",
    "    same_v_gene=True, #debe coincidir CDR1 y CDR2 alfa y beta tambien\n",
    "    key_added=\"clone_id\",\n",
    "    inplace=True\n",
    ")"
   ]
  },
  {
   "cell_type": "code",
   "execution_count": 38,
   "metadata": {},
   "outputs": [
    {
     "data": {
      "text/html": [
       "<pre>MuData object with n_obs × n_vars = 49043 × 23209\n",
       "  2 modalities\n",
       "    gex:\t49043 x 23209\n",
       "      obs:\t&#x27;n_genes_by_counts&#x27;, &#x27;log1p_n_genes_by_counts&#x27;, &#x27;total_counts&#x27;, &#x27;log1p_total_counts&#x27;, &#x27;pct_counts_in_top_20_genes&#x27;, &#x27;total_counts_mt&#x27;, &#x27;log1p_total_counts_mt&#x27;, &#x27;pct_counts_mt&#x27;, &#x27;prediction&#x27;, &#x27;doublet&#x27;, &#x27;doublet_filtered&#x27;, &#x27;Sample&#x27;, &#x27;n_genes&#x27;, &#x27;total_counts_ribo&#x27;, &#x27;log1p_total_counts_ribo&#x27;, &#x27;pct_counts_ribo&#x27;\n",
       "      layers:\t&#x27;counts_soupx_crude&#x27;, &#x27;original_counts&#x27;\n",
       "    airr:\t49043 x 0\n",
       "      obs:\t&#x27;sample&#x27;, &#x27;receptor_type&#x27;, &#x27;receptor_subtype&#x27;, &#x27;chain_pairing&#x27;, &#x27;clone_id&#x27;, &#x27;clone_id_size&#x27;\n",
       "      uns:\t&#x27;chain_indices&#x27;, &#x27;ir_dist_nt_identity&#x27;, &#x27;clone_id&#x27;\n",
       "      obsm:\t&#x27;airr&#x27;, &#x27;chain_indices&#x27;</pre>"
      ],
      "text/plain": [
       "MuData object with n_obs × n_vars = 49043 × 23209\n",
       "  2 modalities\n",
       "    gex:\t49043 x 23209\n",
       "      obs:\t'n_genes_by_counts', 'log1p_n_genes_by_counts', 'total_counts', 'log1p_total_counts', 'pct_counts_in_top_20_genes', 'total_counts_mt', 'log1p_total_counts_mt', 'pct_counts_mt', 'prediction', 'doublet', 'doublet_filtered', 'Sample', 'n_genes', 'total_counts_ribo', 'log1p_total_counts_ribo', 'pct_counts_ribo'\n",
       "      layers:\t'counts_soupx_crude', 'original_counts'\n",
       "    airr:\t49043 x 0\n",
       "      obs:\t'sample', 'receptor_type', 'receptor_subtype', 'chain_pairing', 'clone_id', 'clone_id_size'\n",
       "      uns:\t'chain_indices', 'ir_dist_nt_identity', 'clone_id'\n",
       "      obsm:\t'airr', 'chain_indices'"
      ]
     },
     "execution_count": 38,
     "metadata": {},
     "output_type": "execute_result"
    }
   ],
   "source": [
    "mdata"
   ]
  },
  {
   "cell_type": "markdown",
   "metadata": {},
   "source": [
    "## Recuperamos los orphan VDJ:"
   ]
  },
  {
   "cell_type": "code",
   "execution_count": 39,
   "metadata": {},
   "outputs": [
    {
     "name": "stdout",
     "output_type": "stream",
     "text": [
      "Columnas disponibles en airr_df: ['VJ_1_cdr1', 'VJ_1_cdr2', 'VJ_1_cdr3', 'VDJ_1_cdr1', 'VDJ_1_cdr2', 'VDJ_1_cdr3', 'VJ_2_cdr1', 'VJ_2_cdr2', 'VJ_2_cdr3', 'VDJ_2_cdr1', 'VDJ_2_cdr2', 'VDJ_2_cdr3']\n"
     ]
    }
   ],
   "source": [
    "# Obtener todas las secuencias relevantes desde Scirpy\n",
    "airr_df = ir.get.airr(mdata, airr_variable=[\"cdr1\", \"cdr2\", \"cdr3\"])\n",
    "print(\"Columnas disponibles en airr_df:\", airr_df.columns.tolist())\n"
   ]
  },
  {
   "cell_type": "code",
   "execution_count": 40,
   "metadata": {},
   "outputs": [
    {
     "name": "stdout",
     "output_type": "stream",
     "text": [
      "Columnas disponibles en airr_df: ['VJ_1_cdr1', 'VJ_1_cdr2', 'VJ_1_cdr3', 'VDJ_1_cdr1', 'VDJ_1_cdr2', 'VDJ_1_cdr3', 'VJ_2_cdr1', 'VJ_2_cdr2', 'VJ_2_cdr3', 'VDJ_2_cdr1', 'VDJ_2_cdr2', 'VDJ_2_cdr3']\n",
      "Columnas en clone_table después de la corrección: ['clone_id', 'VDJ_1_cdr1', 'VDJ_1_cdr2', 'VDJ_1_cdr3', 'VDJ_2_cdr1', 'VDJ_2_cdr2', 'VDJ_2_cdr3']\n",
      "✅ Se reasignaron 2105 células orphan VDJ correctamente.\n"
     ]
    }
   ],
   "source": [
    "# 🔹 Obtener todas las secuencias relevantes desde Scirpy\n",
    "airr_df = ir.get.airr(mdata, airr_variable=[\"cdr1\", \"cdr2\", \"cdr3\"])\n",
    "print(\"Columnas disponibles en airr_df:\", airr_df.columns.tolist())\n",
    "\n",
    "# 🔹 Unimos el airr_df con la información de clonotipos en mdata[\"airr\"].obs\n",
    "clone_data = mdata[\"airr\"].obs[['clone_id', 'chain_pairing']].copy()\n",
    "clone_data = clone_data.merge(airr_df, left_index=True, right_index=True, how=\"left\")\n",
    "\n",
    "# 🔹 Filtramos solo las células que NO son orphan VDJ\n",
    "clone_table = clone_data.query(\"chain_pairing in ['single pair', 'extra VJ', 'extra VDJ', 'two full chains']\")\n",
    "\n",
    "# 🔹 Seleccionar solo las columnas necesarias, incluyendo ambas cadenas VDJ_1 y VDJ_2\n",
    "cdr_columns = ['VDJ_1_cdr1', 'VDJ_1_cdr2', 'VDJ_1_cdr3', 'VDJ_2_cdr1', 'VDJ_2_cdr2', 'VDJ_2_cdr3']\n",
    "cdr_columns = [col for col in cdr_columns if col in clone_table.columns]  # Verificar si existen\n",
    "\n",
    "clone_table = clone_table[['clone_id'] + cdr_columns].dropna()\n",
    "print(\"Columnas en clone_table después de la corrección:\", clone_table.columns.tolist())\n",
    "\n",
    "# 🔹 Crear un diccionario con las secuencias CDR1+CDR2+CDR3 como clave y el clone_id como valor\n",
    "cdr_to_clone = {}\n",
    "\n",
    "for idx, row in clone_table.iterrows():\n",
    "    key_1 = tuple(str(row[col]).strip() for col in ['VDJ_1_cdr1', 'VDJ_1_cdr2', 'VDJ_1_cdr3'])  # Primera cadena\n",
    "    key_2 = tuple(str(row[col]).strip() for col in ['VDJ_2_cdr1', 'VDJ_2_cdr2', 'VDJ_2_cdr3']) if 'VDJ_2_cdr1' in clone_table.columns else None  # Segunda cadena\n",
    "\n",
    "    clone_id = row['clone_id']\n",
    "\n",
    "    # Guardamos en el diccionario solo si la clave no tiene valores None\n",
    "    if all(key_1) and key_1 not in cdr_to_clone:\n",
    "        cdr_to_clone[key_1] = clone_id\n",
    "    if key_2 and all(key_2) and key_2 not in cdr_to_clone:\n",
    "        cdr_to_clone[key_2] = clone_id\n",
    "\n",
    "# 🔹 Filtramos solo las células orphan VDJ\n",
    "orphan_vdj_cells = clone_data.query(\"chain_pairing == 'orphan VDJ'\")\n",
    "\n",
    "# 🔹 Reasignamos solo orphan VDJ si coinciden EXACTAMENTE con VDJ_1 o VDJ_2 de un clon ya asignado\n",
    "reasignados_count = 0\n",
    "\n",
    "for idx, row in orphan_vdj_cells.iterrows():\n",
    "    key_1 = tuple(str(row[col]).strip() for col in ['VDJ_1_cdr1', 'VDJ_1_cdr2', 'VDJ_1_cdr3'])\n",
    "    key_2 = tuple(str(row[col]).strip() for col in ['VDJ_2_cdr1', 'VDJ_2_cdr2', 'VDJ_2_cdr3']) if 'VDJ_2_cdr1' in orphan_vdj_cells.columns else None\n",
    "\n",
    "    # Solo reasignamos si el CDR1, CDR2 y CDR3 coinciden exactamente\n",
    "    new_clone_id = cdr_to_clone.get(key_1) or (cdr_to_clone.get(key_2) if key_2 else None)\n",
    "\n",
    "    if new_clone_id:\n",
    "        mdata[\"airr\"].obs.at[idx, \"clone_id\"] = new_clone_id\n",
    "        reasignados_count += 1\n",
    "\n",
    "# 🔹 Verificamos cuántos orphan VDJ fueron reasignados\n",
    "print(f\"✅ Se reasignaron {reasignados_count} células orphan VDJ correctamente.\")\n"
   ]
  },
  {
   "cell_type": "markdown",
   "metadata": {},
   "source": [
    "Para comprobar las que tienen mas de dos cadenas si coincide en VDJ:"
   ]
  },
  {
   "cell_type": "code",
   "execution_count": 41,
   "metadata": {},
   "outputs": [
    {
     "data": {
      "text/plain": [
       "<Figure size 800x800 with 0 Axes>"
      ]
     },
     "metadata": {},
     "output_type": "display_data"
    },
    {
     "data": {
      "image/png": "[encoded data removed]",
      "text/plain": [
       "<Figure size 800x800 with 1 Axes>"
      ]
     },
     "metadata": {},
     "output_type": "display_data"
    }
   ],
   "source": [
    "import matplotlib.pyplot as plt\n",
    "from venn import venn\n",
    "\n",
    "# Definir los grupos de interés SIN \"Orphan VJ\"\n",
    "groups = {\n",
    "    \"Single Pair\": set(mdata[\"airr\"].obs.loc[mdata[\"airr\"].obs[\"chain_pairing\"] == \"single pair\", \"clone_id\"].dropna()),\n",
    "    \"Extra VJ/VDJ\": set(mdata[\"airr\"].obs.loc[mdata[\"airr\"].obs[\"chain_pairing\"].isin([\"extra VJ\", \"extra VDJ\"]), \"clone_id\"].dropna()),\n",
    "    \"Two Full Chains\": set(mdata[\"airr\"].obs.loc[mdata[\"airr\"].obs[\"chain_pairing\"] == \"two full chains\", \"clone_id\"].dropna()),\n",
    "    \"Orphan VDJ\": set(mdata[\"airr\"].obs.loc[mdata[\"airr\"].obs[\"chain_pairing\"] == \"orphan VDJ\", \"clone_id\"].dropna()),\n",
    "}\n",
    "\n",
    "# Graficar diagrama de Venn de 4 conjuntos sin \"Orphan VJ\"\n",
    "plt.figure(figsize=(8, 8))\n",
    "venn(groups)\n",
    "plt.title(\"Diagrama de Venn de clone_id entre grupos de chain_pairing (Sin Orphan VJ)\")\n",
    "plt.show()"
   ]
  },
  {
   "cell_type": "code",
   "execution_count": 42,
   "metadata": {},
   "outputs": [
    {
     "data": {
      "image/png": "[encoded data removed]",
      "text/plain": [
       "<Figure size 800x800 with 1 Axes>"
      ]
     },
     "metadata": {},
     "output_type": "display_data"
    }
   ],
   "source": [
    "import matplotlib.pyplot as plt\n",
    "from matplotlib_venn import venn2\n",
    "\n",
    "# Definir los grupos de interés:\n",
    "# \"ALL CLONES\" = Single Pair + Extra VJ/VDJ + Two Full Chains\n",
    "# \"ORPHAN VDJ\" = Todos los Orphan VDJ\n",
    "\n",
    "all_clones = (\n",
    "    set(mdata[\"airr\"].obs.loc[mdata[\"airr\"].obs[\"chain_pairing\"] == \"single pair\", \"clone_id\"].dropna()) |\n",
    "    set(mdata[\"airr\"].obs.loc[mdata[\"airr\"].obs[\"chain_pairing\"].isin([\"extra VJ\", \"extra VDJ\"]), \"clone_id\"].dropna()) |\n",
    "    set(mdata[\"airr\"].obs.loc[mdata[\"airr\"].obs[\"chain_pairing\"] == \"two full chains\", \"clone_id\"].dropna())\n",
    ")\n",
    "\n",
    "orphan_vdj = set(mdata[\"airr\"].obs.loc[mdata[\"airr\"].obs[\"chain_pairing\"] == \"orphan VDJ\", \"clone_id\"].dropna())\n",
    "\n",
    "# Calcular intersecciones\n",
    "intersection = all_clones & orphan_vdj\n",
    "only_all_clones = all_clones - orphan_vdj\n",
    "only_orphan_vdj = orphan_vdj - all_clones\n",
    "\n",
    "# Calcular porcentajes\n",
    "total = len(all_clones | orphan_vdj)\n",
    "perc_all_clones = len(only_all_clones) / total * 100\n",
    "perc_orphan_vdj = len(only_orphan_vdj) / total * 100\n",
    "perc_intersection = len(intersection) / total * 100\n",
    "\n",
    "# Crear diagrama de Venn de 2 conjuntos con % debajo del número\n",
    "plt.figure(figsize=(8, 8))\n",
    "venn = venn2([all_clones, orphan_vdj], ('ALL CLONES', 'ORPHAN VDJ'))\n",
    "\n",
    "# Agregar los valores numéricos y porcentajes\n",
    "if venn.get_label_by_id(\"10\"):\n",
    "    venn.get_label_by_id(\"10\").set_text(f\"{len(only_all_clones)}\\n({perc_all_clones:.1f}%)\")\n",
    "if venn.get_label_by_id(\"01\"):\n",
    "    venn.get_label_by_id(\"01\").set_text(f\"{len(only_orphan_vdj)}\\n({perc_orphan_vdj:.1f}%)\")\n",
    "if venn.get_label_by_id(\"11\"):\n",
    "    venn.get_label_by_id(\"11\").set_text(f\"{len(intersection)}\\n({perc_intersection:.1f}%)\")\n",
    "\n",
    "plt.title(\"Diagrama de Venn: ORPHAN VDJ comparado con todos los clones\")\n",
    "plt.show()\n",
    "\n"
   ]
  },
  {
   "cell_type": "markdown",
   "metadata": {},
   "source": [
    "## Continuamos con el análisis:"
   ]
  },
  {
   "cell_type": "code",
   "execution_count": 59,
   "metadata": {},
   "outputs": [
    {
     "data": {
      "text/plain": [
       "<Axes: title={'center': 'Fraction of chain_pairing in each sample'}, xlabel='sample', ylabel='Fraction of cells in chain_pairing'>"
      ]
     },
     "execution_count": 59,
     "metadata": {},
     "output_type": "execute_result"
    },
    {
     "data": {
      "image/png": "[encoded data removed]",
      "text/plain": [
       "<Figure size 412.8x309.6 with 1 Axes>"
      ]
     },
     "metadata": {},
     "output_type": "display_data"
    }
   ],
   "source": [
    "ir.pl.group_abundance(mdata[\"airr\"], groupby=\"sample\", target_col=\"chain_pairing\", normalize=True)"
   ]
  },
  {
   "cell_type": "code",
   "execution_count": 22,
   "metadata": {},
   "outputs": [
    {
     "data": {
      "image/png": "[encoded data removed]",
      "text/plain": [
       "<Figure size 412.8x309.6 with 1 Axes>"
      ]
     },
     "metadata": {},
     "output_type": "display_data"
    }
   ],
   "source": [
    "# Visualizar la abundancia de receptor_type por muestra\n",
    "_ = ir.pl.group_abundance(\n",
    "    mdata[\"airr\"],  # Trabajamos en la modalidad de TCR\n",
    "    groupby=\"sample\",  # Agrupar por las muestras en tu dataset\n",
    "    target_col=\"receptor_type\",  # Columna que indica el tipo de receptor\n",
    "    normalize=True  # Normalizar para mostrar fracciones en lugar de conteos absolutos\n",
    ")\n",
    "\n",
    "plt.show()"
   ]
  },
  {
   "cell_type": "code",
   "execution_count": 23,
   "metadata": {},
   "outputs": [
    {
     "data": {
      "text/plain": [
       "chain_pairing\n",
       "single pair        35316\n",
       "orphan VDJ          9592\n",
       "extra VJ            2993\n",
       "extra VDJ           1029\n",
       "two full chains      113\n",
       "Name: count, dtype: int64"
      ]
     },
     "execution_count": 23,
     "metadata": {},
     "output_type": "execute_result"
    }
   ],
   "source": [
    "mdata[\"airr\"].obs[\"chain_pairing\"].value_counts()"
   ]
  },
  {
   "cell_type": "code",
   "execution_count": 24,
   "metadata": {},
   "outputs": [
    {
     "name": "stdout",
     "output_type": "stream",
     "text": [
      "Las siguientes categorías no se encontraron en 'chain_pairing' y serán omitidas: ['orphan VJ']\n",
      "\n",
      "Distribución de chain_pairing (números):\n",
      "chain_pairing  extra VDJ  extra VJ  orphan VDJ  single pair  two full chains\n",
      "Sample                                                                      \n",
      "PT_14                188       312        1310         3946               18\n",
      "PT_17                 77       315        1374         3998                4\n",
      "PT_20                 88       260        1575         3828                8\n",
      "PT_22                229       643         900         4289               14\n",
      "PT_28                224       238         985         4999               38\n",
      "PT_18                  3        20          83          169                0\n",
      "PT_14_pan             10        43         257          951                0\n",
      "PT_41                 54       376         744         3445               13\n",
      "PT_49                 90       466        1275         5092               11\n",
      "PT_50                 66       320        1089         4599                7\n",
      "\n",
      "Distribución de chain_pairing (proporciones):\n",
      "chain_pairing  single pair  orphan VDJ  extra VJ  extra VDJ  two full chains\n",
      "Sample                                                                      \n",
      "PT_14             0.683408    0.226879  0.054035   0.032560         0.003117\n",
      "PT_17             0.693135    0.238211  0.054612   0.013350         0.000693\n",
      "PT_20             0.664699    0.273485  0.045147   0.015280         0.001389\n",
      "PT_22             0.706008    0.148148  0.105844   0.037695         0.002305\n",
      "PT_28             0.770975    0.151912  0.036706   0.034547         0.005861\n",
      "PT_18             0.614545    0.301818  0.072727   0.010909         0.000000\n",
      "PT_14_pan         0.754163    0.203807  0.034100   0.007930         0.000000\n",
      "PT_41             0.743739    0.160622  0.081174   0.011658         0.002807\n",
      "PT_49             0.734352    0.183877  0.067205   0.012980         0.001586\n",
      "PT_50             0.756290    0.179082  0.052623   0.010853         0.001151\n"
     ]
    },
    {
     "data": {
      "image/png": "[encoded data removed]",
      "text/plain": [
       "<Figure size 1200x600 with 1 Axes>"
      ]
     },
     "metadata": {},
     "output_type": "display_data"
    }
   ],
   "source": [
    "# Extraer las observaciones de GEX y AIRR\n",
    "gex_obs = mdata[\"gex\"].obs\n",
    "airr_obs = mdata[\"airr\"].obs\n",
    "\n",
    "# Unir ambas capas basándonos en el índice (cell_id)\n",
    "combined_df = gex_obs.join(airr_obs, how=\"left\")\n",
    "\n",
    "# Todas las células tienen TCR_present=True\n",
    "combined_df[\"TCR_present\"] = True\n",
    "\n",
    "# Calcular el número de células en cada categoría de 'chain_pairing' por paciente\n",
    "chain_pairing_counts = combined_df.groupby([\"Sample\", \"chain_pairing\"]).size().unstack(fill_value=0)\n",
    "\n",
    "# Calcular proporciones\n",
    "chain_pairing_proportions = chain_pairing_counts.div(chain_pairing_counts.sum(axis=1), axis=0)\n",
    "\n",
    "# Definir el orden de categorías\n",
    "category_order = [\n",
    "    \"single pair\", \n",
    "    \"orphan VDJ\", \n",
    "    \"extra VJ\", \n",
    "    \"extra VDJ\", \n",
    "    \"orphan VJ\", \n",
    "    \"two full chains\"\n",
    "]\n",
    "\n",
    "# Asegurarse de que todas las categorías estén presentes\n",
    "available_categories = [cat for cat in category_order if cat in chain_pairing_proportions.columns]\n",
    "missing_categories = [cat for cat in category_order if cat not in chain_pairing_proportions.columns]\n",
    "\n",
    "if missing_categories:\n",
    "    print(f\"Las siguientes categorías no se encontraron en 'chain_pairing' y serán omitidas: {missing_categories}\")\n",
    "\n",
    "# Ajustar category_order para solo incluir categorías disponibles\n",
    "category_order = available_categories\n",
    "\n",
    "# Reordenar las columnas según category_order\n",
    "chain_pairing_proportions = chain_pairing_proportions[category_order]\n",
    "\n",
    "# Mostrar las tablas (opcional)\n",
    "print(\"\\nDistribución de chain_pairing (números):\")\n",
    "print(chain_pairing_counts)\n",
    "\n",
    "print(\"\\nDistribución de chain_pairing (proporciones):\")\n",
    "print(chain_pairing_proportions)\n",
    "\n",
    "# Definir colores para las categorías disponibles\n",
    "color_map = {\n",
    "    \"single pair\": \"brown\",\n",
    "    \"orphan VDJ\": \"red\",\n",
    "    \"extra VJ\": \"orange\",\n",
    "    \"extra VDJ\": \"blue\",\n",
    "    \"orphan VJ\": \"purple\",\n",
    "    \"two full chains\": \"pink\"\n",
    "}\n",
    "\n",
    "# Generar la lista de colores basada en available_categories\n",
    "colors = [color_map.get(cat, \"gray\") for cat in category_order]\n",
    "\n",
    "# Crear la gráfica de barras apiladas\n",
    "ax = chain_pairing_proportions.plot(\n",
    "    kind=\"bar\", \n",
    "    stacked=True, \n",
    "    figsize=(12, 6), \n",
    "    color=colors\n",
    ")\n",
    "\n",
    "plt.title(\"Distribución normalizada de chain_pairing por paciente (células TCR-positivas)\")\n",
    "plt.xlabel(\"Paciente\")\n",
    "plt.ylabel(\"Proporción\")\n",
    "plt.legend(title=\"chain_pairing\", bbox_to_anchor=(1.05, 1), loc='upper left')\n",
    "plt.tight_layout()\n",
    "plt.show()"
   ]
  },
  {
   "cell_type": "code",
   "execution_count": 25,
   "metadata": {},
   "outputs": [
    {
     "name": "stdout",
     "output_type": "stream",
     "text": [
      "chain_pairing\n",
      "single pair        72.010277\n",
      "orphan VDJ         19.558347\n",
      "extra VJ            6.102808\n",
      "extra VDJ           2.098159\n",
      "two full chains     0.230410\n",
      "Name: proportion, dtype: float64\n"
     ]
    }
   ],
   "source": [
    "# Calcular la proporción de cada tipo de 'chain_pairing' y convertir a porcentaje\n",
    "chain_pairing_counts_percentage = mdata[\"airr\"].obs[\"chain_pairing\"].value_counts(normalize=True) * 100\n",
    "\n",
    "# Mostrar las proporciones en porcentaje\n",
    "print(chain_pairing_counts_percentage)"
   ]
  },
  {
   "cell_type": "code",
   "execution_count": null,
   "metadata": {},
   "outputs": [],
   "source": [
    "mdata"
   ]
  },
  {
   "cell_type": "code",
   "execution_count": null,
   "metadata": {},
   "outputs": [],
   "source": [
    "# Guardar el objeto MuData en un archivo .h5mu\n",
    "mdata.write(\"/data/scratch/LAB/enric/Proyecto_pitagoras/Analisis_pitagoras/Results/07_analisis_repertorio/mudata_TCR_GEX_intersected.h5mu\")"
   ]
  },
  {
   "cell_type": "markdown",
   "metadata": {},
   "source": [
    "### Expansion clonal"
   ]
  },
  {
   "cell_type": "code",
   "execution_count": 43,
   "metadata": {},
   "outputs": [],
   "source": [
    "ir.tl.clonal_expansion(\n",
    "    mdata, \n",
    "    expanded_in=\"sample\",  # Expandir dentro de cada muestra\n",
    "    breakpoints=(1, 10, 50, 100, 200, 500),\n",
    "    target_col=\"clone_id\"  # 🔹 Indica que el conteo se hace por clonotipo\n",
    ")"
   ]
  },
  {
   "cell_type": "markdown",
   "metadata": {},
   "source": [
    "#### ESTO HA FUNCIONADO MAL, POR DIVERSAS COMPROBACIONES."
   ]
  },
  {
   "cell_type": "markdown",
   "metadata": {},
   "source": [
    "Lo hacemos a mano, al recuperar orphan VDJ cuenta por chain_pairs y no por clone_id"
   ]
  },
  {
   "cell_type": "code",
   "execution_count": 44,
   "metadata": {},
   "outputs": [
    {
     "name": "stdout",
     "output_type": "stream",
     "text": [
      "                        chain_pairing clone_id  clone_id_size\n",
      "cell_id                                                      \n",
      "AAACCTGAGAAGAAGC-1_PT14   single pair        0             32\n",
      "AAACCTGAGGACAGAA-1_PT14   single pair        1              1\n",
      "AAACCTGAGTGGAGTC-1_PT14   single pair        2              1\n",
      "AAACCTGAGTGTCTCA-1_PT14   single pair        3              1\n",
      "AAACCTGCAAACTGTC-1_PT14      extra VJ        4              1\n",
      "AAACCTGCACAGCCCA-1_PT14    orphan VDJ        5              1\n",
      "AAACCTGCAGACGCCT-1_PT14   single pair        6              1\n",
      "AAACCTGCATCACGAT-1_PT14   single pair        7              7\n",
      "AAACCTGGTAAGGGAA-1_PT14   single pair        8              1\n",
      "AAACCTGGTCATATCG-1_PT14   single pair        9              1\n",
      "AAACCTGGTCATCGGC-1_PT14   single pair       10              3\n",
      "AAACCTGGTGGTGTAG-1_PT14   single pair       11              3\n",
      "AAACCTGGTTAAGGGC-1_PT14   single pair       12              2\n",
      "AAACCTGGTTAGATGA-1_PT14   single pair       13             10\n",
      "AAACCTGTCAGCACAT-1_PT14   single pair       14              1\n",
      "AAACCTGTCTGGTATG-1_PT14   single pair       15              1\n",
      "AAACGGGAGCTGAACG-1_PT14      extra VJ       16              1\n",
      "AAACGGGAGGCATGTG-1_PT14   single pair       17             49\n",
      "AAACGGGAGTAACCCT-1_PT14     extra VDJ       18             89\n",
      "AAACGGGAGTATTGGA-1_PT14    orphan VDJ       19              1\n"
     ]
    }
   ],
   "source": [
    "# 🔹 Contar el número total de células para cada `clone_id`\n",
    "clone_id_counts = mdata[\"airr\"].obs.groupby(\"clone_id\").size()\n",
    "\n",
    "# 🔹 Asignar el nuevo tamaño de clon a cada célula\n",
    "mdata[\"airr\"].obs[\"clone_id_size\"] = mdata[\"airr\"].obs[\"clone_id\"].map(clone_id_counts)\n",
    "\n",
    "# 🔹 Verificar que se haya corregido correctamente\n",
    "print(mdata[\"airr\"].obs[[\"chain_pairing\", \"clone_id\", \"clone_id_size\"]].head(20))"
   ]
  },
  {
   "cell_type": "code",
   "execution_count": 45,
   "metadata": {},
   "outputs": [
    {
     "name": "stdout",
     "output_type": "stream",
     "text": [
      "                        clone_id  clone_id_size clonal_expansion\n",
      "cell_id                                                         \n",
      "AAACCTGAGAAGAAGC-1_PT14        0             32             ≤ 50\n",
      "AAACCTGAGGACAGAA-1_PT14        1              1              ≤ 1\n",
      "AAACCTGAGTGGAGTC-1_PT14        2              1              ≤ 1\n",
      "AAACCTGAGTGTCTCA-1_PT14        3              1              ≤ 1\n",
      "AAACCTGCAAACTGTC-1_PT14        4              1              ≤ 1\n",
      "AAACCTGCACAGCCCA-1_PT14        5              1              ≤ 1\n",
      "AAACCTGCAGACGCCT-1_PT14        6              1              ≤ 1\n",
      "AAACCTGCATCACGAT-1_PT14        7              7             ≤ 10\n",
      "AAACCTGGTAAGGGAA-1_PT14        8              1              ≤ 1\n",
      "AAACCTGGTCATATCG-1_PT14        9              1              ≤ 1\n",
      "AAACCTGGTCATCGGC-1_PT14       10              3             ≤ 10\n",
      "AAACCTGGTGGTGTAG-1_PT14       11              3             ≤ 10\n",
      "AAACCTGGTTAAGGGC-1_PT14       12              2             ≤ 10\n",
      "AAACCTGGTTAGATGA-1_PT14       13             10             ≤ 10\n",
      "AAACCTGTCAGCACAT-1_PT14       14              1              ≤ 1\n",
      "AAACCTGTCTGGTATG-1_PT14       15              1              ≤ 1\n",
      "AAACGGGAGCTGAACG-1_PT14       16              1              ≤ 1\n",
      "AAACGGGAGGCATGTG-1_PT14       17             49             ≤ 50\n",
      "AAACGGGAGTAACCCT-1_PT14       18             89            ≤ 100\n",
      "AAACGGGAGTATTGGA-1_PT14       19              1              ≤ 1\n"
     ]
    }
   ],
   "source": [
    "# 🔹 Definir los breakpoints manualmente\n",
    "breakpoints = [1, 10, 50, 100, 200, 500]\n",
    "\n",
    "# 🔹 Crear una nueva columna con el binning correcto\n",
    "mdata[\"airr\"].obs[\"clonal_expansion\"] = pd.cut(\n",
    "    mdata[\"airr\"].obs[\"clone_id_size\"],\n",
    "    bins=[0] + breakpoints + [float(\"inf\")],  # Definir los rangos correctamente\n",
    "    labels=[f\"≤ {b}\" for b in breakpoints] + [f\"> {breakpoints[-1]}\"]\n",
    ")\n",
    "\n",
    "# 🔹 Verificar los cambios\n",
    "print(mdata[\"airr\"].obs[[\"clone_id\", \"clone_id_size\", \"clonal_expansion\"]].head(20))"
   ]
  },
  {
   "cell_type": "code",
   "execution_count": 46,
   "metadata": {},
   "outputs": [
    {
     "data": {
      "text/plain": [
       "clonal_expansion\n",
       "≤ 1      17345\n",
       "≤ 10     14413\n",
       "≤ 50      7961\n",
       "≤ 100     3316\n",
       "≤ 200     3275\n",
       "≤ 500     1962\n",
       "> 500      771\n",
       "Name: count, dtype: int64"
      ]
     },
     "execution_count": 46,
     "metadata": {},
     "output_type": "execute_result"
    }
   ],
   "source": [
    "mdata[\"airr\"].obs[\"clonal_expansion\"].value_counts()"
   ]
  },
  {
   "cell_type": "code",
   "execution_count": 47,
   "metadata": {},
   "outputs": [
    {
     "data": {
      "text/plain": [
       "<Axes: >"
      ]
     },
     "execution_count": 47,
     "metadata": {},
     "output_type": "execute_result"
    },
    {
     "data": {
      "image/png": "[encoded data removed]",
      "text/plain": [
       "<Figure size 412.8x309.6 with 1 Axes>"
      ]
     },
     "metadata": {},
     "output_type": "display_data"
    }
   ],
   "source": [
    "ir.pl.clonal_expansion(\n",
    "    mdata[\"airr\"], \n",
    "    groupby=\"sample\",\n",
    "    breakpoints=(1,10,50,100,200,500),  # Asegurar los mismos breakpoints\n",
    "    normalize=True,\n",
    "    summarize_by=\"cell\"\n",
    ")"
   ]
  },
  {
   "cell_type": "code",
   "execution_count": 49,
   "metadata": {},
   "outputs": [
    {
     "data": {
      "text/plain": [
       "<Axes: >"
      ]
     },
     "execution_count": 49,
     "metadata": {},
     "output_type": "execute_result"
    },
    {
     "data": {
      "image/png": "[encoded data removed]",
      "text/plain": [
       "<Figure size 412.8x309.6 with 1 Axes>"
      ]
     },
     "metadata": {},
     "output_type": "display_data"
    }
   ],
   "source": [
    "ir.pl.clonal_expansion(\n",
    "    mdata[\"airr\"], \n",
    "    groupby=\"sample\",\n",
    "    breakpoints=(1,2,5,10,50),  # diferentes breakpoints\n",
    "    normalize=True,\n",
    "    summarize_by=\"clone_id\"\n",
    ")"
   ]
  },
  {
   "cell_type": "markdown",
   "metadata": {},
   "source": [
    " ## Estudio de la diversidad clonal:"
   ]
  },
  {
   "cell_type": "code",
   "execution_count": 50,
   "metadata": {},
   "outputs": [],
   "source": [
    "from scipy.stats import entropy"
   ]
  },
  {
   "cell_type": "code",
   "execution_count": 51,
   "metadata": {},
   "outputs": [
    {
     "name": "stdout",
     "output_type": "stream",
     "text": [
      "           Riqueza clonal  Shannon  Simpson  Gini\n",
      "PT_50                2724    7.207    0.999  0.83\n",
      "PT_49                2801    7.563    0.999  0.79\n",
      "PT_41                2222    7.309    0.999  0.75\n",
      "PT_28                1956    7.692    0.999  0.74\n",
      "PT_17                2275    7.651    0.999  0.73\n",
      "PT_14                3041    7.588    0.999  0.73\n",
      "PT_22                2344    7.766    0.999  0.71\n",
      "PT_20                4038    7.501    0.999  0.70\n",
      "PT_14_pan             722    6.267    0.997  0.67\n",
      "PT_18                 200    4.880    0.988  0.60\n"
     ]
    }
   ],
   "source": [
    "# Función para calcular el Índice de Gini\n",
    "def gini_index(values):\n",
    "    \"\"\" Calcula el Índice de Gini para una distribución \"\"\"\n",
    "    values = np.sort(values)  # Ordenar valores en orden ascendente\n",
    "    n = len(values)\n",
    "    cumulative_values = np.cumsum(values)\n",
    "    return round(1 - (2 * np.sum(cumulative_values) / (n * np.sum(values))) + (1 / n), 2)  # Redondeo a 2 decimales\n",
    "\n",
    "# Extraer datos relevantes de mdata[\"airr\"].obs\n",
    "df = mdata[\"airr\"].obs[[\"sample\", \"clone_id\", \"clone_id_size\"]].copy()\n",
    "\n",
    "# Calcular métricas de diversidad por paciente\n",
    "diversity_metrics = {}\n",
    "for sample, group in df.groupby(\"sample\"):\n",
    "    clone_sizes = group[\"clone_id_size\"].values\n",
    "    proportions = clone_sizes / clone_sizes.sum()  # p_i valores para Shannon y Simpson\n",
    "    shannon_index = round(entropy(proportions), 3)  # Índice de Shannon redondeado\n",
    "    simpson_index = round(1 - np.sum(proportions**2), 3)  # Índice de Simpson redondeado\n",
    "    gini_index_value = gini_index(clone_sizes)  # Índice de Gini redondeado\n",
    "    \n",
    "    diversity_metrics[sample] = {\n",
    "        \"Riqueza clonal\": len(group[\"clone_id\"].unique()),\n",
    "        \"Shannon\": shannon_index,\n",
    "        \"Simpson\": simpson_index,\n",
    "        \"Gini\": gini_index_value\n",
    "    }\n",
    "\n",
    "# Convertir resultados a DataFrame y redondear valores numéricos a 2 decimales\n",
    "diversity_df = pd.DataFrame.from_dict(diversity_metrics, orient=\"index\")\n",
    "diversity_df = diversity_df.round(3)  # Asegurar redondeo de todas las columnas\n",
    "\n",
    "# Ordenar por Gini de mayor a menor\n",
    "diversity_df = diversity_df.sort_values(by=\"Gini\", ascending=False)\n",
    "\n",
    "# Mostrar resultados\n",
    "print(diversity_df)"
   ]
  },
  {
   "cell_type": "markdown",
   "metadata": {},
   "source": [
    "Calculamos la frecuencia del clon_id por paciente:"
   ]
  },
  {
   "cell_type": "code",
   "execution_count": 52,
   "metadata": {},
   "outputs": [],
   "source": [
    "# 🔹 Copiar los datos relevantes\n",
    "df = mdata[\"airr\"].obs[[\"sample\", \"clone_id\", \"clone_id_size\"]].copy()\n",
    "\n",
    "# 🔹 Sumar todas las células dentro de cada paciente (sample)\n",
    "total_cells_per_patient = df.groupby(\"sample\")[\"clone_id_size\"].transform(\"sum\")\n",
    "\n",
    "# 🔹 Calcular la frecuencia de cada clone_id dentro de cada paciente\n",
    "df[\"clone_id_freq\"] = df[\"clone_id_size\"] / total_cells_per_patient\n",
    "\n",
    "# 🔹 Agregar esto de vuelta a `mdata[\"airr\"].obs`\n",
    "mdata[\"airr\"].obs[\"clone_id_freq\"] = df[\"clone_id_freq\"]\n"
   ]
  },
  {
   "cell_type": "code",
   "execution_count": 53,
   "metadata": {},
   "outputs": [
    {
     "name": "stdout",
     "output_type": "stream",
     "text": [
      "                                sample clone_id  clone_id_size  clone_id_freq\n",
      "cell_id                                                                      \n",
      "CTCGTACAGGTGTGGT-1_PT14_pan  PT_14_pan    14041             55        0.00575\n",
      "ACAGCTATCACTATTC-1_PT14_pan  PT_14_pan    14041             55        0.00575\n",
      "TGGCTGGAGGGCTCTC-1_PT14_pan  PT_14_pan    14041             55        0.00575\n",
      "CGACTTCAGTTAAGTG-1_PT14_pan  PT_14_pan    14041             55        0.00575\n",
      "TGGGAAGCACACTGCG-1_PT14_pan  PT_14_pan    14041             55        0.00575\n",
      "CTGTTTAAGTATCGAA-1_PT14_pan  PT_14_pan    14041             55        0.00575\n",
      "AAGGAGCGTGCAACTT-1_PT14_pan  PT_14_pan    14041             55        0.00575\n",
      "CTTAACTCACCACGTG-1_PT14_pan  PT_14_pan    14041             55        0.00575\n",
      "GACGGCTTCTATCCCG-1_PT14_pan  PT_14_pan    14041             55        0.00575\n",
      "CTGTTTACATGAGCGA-1_PT14_pan  PT_14_pan    14041             55        0.00575\n",
      "ACGATGTGTGGTCTCG-1_PT14_pan  PT_14_pan    14041             55        0.00575\n",
      "GCTTCCAGTACTTAGC-1_PT14_pan  PT_14_pan    14041             55        0.00575\n",
      "GCGCGATAGTAGGCCA-1_PT14_pan  PT_14_pan    14041             55        0.00575\n",
      "CAGCATAGTACATGTC-1_PT14_pan  PT_14_pan    14041             55        0.00575\n",
      "CAGCGACTCTAACTCT-1_PT14_pan  PT_14_pan    14041             55        0.00575\n",
      "GATGAAATCTGCAAGT-1_PT14_pan  PT_14_pan    14041             55        0.00575\n",
      "GATTCAGGTGCACGAA-1_PT14_pan  PT_14_pan    14041             55        0.00575\n",
      "CCCAGTTCACATTTCT-1_PT14_pan  PT_14_pan    14041             55        0.00575\n",
      "CCATGTCTCTCAACTT-1_PT14_pan  PT_14_pan    14041             55        0.00575\n",
      "TTTGGTTCAGTCAGAG-1_PT14_pan  PT_14_pan    14041             55        0.00575\n"
     ]
    }
   ],
   "source": [
    "# Filtrar solo por el paciente \"PT_14_pan\" y ordenar por frecuencia del clon de mayor a menor\n",
    "df_sorted_pt14_pan = df[df[\"sample\"] == \"PT_14_pan\"].sort_values(by=\"clone_id_freq\", ascending=False)\n",
    "\n",
    "# Mostrar las primeras 20 filas\n",
    "print(df_sorted_pt14_pan.head(20))"
   ]
  },
  {
   "cell_type": "code",
   "execution_count": 54,
   "metadata": {},
   "outputs": [],
   "source": [
    "mdata.write(\"/data/scratch/LAB/enric/Proyecto_pitagoras/Analisis_pitagoras/Results/07_analisis_repertorio/mudata_TCR_GEX_intersected.h5mu\")"
   ]
  },
  {
   "cell_type": "code",
   "execution_count": 55,
   "metadata": {},
   "outputs": [
    {
     "data": {
      "text/html": [
       "<div>\n",
       "<style scoped>\n",
       "    .dataframe tbody tr th:only-of-type {\n",
       "        vertical-align: middle;\n",
       "    }\n",
       "\n",
       "    .dataframe tbody tr th {\n",
       "        vertical-align: top;\n",
       "    }\n",
       "\n",
       "    .dataframe thead th {\n",
       "        text-align: right;\n",
       "    }\n",
       "</style>\n",
       "<table border=\"1\" class=\"dataframe\">\n",
       "  <thead>\n",
       "    <tr style=\"text-align: right;\">\n",
       "      <th></th>\n",
       "      <th>sample</th>\n",
       "      <th>receptor_type</th>\n",
       "      <th>receptor_subtype</th>\n",
       "      <th>chain_pairing</th>\n",
       "      <th>clone_id</th>\n",
       "      <th>clone_id_size</th>\n",
       "      <th>clonal_expansion</th>\n",
       "      <th>clone_id_freq</th>\n",
       "    </tr>\n",
       "    <tr>\n",
       "      <th>cell_id</th>\n",
       "      <th></th>\n",
       "      <th></th>\n",
       "      <th></th>\n",
       "      <th></th>\n",
       "      <th></th>\n",
       "      <th></th>\n",
       "      <th></th>\n",
       "      <th></th>\n",
       "    </tr>\n",
       "  </thead>\n",
       "  <tbody>\n",
       "    <tr>\n",
       "      <th>AAACCTGAGAAGAAGC-1_PT14</th>\n",
       "      <td>PT_14</td>\n",
       "      <td>TCR</td>\n",
       "      <td>TRA+TRB</td>\n",
       "      <td>single pair</td>\n",
       "      <td>0</td>\n",
       "      <td>32</td>\n",
       "      <td>≤ 50</td>\n",
       "      <td>0.000424</td>\n",
       "    </tr>\n",
       "    <tr>\n",
       "      <th>AAACCTGAGGACAGAA-1_PT14</th>\n",
       "      <td>PT_14</td>\n",
       "      <td>TCR</td>\n",
       "      <td>TRA+TRB</td>\n",
       "      <td>single pair</td>\n",
       "      <td>1</td>\n",
       "      <td>1</td>\n",
       "      <td>≤ 1</td>\n",
       "      <td>0.000013</td>\n",
       "    </tr>\n",
       "    <tr>\n",
       "      <th>AAACCTGAGTGGAGTC-1_PT14</th>\n",
       "      <td>PT_14</td>\n",
       "      <td>TCR</td>\n",
       "      <td>TRA+TRB</td>\n",
       "      <td>single pair</td>\n",
       "      <td>2</td>\n",
       "      <td>1</td>\n",
       "      <td>≤ 1</td>\n",
       "      <td>0.000013</td>\n",
       "    </tr>\n",
       "    <tr>\n",
       "      <th>AAACCTGAGTGTCTCA-1_PT14</th>\n",
       "      <td>PT_14</td>\n",
       "      <td>TCR</td>\n",
       "      <td>TRA+TRB</td>\n",
       "      <td>single pair</td>\n",
       "      <td>3</td>\n",
       "      <td>1</td>\n",
       "      <td>≤ 1</td>\n",
       "      <td>0.000013</td>\n",
       "    </tr>\n",
       "    <tr>\n",
       "      <th>AAACCTGCAAACTGTC-1_PT14</th>\n",
       "      <td>PT_14</td>\n",
       "      <td>TCR</td>\n",
       "      <td>TRA+TRB</td>\n",
       "      <td>extra VJ</td>\n",
       "      <td>4</td>\n",
       "      <td>1</td>\n",
       "      <td>≤ 1</td>\n",
       "      <td>0.000013</td>\n",
       "    </tr>\n",
       "    <tr>\n",
       "      <th>...</th>\n",
       "      <td>...</td>\n",
       "      <td>...</td>\n",
       "      <td>...</td>\n",
       "      <td>...</td>\n",
       "      <td>...</td>\n",
       "      <td>...</td>\n",
       "      <td>...</td>\n",
       "      <td>...</td>\n",
       "    </tr>\n",
       "    <tr>\n",
       "      <th>TTTGTCAGTGTGGCTC-1_PT50</th>\n",
       "      <td>PT_50</td>\n",
       "      <td>TCR</td>\n",
       "      <td>TRA+TRB</td>\n",
       "      <td>single pair</td>\n",
       "      <td>19839</td>\n",
       "      <td>70</td>\n",
       "      <td>≤ 100</td>\n",
       "      <td>0.000237</td>\n",
       "    </tr>\n",
       "    <tr>\n",
       "      <th>TTTGTCATCGTGGGAA-1_PT50</th>\n",
       "      <td>PT_50</td>\n",
       "      <td>TCR</td>\n",
       "      <td>TRA+TRB</td>\n",
       "      <td>single pair</td>\n",
       "      <td>19835</td>\n",
       "      <td>241</td>\n",
       "      <td>≤ 500</td>\n",
       "      <td>0.000817</td>\n",
       "    </tr>\n",
       "    <tr>\n",
       "      <th>TTTGTCATCTGCTGCT-1_PT50</th>\n",
       "      <td>PT_50</td>\n",
       "      <td>TCR</td>\n",
       "      <td>TRA+TRB</td>\n",
       "      <td>single pair</td>\n",
       "      <td>20128</td>\n",
       "      <td>16</td>\n",
       "      <td>≤ 50</td>\n",
       "      <td>0.000054</td>\n",
       "    </tr>\n",
       "    <tr>\n",
       "      <th>TTTGTCATCTTGTTTG-1_PT50</th>\n",
       "      <td>PT_50</td>\n",
       "      <td>TCR</td>\n",
       "      <td>TRA+TRB</td>\n",
       "      <td>single pair</td>\n",
       "      <td>19804</td>\n",
       "      <td>421</td>\n",
       "      <td>≤ 500</td>\n",
       "      <td>0.001427</td>\n",
       "    </tr>\n",
       "    <tr>\n",
       "      <th>TTTGTCATCTTTAGTC-1_PT50</th>\n",
       "      <td>PT_50</td>\n",
       "      <td>TCR</td>\n",
       "      <td>TRA+TRB</td>\n",
       "      <td>single pair</td>\n",
       "      <td>21046</td>\n",
       "      <td>3</td>\n",
       "      <td>≤ 10</td>\n",
       "      <td>0.000010</td>\n",
       "    </tr>\n",
       "  </tbody>\n",
       "</table>\n",
       "<p>49043 rows × 8 columns</p>\n",
       "</div>"
      ],
      "text/plain": [
       "                        sample receptor_type receptor_subtype chain_pairing  \\\n",
       "cell_id                                                                       \n",
       "AAACCTGAGAAGAAGC-1_PT14  PT_14           TCR          TRA+TRB   single pair   \n",
       "AAACCTGAGGACAGAA-1_PT14  PT_14           TCR          TRA+TRB   single pair   \n",
       "AAACCTGAGTGGAGTC-1_PT14  PT_14           TCR          TRA+TRB   single pair   \n",
       "AAACCTGAGTGTCTCA-1_PT14  PT_14           TCR          TRA+TRB   single pair   \n",
       "AAACCTGCAAACTGTC-1_PT14  PT_14           TCR          TRA+TRB      extra VJ   \n",
       "...                        ...           ...              ...           ...   \n",
       "TTTGTCAGTGTGGCTC-1_PT50  PT_50           TCR          TRA+TRB   single pair   \n",
       "TTTGTCATCGTGGGAA-1_PT50  PT_50           TCR          TRA+TRB   single pair   \n",
       "TTTGTCATCTGCTGCT-1_PT50  PT_50           TCR          TRA+TRB   single pair   \n",
       "TTTGTCATCTTGTTTG-1_PT50  PT_50           TCR          TRA+TRB   single pair   \n",
       "TTTGTCATCTTTAGTC-1_PT50  PT_50           TCR          TRA+TRB   single pair   \n",
       "\n",
       "                        clone_id  clone_id_size clonal_expansion  \\\n",
       "cell_id                                                            \n",
       "AAACCTGAGAAGAAGC-1_PT14        0             32             ≤ 50   \n",
       "AAACCTGAGGACAGAA-1_PT14        1              1              ≤ 1   \n",
       "AAACCTGAGTGGAGTC-1_PT14        2              1              ≤ 1   \n",
       "AAACCTGAGTGTCTCA-1_PT14        3              1              ≤ 1   \n",
       "AAACCTGCAAACTGTC-1_PT14        4              1              ≤ 1   \n",
       "...                          ...            ...              ...   \n",
       "TTTGTCAGTGTGGCTC-1_PT50    19839             70            ≤ 100   \n",
       "TTTGTCATCGTGGGAA-1_PT50    19835            241            ≤ 500   \n",
       "TTTGTCATCTGCTGCT-1_PT50    20128             16             ≤ 50   \n",
       "TTTGTCATCTTGTTTG-1_PT50    19804            421            ≤ 500   \n",
       "TTTGTCATCTTTAGTC-1_PT50    21046              3             ≤ 10   \n",
       "\n",
       "                         clone_id_freq  \n",
       "cell_id                                 \n",
       "AAACCTGAGAAGAAGC-1_PT14       0.000424  \n",
       "AAACCTGAGGACAGAA-1_PT14       0.000013  \n",
       "AAACCTGAGTGGAGTC-1_PT14       0.000013  \n",
       "AAACCTGAGTGTCTCA-1_PT14       0.000013  \n",
       "AAACCTGCAAACTGTC-1_PT14       0.000013  \n",
       "...                                ...  \n",
       "TTTGTCAGTGTGGCTC-1_PT50       0.000237  \n",
       "TTTGTCATCGTGGGAA-1_PT50       0.000817  \n",
       "TTTGTCATCTGCTGCT-1_PT50       0.000054  \n",
       "TTTGTCATCTTGTTTG-1_PT50       0.001427  \n",
       "TTTGTCATCTTTAGTC-1_PT50       0.000010  \n",
       "\n",
       "[49043 rows x 8 columns]"
      ]
     },
     "execution_count": 55,
     "metadata": {},
     "output_type": "execute_result"
    }
   ],
   "source": [
    "mdata[\"airr\"].obs"
   ]
  },
  {
   "cell_type": "code",
   "execution_count": 5,
   "metadata": {},
   "outputs": [
    {
     "name": "stdout",
     "output_type": "stream",
     "text": [
      "Sample\n",
      "PT_14        5774\n",
      "PT_17        5768\n",
      "PT_20        5759\n",
      "PT_22        6075\n",
      "PT_28        6484\n",
      "PT_18         275\n",
      "PT_14_pan    1261\n",
      "PT_41        4632\n",
      "PT_49        6934\n",
      "PT_50        6081\n",
      "Name: count, dtype: int64\n"
     ]
    }
   ],
   "source": [
    "# Cargar el archivo .h5mu\n",
    "file_path = \"/data/scratch/LAB/enric/Proyecto_pitagoras/Analisis_pitagoras/Results/07_analisis_repertorio/mudata_TCR_GEX_intersected.h5mu\"\n",
    "mdata = mu.read_h5mu(file_path)\n",
    "\n",
    "# Contar el número de células por paciente en la modalidad GEX y ordenar por nombre de paciente\n",
    "cell_counts = mdata['gex'].obs['Sample'].value_counts().sort_index()\n",
    "\n",
    "# Mostrar el resultado\n",
    "print(cell_counts)"
   ]
  },
  {
   "cell_type": "code",
   "execution_count": 7,
   "metadata": {},
   "outputs": [
    {
     "data": {
      "text/html": [
       "<pre>MuData object with n_obs × n_vars = 49043 × 23209\n",
       "  2 modalities\n",
       "    gex:\t49043 x 23209\n",
       "      obs:\t&#x27;n_genes_by_counts&#x27;, &#x27;log1p_n_genes_by_counts&#x27;, &#x27;total_counts&#x27;, &#x27;log1p_total_counts&#x27;, &#x27;pct_counts_in_top_20_genes&#x27;, &#x27;total_counts_mt&#x27;, &#x27;log1p_total_counts_mt&#x27;, &#x27;pct_counts_mt&#x27;, &#x27;prediction&#x27;, &#x27;doublet&#x27;, &#x27;doublet_filtered&#x27;, &#x27;Sample&#x27;, &#x27;n_genes&#x27;, &#x27;total_counts_ribo&#x27;, &#x27;log1p_total_counts_ribo&#x27;, &#x27;pct_counts_ribo&#x27;\n",
       "      layers:\t&#x27;counts_soupx_crude&#x27;, &#x27;original_counts&#x27;\n",
       "    airr:\t49043 x 0\n",
       "      obs:\t&#x27;sample&#x27;, &#x27;receptor_type&#x27;, &#x27;receptor_subtype&#x27;, &#x27;chain_pairing&#x27;, &#x27;clone_id&#x27;, &#x27;clone_id_size&#x27;, &#x27;clonal_expansion&#x27;, &#x27;clone_id_freq&#x27;\n",
       "      uns:\t&#x27;chain_indices&#x27;, &#x27;clone_id&#x27;, &#x27;ir_dist_nt_identity&#x27;\n",
       "      obsm:\t&#x27;airr&#x27;, &#x27;chain_indices&#x27;</pre>"
      ],
      "text/plain": [
       "MuData object with n_obs × n_vars = 49043 × 23209\n",
       "  2 modalities\n",
       "    gex:\t49043 x 23209\n",
       "      obs:\t'n_genes_by_counts', 'log1p_n_genes_by_counts', 'total_counts', 'log1p_total_counts', 'pct_counts_in_top_20_genes', 'total_counts_mt', 'log1p_total_counts_mt', 'pct_counts_mt', 'prediction', 'doublet', 'doublet_filtered', 'Sample', 'n_genes', 'total_counts_ribo', 'log1p_total_counts_ribo', 'pct_counts_ribo'\n",
       "      layers:\t'counts_soupx_crude', 'original_counts'\n",
       "    airr:\t49043 x 0\n",
       "      obs:\t'sample', 'receptor_type', 'receptor_subtype', 'chain_pairing', 'clone_id', 'clone_id_size', 'clonal_expansion', 'clone_id_freq'\n",
       "      uns:\t'chain_indices', 'clone_id', 'ir_dist_nt_identity'\n",
       "      obsm:\t'airr', 'chain_indices'"
      ]
     },
     "execution_count": 7,
     "metadata": {},
     "output_type": "execute_result"
    }
   ],
   "source": [
    "mdata"
   ]
  },
  {
   "cell_type": "code",
   "execution_count": 8,
   "metadata": {},
   "outputs": [
    {
     "name": "stdout",
     "output_type": "stream",
     "text": [
      "           Num_Cells  Unique_Clonotypes\n",
      "sample                                 \n",
      "PT_14           5774               3041\n",
      "PT_14_pan       1261                722\n",
      "PT_17           5768               2275\n",
      "PT_18            275                200\n",
      "PT_20           5759               4038\n",
      "PT_22           6075               2344\n",
      "PT_28           6484               1956\n",
      "PT_41           4632               2222\n",
      "PT_49           6934               2801\n",
      "PT_50           6081               2724\n"
     ]
    }
   ],
   "source": [
    "import muon as mu\n",
    "import pandas as pd\n",
    "\n",
    "# Cargar el archivo .h5mu\n",
    "file_path = \"/data/scratch/LAB/enric/Proyecto_pitagoras/Analisis_pitagoras/Results/07_analisis_repertorio/mudata_TCR_GEX_intersected.h5mu\"\n",
    "mdata = mu.read_h5mu(file_path)\n",
    "\n",
    "# Obtener el número de células por paciente dentro de la capa airr\n",
    "cell_counts_airr = mdata['airr'].obs['sample'].value_counts()\n",
    "\n",
    "# Obtener el número de clonotipos únicos (clone_id) por paciente en airr\n",
    "clonotype_counts_airr = mdata['airr'].obs.groupby('sample')['clone_id'].nunique()\n",
    "\n",
    "# Combinar ambos resultados en un DataFrame\n",
    "summary_airr = pd.DataFrame({'Num_Cells': cell_counts_airr, 'Unique_Clonotypes': clonotype_counts_airr}).sort_index()\n",
    "\n",
    "# Mostrar el resultado\n",
    "print(summary_airr)\n"
   ]
  }
 ],
 "metadata": {
  "kernelspec": {
   "display_name": "Python (dandelion)",
   "language": "python",
   "name": "dandelion"
  },
  "language_info": {
   "codemirror_mode": {
    "name": "ipython",
    "version": 3
   },
   "file_extension": ".py",
   "mimetype": "text/x-python",
   "name": "python",
   "nbconvert_exporter": "python",
   "pygments_lexer": "ipython3",
   "version": "3.11.11"
  }
 },
 "nbformat": 4,
 "nbformat_minor": 4
}
